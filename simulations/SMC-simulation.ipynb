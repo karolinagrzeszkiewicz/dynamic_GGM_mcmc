{
 "cells": [
  {
   "cell_type": "code",
   "execution_count": 220,
   "metadata": {},
   "outputs": [],
   "source": [
    "using LinearAlgebra\n",
    "using Statistics\n",
    "using Distributions\n",
    "using SpecialFunctions\n",
    "using Combinatorics\n",
    "using Plots\n",
    "using ProximalOperators"
   ]
  },
  {
   "cell_type": "code",
   "execution_count": 308,
   "metadata": {},
   "outputs": [
    {
     "name": "stderr",
     "output_type": "stream",
     "text": [
      "WARNING: replacing module graph_decomposition.\n",
      "WARNING: replacing module graph_decomposition.\n"
     ]
    },
    {
     "data": {
      "text/plain": [
       "logIno (generic function with 1 method)"
      ]
     },
     "execution_count": 308,
     "metadata": {},
     "output_type": "execute_result"
    }
   ],
   "source": [
    "include(\"./graph_decomposition.jl\")\n",
    "include(\"./normalising_constant_mc.jl\")\n",
    "include(\"./normalising_constant_laplace.jl\")\n",
    "include(\"./helperfunctions.jl\")\n",
    "include(\"particle_MCMC.jl\")"
   ]
  },
  {
   "cell_type": "markdown",
   "metadata": {},
   "source": [
    "# Generate precision matrices and distributions"
   ]
  },
  {
   "cell_type": "code",
   "execution_count": 3,
   "metadata": {},
   "outputs": [
    {
     "data": {
      "text/plain": [
       "10×10 Array{Float64,2}:\n",
       " 1.0  0.0  0.0  0.0  0.0  0.0  0.0  0.0  0.0  0.0\n",
       " 0.0  1.0  0.0  0.0  0.0  0.0  0.0  0.0  0.0  0.0\n",
       " 0.0  0.0  1.0  0.0  0.0  0.0  0.0  0.0  0.0  0.0\n",
       " 0.0  0.0  0.0  1.0  0.0  0.0  0.0  0.0  0.0  0.0\n",
       " 0.0  0.0  0.0  0.0  1.0  0.0  0.0  0.0  0.0  0.0\n",
       " 0.0  0.0  0.0  0.0  0.0  1.0  0.0  0.0  0.0  0.0\n",
       " 0.0  0.0  0.0  0.0  0.0  0.0  1.0  0.0  0.0  0.0\n",
       " 0.0  0.0  0.0  0.0  0.0  0.0  0.0  1.0  0.0  0.0\n",
       " 0.0  0.0  0.0  0.0  0.0  0.0  0.0  0.0  1.0  0.0\n",
       " 0.0  0.0  0.0  0.0  0.0  0.0  0.0  0.0  0.0  1.0"
      ]
     },
     "execution_count": 3,
     "metadata": {},
     "output_type": "execute_result"
    }
   ],
   "source": [
    "n_nodes = 10\n",
    "mean = zeros(n_nodes)\n",
    "#covariance matrix - precision matrix is its inverse which is also identity\n",
    "Id = Matrix(1.0I, n_nodes, n_nodes)"
   ]
  },
  {
   "cell_type": "code",
   "execution_count": 140,
   "metadata": {},
   "outputs": [],
   "source": [
    "P1 = copy(Id)\n",
    "for i in 1:(n_nodes - 1)\n",
    "    P1[i, i + 1] = 0.5\n",
    "    P1[i + 1, i] = 0.5\n",
    "end\n",
    "for i in 1:(n_nodes - 2)\n",
    "    P1[i, i + 2] = 0.4\n",
    "    P1[i + 2, i] = 0.4\n",
    "end"
   ]
  },
  {
   "cell_type": "code",
   "execution_count": 145,
   "metadata": {},
   "outputs": [
    {
     "data": {
      "text/plain": [
       "FullNormal(\n",
       "dim: 10\n",
       "μ: [0.0, 0.0, 0.0, 0.0, 0.0, 0.0, 0.0, 0.0, 0.0, 0.0]\n",
       "Σ: [1.0 0.5 … 0.0 0.0; 0.5 1.0 … 0.0 0.0; … ; 0.0 0.0 … 1.0 0.5; 0.0 0.0 … 0.5 1.0]\n",
       ")\n"
      ]
     },
     "execution_count": 145,
     "metadata": {},
     "output_type": "execute_result"
    }
   ],
   "source": [
    "distr1 = MvNormal(zeros(n_nodes), P1)"
   ]
  },
  {
   "cell_type": "code",
   "execution_count": 157,
   "metadata": {},
   "outputs": [
    {
     "data": {
      "text/plain": [
       "ZeroMeanFullNormalCanon(\n",
       "μ: 10-element Zeros{Float64}\n",
       "h: 10-element Zeros{Float64}\n",
       "J: [1.0 0.5 … 0.0 0.0; 0.5 1.0 … 0.0 0.0; … ; 0.0 0.0 … 1.0 0.5; 0.0 0.0 … 0.5 1.0]\n",
       ")\n"
      ]
     },
     "execution_count": 157,
     "metadata": {},
     "output_type": "execute_result"
    }
   ],
   "source": [
    "dist1 = MvNormalCanon(P1)"
   ]
  },
  {
   "cell_type": "code",
   "execution_count": 158,
   "metadata": {},
   "outputs": [
    {
     "data": {
      "text/plain": [
       "10-element Array{Float64,1}:\n",
       "  0.4224870639363323\n",
       "  0.044758002463508306\n",
       "  0.2586279536271129\n",
       " -1.4392653698721827\n",
       "  2.181106692597452\n",
       " -1.3185097913234998\n",
       " -2.8171644808100087\n",
       "  0.5947312312947794\n",
       "  1.9825795526367438\n",
       " -1.0160640888779264"
      ]
     },
     "execution_count": 158,
     "metadata": {},
     "output_type": "execute_result"
    }
   ],
   "source": [
    "rand(dist1)"
   ]
  },
  {
   "cell_type": "code",
   "execution_count": 5,
   "metadata": {},
   "outputs": [
    {
     "data": {
      "text/plain": [
       "diagonal_pairs (generic function with 1 method)"
      ]
     },
     "execution_count": 5,
     "metadata": {},
     "output_type": "execute_result"
    }
   ],
   "source": [
    "#first and second off-diagonal elements\n",
    "\n",
    "function diagonal_pairs(n_nodes)\n",
    "    N_edges = (n_nodes - 1) + (n_nodes - 2)\n",
    "    res = [fill(1, 1) for i in 1:N_edges]\n",
    "    counter = 1\n",
    "    for i in 1:(n_nodes - 1)\n",
    "        res[counter] = [i, i+1]\n",
    "        counter += 1\n",
    "        #push!(res, [i+1, i])\n",
    "    end\n",
    "    for i in 1:(n_nodes - 2)\n",
    "        res[counter] = [i, i+2]\n",
    "        counter += 1\n",
    "        #push!(res, [i+2, i])\n",
    "    end\n",
    "    return res\n",
    "end"
   ]
  },
  {
   "cell_type": "code",
   "execution_count": 6,
   "metadata": {},
   "outputs": [
    {
     "data": {
      "text/plain": [
       "offdiagonal_pairs (generic function with 1 method)"
      ]
     },
     "execution_count": 6,
     "metadata": {},
     "output_type": "execute_result"
    }
   ],
   "source": [
    "#other elements 3rd 4th off-diagonal etc\n",
    "\n",
    "function offdiagonal_pairs(n_nodes)\n",
    "    \n",
    "    N_edges = Int64((n_nodes-2)*(n_nodes-3)/2)\n",
    "\n",
    "    res = [fill(1, 1) for i in 1:N_edges]\n",
    "\n",
    "      sum = 0\n",
    "\n",
    "      for i in 1:(n_nodes-1)\n",
    "\n",
    "        for j in (i+3):n_nodes\n",
    "\n",
    "          res[sum+j-(i+2)] = [i,j]\n",
    "\n",
    "        end\n",
    "\n",
    "        sum = sum + n_nodes - (i+2)\n",
    "\n",
    "      end\n",
    "\n",
    "    return res\n",
    "end\n",
    "\n"
   ]
  },
  {
   "cell_type": "code",
   "execution_count": 217,
   "metadata": {},
   "outputs": [
    {
     "ename": "LoadError",
     "evalue": "syntax: missing comma or ) in argument list",
     "output_type": "error",
     "traceback": [
      "syntax: missing comma or ) in argument list",
      "",
      "Stacktrace:",
      " [1] top-level scope at In[217]:36",
      " [2] include_string(::Function, ::Module, ::String, ::String) at ./loading.jl:1091",
      " [3] execute_code(::String, ::String) at /Users/karolinagrzeszkiewicz/.julia/packages/IJulia/a1SNk/src/execute_request.jl:27",
      " [4] execute_request(::ZMQ.Socket, ::IJulia.Msg) at /Users/karolinagrzeszkiewicz/.julia/packages/IJulia/a1SNk/src/execute_request.jl:86",
      " [5] #invokelatest#1 at ./essentials.jl:710 [inlined]",
      " [6] invokelatest at ./essentials.jl:709 [inlined]",
      " [7] eventloop(::ZMQ.Socket) at /Users/karolinagrzeszkiewicz/.julia/packages/IJulia/a1SNk/src/eventloop.jl:8",
      " [8] (::IJulia.var\"#15#18\")() at ./task.jl:356"
     ]
    }
   ],
   "source": [
    "#to get P2 select 5 edges at random (non-diagonal) and set them equal to 0\n",
    "#then add 5 edges (set the value equal to 0.5) not present in P1\n",
    "\n",
    "function mutate(P)\n",
    "    \n",
    "    Ppr = copy(P)\n",
    "    \n",
    "    ndelete = Int64(ceil(n_nodes / 2))\n",
    "    \n",
    "    nadd = Int64(ceil(n_nodes / 2))\n",
    "    \n",
    "    diagonal = diagonal_pairs(n_nodes)\n",
    "    offdiagonal = offdiagonal_pairs(n_nodes)\n",
    "    \n",
    "    delete_edges = sample(diagonal, ndelete, replace=false)\n",
    "    \n",
    "    add_edges = sample(offdiagonal, nadd, replace=false)\n",
    "    \n",
    "    for i in 1:ndelete\n",
    "        \n",
    "        edge = delete_edges[i]\n",
    "        fst = edge[1]\n",
    "        snd = edge[2]\n",
    "        Ppr[fst, snd] = 0\n",
    "        Ppr[snd, fst] = 0\n",
    "    end\n",
    "    \n",
    "    for i in 1:nadd\n",
    "        \n",
    "        edge = add_edges[i]\n",
    "        fst = edge[1]\n",
    "        snd = edge[2]\n",
    "        flag = rand(Uniform(0,1))\n",
    "        if flag < 0.5\n",
    "            val = rand(Uniform(0.4, 0.6)\n",
    "        else\n",
    "            val = rand(Uniform(-0.6, -0.4) \n",
    "        end\n",
    "        Ppr[fst, snd] = val\n",
    "        Ppr[snd, fst] = val\n",
    "    end\n",
    "    \n",
    "    #Pp, _ = prox(IndPSD(), Ppr)\n",
    "        \n",
    "    return(Ppr)\n",
    "    \n",
    "end"
   ]
  },
  {
   "cell_type": "code",
   "execution_count": 218,
   "metadata": {},
   "outputs": [
    {
     "data": {
      "text/plain": [
       "10×10 Array{Float64,2}:\n",
       " 1.0  0.5  0.0  0.0  0.5  0.0  0.0  0.0  0.5  0.5\n",
       " 0.5  1.0  0.5  0.4  0.0  0.0  0.0  0.5  0.0  0.0\n",
       " 0.0  0.5  1.0  0.0  0.4  0.5  0.0  0.0  0.0  0.0\n",
       " 0.0  0.4  0.0  1.0  0.5  0.4  0.0  0.0  0.0  0.0\n",
       " 0.5  0.0  0.4  0.5  1.0  0.5  0.4  0.0  0.0  0.0\n",
       " 0.0  0.0  0.5  0.4  0.5  1.0  0.0  0.4  0.0  0.0\n",
       " 0.0  0.0  0.0  0.0  0.4  0.0  1.0  0.5  0.0  0.0\n",
       " 0.0  0.5  0.0  0.0  0.0  0.4  0.5  1.0  0.5  0.4\n",
       " 0.5  0.0  0.0  0.0  0.0  0.0  0.0  0.5  1.0  0.0\n",
       " 0.5  0.0  0.0  0.0  0.0  0.0  0.0  0.4  0.0  1.0"
      ]
     },
     "execution_count": 218,
     "metadata": {},
     "output_type": "execute_result"
    }
   ],
   "source": [
    "PP2 = mutate(P1)"
   ]
  },
  {
   "cell_type": "code",
   "execution_count": 49,
   "metadata": {},
   "outputs": [
    {
     "data": {
      "text/plain": [
       "([1.015742717586749 0.4896014950919693 … -0.0009101657680611608 0.015780316661891003; 0.4896014950919693 1.006868503085727 … 0.0006011899250656927 -0.010423340147895616; … ; -0.0009101657680611608 0.0006011899250656927 … 1.0000526212657257 -0.0009123395599062167; 0.015780316661891003 -0.010423340147895616 … -0.0009123395599062167 1.0158180055366755], 0.0)"
      ]
     },
     "execution_count": 49,
     "metadata": {},
     "output_type": "execute_result"
    }
   ],
   "source": [
    "P2, _ = prox(IndPSD(), PP2)"
   ]
  },
  {
   "cell_type": "code",
   "execution_count": 149,
   "metadata": {},
   "outputs": [
    {
     "data": {
      "text/plain": [
       "10×10 Array{Float64,2}:\n",
       "  1.01574       0.489601     0.39377      …  -0.000910166   0.0157803\n",
       "  0.489601      1.00687      0.00411484       0.00060119   -0.0104233\n",
       "  0.39377       0.00411484   1.00247          0.000360166   0.493755\n",
       "  0.00561704   -0.00371021  -0.00222274      -0.000324749   0.00563045\n",
       "  0.48136       0.0123119    0.407376         0.00107764    0.481316\n",
       "  0.0081256    -0.00536719  -0.00321542   …   0.49953       0.00814501\n",
       "  0.00672957    0.495555    -0.00266299       0.399611      0.00674564\n",
       " -0.0115423     0.00762401   0.00456745       0.500667      0.38843\n",
       " -0.000910166   0.00060119   0.000360166      1.00005      -0.00091234\n",
       "  0.0157803    -0.0104233    0.493755        -0.00091234    1.01582"
      ]
     },
     "execution_count": 149,
     "metadata": {},
     "output_type": "execute_result"
    }
   ],
   "source": [
    "P2"
   ]
  },
  {
   "cell_type": "code",
   "execution_count": 67,
   "metadata": {},
   "outputs": [
    {
     "data": {
      "text/plain": [
       "Cholesky{Float64,Array{Float64,2}}\n",
       "U factor:\n",
       "10×10 UpperTriangular{Float64,Array{Float64,2}}:\n",
       " 1.00784  0.485793   0.390707   0.00557334  …  -0.000903085   0.0156576\n",
       "  ⋅       0.877994  -0.211491  -0.0073095       0.00118441   -0.0205351\n",
       "  ⋅        ⋅         0.897265  -0.006627        0.00107382    0.538631\n",
       "  ⋅        ⋅          ⋅         1.00094        -0.000303658   0.0089542\n",
       "  ⋅        ⋅          ⋅          ⋅              0.00259453    0.538032\n",
       "  ⋅        ⋅          ⋅          ⋅          …   0.613917     -0.271502\n",
       "  ⋅        ⋅          ⋅          ⋅              0.106919      0.0287139\n",
       "  ⋅        ⋅          ⋅          ⋅              0.213814      0.599207\n",
       "  ⋅        ⋅          ⋅          ⋅              0.75233       0.0433923\n",
       "  ⋅        ⋅          ⋅          ⋅               ⋅            2.58096e-8"
      ]
     },
     "execution_count": 67,
     "metadata": {},
     "output_type": "execute_result"
    }
   ],
   "source": [
    "cholesky(P2)"
   ]
  },
  {
   "cell_type": "code",
   "execution_count": 51,
   "metadata": {},
   "outputs": [
    {
     "data": {
      "text/plain": [
       "ZeroMeanFullNormalCanon(\n",
       "μ: 10-element Zeros{Float64}\n",
       "h: 10-element Zeros{Float64}\n",
       "J: [1.015742717586749 0.4896014950919693 … -0.0009101657680611608 0.015780316661891003; 0.4896014950919693 1.006868503085727 … 0.0006011899250656927 -0.010423340147895616; … ; -0.0009101657680611608 0.0006011899250656927 … 1.0000526212657257 -0.0009123395599062167; 0.015780316661891003 -0.010423340147895616 … -0.0009123395599062167 1.0158180055366755]\n",
       ")\n"
      ]
     },
     "execution_count": 51,
     "metadata": {},
     "output_type": "execute_result"
    }
   ],
   "source": [
    "distr2 = MvNormalCanon(P2)"
   ]
  },
  {
   "cell_type": "code",
   "execution_count": 152,
   "metadata": {},
   "outputs": [
    {
     "data": {
      "text/plain": [
       "10-element Array{Float64,1}:\n",
       "     -1.678841945881668e7\n",
       "      1.1089220083951842e7\n",
       "      6.643422869134933e6\n",
       "     -5.990145172196811e6\n",
       "      1.987762203043865e7\n",
       "     -8.665341248755129e6\n",
       "     -7.176577915005484e6\n",
       "      1.2308985196284806e7\n",
       " 970622.4194370332\n",
       "     -1.6828515447581347e7"
      ]
     },
     "execution_count": 152,
     "metadata": {},
     "output_type": "execute_result"
    }
   ],
   "source": [
    "rand(distr2)"
   ]
  },
  {
   "cell_type": "code",
   "execution_count": 80,
   "metadata": {},
   "outputs": [
    {
     "data": {
      "text/plain": [
       "10×10 Array{Float64,2}:\n",
       " 1.0  0.0  0.4  0.0  0.5  0.0  0.0  0.0  0.0  0.0\n",
       " 0.0  1.0  0.0  0.0  0.0  0.0  0.0  0.0  0.0  0.5\n",
       " 0.4  0.0  1.0  0.5  0.4  0.0  0.5  0.5  0.0  0.0\n",
       " 0.0  0.0  0.5  1.0  0.5  0.4  0.5  0.0  0.0  0.0\n",
       " 0.5  0.0  0.4  0.5  1.0  0.5  0.4  0.0  0.0  0.0\n",
       " 0.0  0.0  0.0  0.4  0.5  1.0  0.5  0.4  0.0  0.0\n",
       " 0.0  0.0  0.5  0.5  0.4  0.5  1.0  0.5  0.4  0.0\n",
       " 0.0  0.0  0.5  0.0  0.0  0.4  0.5  1.0  0.0  0.0\n",
       " 0.0  0.0  0.0  0.0  0.0  0.0  0.4  0.0  1.0  0.5\n",
       " 0.0  0.5  0.0  0.0  0.0  0.0  0.0  0.0  0.5  1.0"
      ]
     },
     "execution_count": 80,
     "metadata": {},
     "output_type": "execute_result"
    }
   ],
   "source": [
    "PP3 = mutate(P1)"
   ]
  },
  {
   "cell_type": "code",
   "execution_count": 81,
   "metadata": {},
   "outputs": [
    {
     "data": {
      "text/plain": [
       "([0.9999999999999997 1.2437967322753707e-15 … -1.1518563880486e-15 -2.42861286636753e-17; 1.2437967322753707e-15 0.9999999999999998 … 9.020562075079397e-17 0.4999999999999997; … ; -1.1518563880486e-15 9.020562075079397e-17 … 0.9999999999999987 0.4999999999999996; -2.42861286636753e-17 0.4999999999999997 … 0.4999999999999996 1.0], 0.0)"
      ]
     },
     "execution_count": 81,
     "metadata": {},
     "output_type": "execute_result"
    }
   ],
   "source": [
    "P3, _ = prox(IndPSD(), PP3)"
   ]
  },
  {
   "cell_type": "code",
   "execution_count": 82,
   "metadata": {},
   "outputs": [
    {
     "data": {
      "text/plain": [
       "Cholesky{Float64,Array{Float64,2}}\n",
       "U factor:\n",
       "10×10 UpperTriangular{Float64,Array{Float64,2}}:\n",
       " 1.0  1.2438e-15   0.4           1.02696e-15  …  -1.15186e-15  -2.42861e-17\n",
       "  ⋅   1.0         -1.35308e-17  -5.46438e-16      9.02056e-17   0.5\n",
       "  ⋅    ⋅           0.916515      0.545545         7.87379e-17   9.36906e-17\n",
       "  ⋅    ⋅            ⋅            0.838082         7.1046e-16    3.06415e-16\n",
       "  ⋅    ⋅            ⋅             ⋅              -2.56395e-16  -1.07976e-16\n",
       "  ⋅    ⋅            ⋅             ⋅           …   1.95238e-16   6.76369e-17\n",
       "  ⋅    ⋅            ⋅             ⋅               0.596251     -5.12159e-17\n",
       "  ⋅    ⋅            ⋅             ⋅              -0.0523988     6.97938e-16\n",
       "  ⋅    ⋅            ⋅             ⋅               0.801086      0.624153\n",
       "  ⋅    ⋅            ⋅             ⋅                ⋅            0.600361"
      ]
     },
     "execution_count": 82,
     "metadata": {},
     "output_type": "execute_result"
    }
   ],
   "source": [
    "cholesky(P3)"
   ]
  },
  {
   "cell_type": "code",
   "execution_count": 83,
   "metadata": {},
   "outputs": [
    {
     "data": {
      "text/plain": [
       "ZeroMeanFullNormalCanon(\n",
       "μ: 10-element Zeros{Float64}\n",
       "h: 10-element Zeros{Float64}\n",
       "J: [0.9999999999999997 1.2437967322753707e-15 … -1.1518563880486e-15 -2.42861286636753e-17; 1.2437967322753707e-15 0.9999999999999998 … 9.020562075079397e-17 0.4999999999999997; … ; -1.1518563880486e-15 9.020562075079397e-17 … 0.9999999999999987 0.4999999999999996; -2.42861286636753e-17 0.4999999999999997 … 0.4999999999999996 1.0]\n",
       ")\n"
      ]
     },
     "execution_count": 83,
     "metadata": {},
     "output_type": "execute_result"
    }
   ],
   "source": [
    "distr3 = MvNormalCanon(P3)"
   ]
  },
  {
   "cell_type": "code",
   "execution_count": 84,
   "metadata": {},
   "outputs": [
    {
     "data": {
      "text/plain": [
       "10-element Array{Float64,1}:\n",
       "  1.251789425551664\n",
       " -1.20571566791961\n",
       "  2.48876250378626\n",
       " -0.2589154894272607\n",
       " -3.7255265665605055\n",
       "  2.282067249866615\n",
       "  3.2250944776776076\n",
       " -3.479491720986727\n",
       " -0.6041484009508544\n",
       "  1.2166797472930249"
      ]
     },
     "execution_count": 84,
     "metadata": {},
     "output_type": "execute_result"
    }
   ],
   "source": [
    "rand(distr3)"
   ]
  },
  {
   "cell_type": "code",
   "execution_count": 99,
   "metadata": {},
   "outputs": [
    {
     "data": {
      "text/plain": [
       "10×10 Array{Float64,2}:\n",
       " 1.0  0.5  0.4  0.0  0.5  0.0  0.0  0.0  0.0  0.0\n",
       " 0.5  1.0  0.5  0.0  0.5  0.0  0.0  0.0  0.0  0.0\n",
       " 0.4  0.5  1.0  0.5  0.4  0.0  0.0  0.5  0.5  0.0\n",
       " 0.0  0.0  0.5  1.0  0.0  0.0  0.0  0.0  0.0  0.0\n",
       " 0.5  0.5  0.4  0.0  1.0  0.5  0.4  0.5  0.0  0.0\n",
       " 0.0  0.0  0.0  0.0  0.5  1.0  0.5  0.4  0.0  0.0\n",
       " 0.0  0.0  0.0  0.0  0.4  0.5  1.0  0.0  0.4  0.0\n",
       " 0.0  0.0  0.5  0.0  0.5  0.4  0.0  1.0  0.5  0.0\n",
       " 0.0  0.0  0.5  0.0  0.0  0.0  0.4  0.5  1.0  0.5\n",
       " 0.0  0.0  0.0  0.0  0.0  0.0  0.0  0.0  0.5  1.0"
      ]
     },
     "execution_count": 99,
     "metadata": {},
     "output_type": "execute_result"
    }
   ],
   "source": [
    "PP4 = mutate(P1)"
   ]
  },
  {
   "cell_type": "code",
   "execution_count": 100,
   "metadata": {},
   "outputs": [
    {
     "data": {
      "text/plain": [
       "([1.000738815546924 0.5004550244325214 … -0.004556608679330498 0.0020912463183913044; 0.5004550244325214 1.0002802421186903 … -0.0028063408886943586 0.0012879644631879766; … ; -0.004556608679330498 -0.0028063408886943586 … 1.0281026607290102 0.48710234081474924; 0.0020912463183913044 0.0012879644631879766 … 0.48710234081474924 1.0059193545430802], 0.0)"
      ]
     },
     "execution_count": 100,
     "metadata": {},
     "output_type": "execute_result"
    }
   ],
   "source": [
    "P4, _ = prox(IndPSD(), PP4)"
   ]
  },
  {
   "cell_type": "code",
   "execution_count": 101,
   "metadata": {},
   "outputs": [
    {
     "data": {
      "text/plain": [
       "Cholesky{Float64,Array{Float64,2}}\n",
       "U factor:\n",
       "10×10 UpperTriangular{Float64,Array{Float64,2}}:\n",
       " 1.00037  0.50027   0.401525  -0.000767445  …  -0.00455493   0.00209047\n",
       "  ⋅       0.866031  0.346592  -0.000102654     -0.00060927   0.000279623\n",
       "  ⋅        ⋅        0.849964   0.586619         0.578522     0.00446917\n",
       "  ⋅        ⋅         ⋅         0.810355        -0.412956    -0.00591488\n",
       "  ⋅        ⋅         ⋅          ⋅              -0.0864243   -0.0142842\n",
       "  ⋅        ⋅         ⋅          ⋅           …   0.082179     0.00670399\n",
       "  ⋅        ⋅         ⋅          ⋅               0.454323     0.0172184\n",
       "  ⋅        ⋅         ⋅          ⋅               0.301329     0.0391317\n",
       "  ⋅        ⋅         ⋅          ⋅               0.459815     1.00189\n",
       "  ⋅        ⋅         ⋅          ⋅                ⋅           3.332e-8"
      ]
     },
     "execution_count": 101,
     "metadata": {},
     "output_type": "execute_result"
    }
   ],
   "source": [
    "cholesky(P4)"
   ]
  },
  {
   "cell_type": "code",
   "execution_count": 102,
   "metadata": {},
   "outputs": [
    {
     "data": {
      "text/plain": [
       "ZeroMeanFullNormalCanon(\n",
       "μ: 10-element Zeros{Float64}\n",
       "h: 10-element Zeros{Float64}\n",
       "J: [1.000738815546924 0.5004550244325214 … -0.004556608679330498 0.0020912463183913044; 0.5004550244325214 1.0002802421186903 … -0.0028063408886943586 0.0012879644631879766; … ; -0.004556608679330498 -0.0028063408886943586 … 1.0281026607290102 0.48710234081474924; 0.0020912463183913044 0.0012879644631879766 … 0.48710234081474924 1.0059193545430802]\n",
       ")\n"
      ]
     },
     "execution_count": 102,
     "metadata": {},
     "output_type": "execute_result"
    }
   ],
   "source": [
    "distr4 = MvNormalCanon(P4)"
   ]
  },
  {
   "cell_type": "code",
   "execution_count": 103,
   "metadata": {},
   "outputs": [
    {
     "data": {
      "text/plain": [
       "10-element Array{Float64,1}:\n",
       " -1.1069179713330869e7\n",
       " -6.817326671694357e6\n",
       " -2.506246063650263e7\n",
       "  1.1502366025885375e7\n",
       "  5.098588286360711e7\n",
       "  1.91995375611097e7\n",
       " -5.259687470473615e7\n",
       " -5.027851457057965e7\n",
       "  6.8268607783659e7\n",
       " -3.1331739451369032e7"
      ]
     },
     "execution_count": 103,
     "metadata": {},
     "output_type": "execute_result"
    }
   ],
   "source": [
    "rand(distr4)"
   ]
  },
  {
   "cell_type": "code",
   "execution_count": 104,
   "metadata": {},
   "outputs": [
    {
     "data": {
      "text/plain": [
       "10×10 Array{Float64,2}:\n",
       " 1.0  0.5  0.4  0.0  0.0  0.0  0.5  0.0  0.0  0.0\n",
       " 0.5  1.0  0.0  0.4  0.0  0.0  0.5  0.0  0.0  0.0\n",
       " 0.4  0.0  1.0  0.5  0.4  0.0  0.0  0.0  0.0  0.0\n",
       " 0.0  0.4  0.5  1.0  0.0  0.4  0.0  0.5  0.0  0.0\n",
       " 0.0  0.0  0.4  0.0  1.0  0.0  0.0  0.0  0.5  0.0\n",
       " 0.0  0.0  0.0  0.4  0.0  1.0  0.5  0.4  0.5  0.0\n",
       " 0.5  0.5  0.0  0.0  0.0  0.5  1.0  0.5  0.4  0.0\n",
       " 0.0  0.0  0.0  0.5  0.0  0.4  0.5  1.0  0.5  0.4\n",
       " 0.0  0.0  0.0  0.0  0.5  0.5  0.4  0.5  1.0  0.0\n",
       " 0.0  0.0  0.0  0.0  0.0  0.0  0.0  0.4  0.0  1.0"
      ]
     },
     "execution_count": 104,
     "metadata": {},
     "output_type": "execute_result"
    }
   ],
   "source": [
    "PP5 = mutate(P1)"
   ]
  },
  {
   "cell_type": "code",
   "execution_count": 105,
   "metadata": {},
   "outputs": [
    {
     "data": {
      "text/plain": [
       "([1.0018324418484974 0.4933616972842111 … 0.002683945032194157 0.0024589412213621292; 0.4933616972842111 1.0240482736096326 … -0.009723004094695176 -0.008907893148753662; … ; 0.002683945032194157 -0.009723004094695176 … 1.0039311266230597 0.0036015675372945977; 0.0024589412213621292 -0.008907893148753662 … 0.0036015675372945977 1.0032996364578046], 0.0)"
      ]
     },
     "execution_count": 105,
     "metadata": {},
     "output_type": "execute_result"
    }
   ],
   "source": [
    "P5, _ = prox(IndPSD(), PP5)"
   ]
  },
  {
   "cell_type": "code",
   "execution_count": 106,
   "metadata": {},
   "outputs": [
    {
     "data": {
      "text/plain": [
       "Cholesky{Float64,Array{Float64,2}}\n",
       "U factor:\n",
       "10×10 UpperTriangular{Float64,Array{Float64,2}}:\n",
       " 1.00092  0.49291    0.394909  0.00901597  …   0.00268149   0.00245669\n",
       "  ⋅       0.883792  -0.200863  0.410577       -0.012497    -0.0114493\n",
       "  ⋅        ⋅         0.903276  0.615114       -0.0116203   -0.0106461\n",
       "  ⋅        ⋅          ⋅        0.705281        0.0361164    0.0330887\n",
       "  ⋅        ⋅          ⋅         ⋅              0.638691     0.0219746\n",
       "  ⋅        ⋅          ⋅         ⋅          …   0.396108    -0.0325408\n",
       "  ⋅        ⋅          ⋅         ⋅              0.201455     0.0337854\n",
       "  ⋅        ⋅          ⋅         ⋅              0.3538       0.821902\n",
       "  ⋅        ⋅          ⋅         ⋅              0.521289    -0.568989\n",
       "  ⋅        ⋅          ⋅         ⋅               ⋅           5.5755e-8"
      ]
     },
     "execution_count": 106,
     "metadata": {},
     "output_type": "execute_result"
    }
   ],
   "source": [
    "cholesky(P5)"
   ]
  },
  {
   "cell_type": "code",
   "execution_count": 107,
   "metadata": {},
   "outputs": [
    {
     "data": {
      "text/plain": [
       "ZeroMeanFullNormalCanon(\n",
       "μ: 10-element Zeros{Float64}\n",
       "h: 10-element Zeros{Float64}\n",
       "J: [1.0018324418484974 0.4933616972842111 … 0.002683945032194157 0.0024589412213621292; 0.4933616972842111 1.0240482736096326 … -0.009723004094695176 -0.008907893148753662; … ; 0.002683945032194157 -0.009723004094695176 … 1.0039311266230597 0.0036015675372945977; 0.0024589412213621292 -0.008907893148753662 … 0.0036015675372945977 1.0032996364578046]\n",
       ")\n"
      ]
     },
     "execution_count": 107,
     "metadata": {},
     "output_type": "execute_result"
    }
   ],
   "source": [
    "distr5 = MvNormalCanon(P5)"
   ]
  },
  {
   "cell_type": "code",
   "execution_count": 136,
   "metadata": {},
   "outputs": [
    {
     "data": {
      "text/plain": [
       "10-element Array{Float64,1}:\n",
       " -1.1243111971162593e7\n",
       "  4.072990221695834e7\n",
       "  2.9018296847285066e7\n",
       " -5.536893321356943e7\n",
       " -2.9348551140358797e6\n",
       "  2.791540520883272e7\n",
       " -3.809731058796427e7\n",
       "  4.335527667789033e7\n",
       " -1.6467585387258135e7\n",
       " -1.5087055093477797e7"
      ]
     },
     "execution_count": 136,
     "metadata": {},
     "output_type": "execute_result"
    }
   ],
   "source": [
    "rand(distr5)"
   ]
  },
  {
   "cell_type": "code",
   "execution_count": 137,
   "metadata": {},
   "outputs": [
    {
     "ename": "LoadError",
     "evalue": "UndefVarError: distr1 not defined",
     "output_type": "error",
     "traceback": [
      "UndefVarError: distr1 not defined",
      "",
      "Stacktrace:",
      " [1] top-level scope at In[137]:1",
      " [2] include_string(::Function, ::Module, ::String, ::String) at ./loading.jl:1091",
      " [3] execute_code(::String, ::String) at /Users/karolinagrzeszkiewicz/.julia/packages/IJulia/a1SNk/src/execute_request.jl:27",
      " [4] execute_request(::ZMQ.Socket, ::IJulia.Msg) at /Users/karolinagrzeszkiewicz/.julia/packages/IJulia/a1SNk/src/execute_request.jl:86",
      " [5] #invokelatest#1 at ./essentials.jl:710 [inlined]",
      " [6] invokelatest at ./essentials.jl:709 [inlined]",
      " [7] eventloop(::ZMQ.Socket) at /Users/karolinagrzeszkiewicz/.julia/packages/IJulia/a1SNk/src/eventloop.jl:8",
      " [8] (::IJulia.var\"#15#18\")() at ./task.jl:356"
     ]
    }
   ],
   "source": [
    "rand(distr1)"
   ]
  },
  {
   "cell_type": "code",
   "execution_count": 109,
   "metadata": {},
   "outputs": [
    {
     "data": {
      "text/plain": [
       "partial_correlation (generic function with 1 method)"
      ]
     },
     "execution_count": 109,
     "metadata": {},
     "output_type": "execute_result"
    }
   ],
   "source": [
    "function partial_correlation(P, n_nodes)\n",
    "    partial_corr = zeros(n_nodes,n_nodes)\n",
    "    for i in 1:n_nodes\n",
    "        for j in i:n_nodes\n",
    "            if i == j\n",
    "                partial_corr[i,j] = 1\n",
    "            else\n",
    "                corr = - P[i,j] / sqrt(P[i,i]*P[j,j])\n",
    "                partial_corr[i,j] = corr\n",
    "                partial_corr[j,i] = corr\n",
    "            end\n",
    "        end\n",
    "    end\n",
    "    return(partial_corr)\n",
    "end"
   ]
  },
  {
   "cell_type": "code",
   "execution_count": 110,
   "metadata": {},
   "outputs": [
    {
     "data": {
      "text/plain": [
       "100"
      ]
     },
     "execution_count": 110,
     "metadata": {},
     "output_type": "execute_result"
    }
   ],
   "source": [
    "T = 100"
   ]
  },
  {
   "cell_type": "code",
   "execution_count": 127,
   "metadata": {},
   "outputs": [],
   "source": [
    "y1 = zeros(T, n_nodes)\n",
    "changepoint = [25, 50, 75]\n",
    "for i in 1:T\n",
    "    if i < changepoint[1]\n",
    "        y1[i,1:n_nodes] = rand(distr2)\n",
    "    elseif i < changepoint[2]\n",
    "        y1[i,1:n_nodes] = rand(distr3)\n",
    "    elseif i < changepoint[3]\n",
    "        y1[i,1:n_nodes] = rand(distr4)\n",
    "    else\n",
    "        y1[i,1:n_nodes] = rand(distr5)\n",
    "    end\n",
    "end"
   ]
  },
  {
   "cell_type": "code",
   "execution_count": 133,
   "metadata": {},
   "outputs": [],
   "source": [
    "y1 = zeros(T, n_nodes)\n",
    "changepoint = [25, 50, 75]\n",
    "for i in 1:T\n",
    "    if i < 50\n",
    "        y1[i,1:n_nodes] = rand(distr2)\n",
    "    else\n",
    "        y1[i,1:n_nodes] = rand(distr3)\n",
    "    end\n",
    "end"
   ]
  },
  {
   "cell_type": "code",
   "execution_count": 288,
   "metadata": {},
   "outputs": [
    {
     "data": {
      "text/plain": [
       "MCMC_pars(100, 0.5)"
      ]
     },
     "execution_count": 288,
     "metadata": {},
     "output_type": "execute_result"
    }
   ],
   "source": [
    "hyper = hyper_pars(10, 100, 2.0, 2.0, 3.0, 1.0/3.0, 0.5)\n",
    "#(p = 10, Tau = 100, w = 1, z = 1, delta = 3, tau = 1/3, theta =0.5 )\n",
    "parPF = PF_pars(100, 0.7, 0.001, 3, 10, 1000, false)\n",
    "#(N, ESS0, TOL, nE, nM, num_it, Laplace)\n",
    "#changed N from 10 to 1, again to 1000\n",
    "parMCMC = MCMC_pars(100, 0.5)\n",
    "# (M, pB)"
   ]
  },
  {
   "cell_type": "code",
   "execution_count": 226,
   "metadata": {},
   "outputs": [
    {
     "data": {
      "text/plain": [
       "make_posdef (generic function with 1 method)"
      ]
     },
     "execution_count": 226,
     "metadata": {},
     "output_type": "execute_result"
    }
   ],
   "source": [
    "function make_posdef(M, n_nodes)\n",
    "    \n",
    "    Mcopy = copy(M)\n",
    "    \n",
    "    for i in 1:n_nodes #rows\n",
    "        row_sum = sum(M[i,:]) - M[i,i]\n",
    "        for j in 1:n_nodes\n",
    "            if i != j\n",
    "                Mcopy[i,j] = Mcopy[i,j] / row_sum\n",
    "            end\n",
    "        end\n",
    "    end\n",
    "            \n",
    "    return(Mcopy)\n",
    "    \n",
    "end"
   ]
  },
  {
   "cell_type": "code",
   "execution_count": 240,
   "metadata": {},
   "outputs": [
    {
     "data": {
      "text/plain": [
       "10×10 Array{Float64,2}:\n",
       " 1.0  0.5  0.4  0.0  0.0  0.0  0.0  0.0  0.0  0.0\n",
       " 0.5  1.0  0.5  0.4  0.0  0.0  0.0  0.0  0.0  0.0\n",
       " 0.4  0.5  1.0  0.5  0.4  0.0  0.0  0.0  0.0  0.0\n",
       " 0.0  0.4  0.5  1.0  0.5  0.4  0.0  0.0  0.0  0.0\n",
       " 0.0  0.0  0.4  0.5  1.0  0.5  0.4  0.0  0.0  0.0\n",
       " 0.0  0.0  0.0  0.4  0.5  1.0  0.5  0.4  0.0  0.0\n",
       " 0.0  0.0  0.0  0.0  0.4  0.5  1.0  0.5  0.4  0.0\n",
       " 0.0  0.0  0.0  0.0  0.0  0.4  0.5  1.0  0.5  0.4\n",
       " 0.0  0.0  0.0  0.0  0.0  0.0  0.4  0.5  1.0  0.5\n",
       " 0.0  0.0  0.0  0.0  0.0  0.0  0.0  0.4  0.5  1.0"
      ]
     },
     "execution_count": 240,
     "metadata": {},
     "output_type": "execute_result"
    }
   ],
   "source": [
    "P1"
   ]
  },
  {
   "cell_type": "code",
   "execution_count": 247,
   "metadata": {},
   "outputs": [
    {
     "ename": "LoadError",
     "evalue": "PosDefException: matrix is not Hermitian; Cholesky factorization failed.",
     "output_type": "error",
     "traceback": [
      "PosDefException: matrix is not Hermitian; Cholesky factorization failed.",
      "",
      "Stacktrace:",
      " [1] checkpositivedefinite(::Int64) at /Users/julia/buildbot/worker/package_macos64/build/usr/share/julia/stdlib/v1.5/LinearAlgebra/src/factorization.jl:18",
      " [2] cholesky!(::Array{Float64,2}, ::Val{false}; check::Bool) at /Users/julia/buildbot/worker/package_macos64/build/usr/share/julia/stdlib/v1.5/LinearAlgebra/src/cholesky.jl:248",
      " [3] #cholesky#130 at /Users/julia/buildbot/worker/package_macos64/build/usr/share/julia/stdlib/v1.5/LinearAlgebra/src/cholesky.jl:344 [inlined]",
      " [4] cholesky at /Users/julia/buildbot/worker/package_macos64/build/usr/share/julia/stdlib/v1.5/LinearAlgebra/src/cholesky.jl:344 [inlined] (repeats 2 times)",
      " [5] top-level scope at In[247]:2",
      " [6] include_string(::Function, ::Module, ::String, ::String) at ./loading.jl:1091",
      " [7] execute_code(::String, ::String) at /Users/karolinagrzeszkiewicz/.julia/packages/IJulia/a1SNk/src/execute_request.jl:27",
      " [8] execute_request(::ZMQ.Socket, ::IJulia.Msg) at /Users/karolinagrzeszkiewicz/.julia/packages/IJulia/a1SNk/src/execute_request.jl:86",
      " [9] #invokelatest#1 at ./essentials.jl:710 [inlined]",
      " [10] invokelatest at ./essentials.jl:709 [inlined]",
      " [11] eventloop(::ZMQ.Socket) at /Users/karolinagrzeszkiewicz/.julia/packages/IJulia/a1SNk/src/eventloop.jl:8",
      " [12] (::IJulia.var\"#15#18\")() at ./task.jl:356"
     ]
    }
   ],
   "source": [
    "PP3 = mutate(P1)\n",
    "cholesky(make_posdef(PP3, 10))"
   ]
  },
  {
   "cell_type": "markdown",
   "metadata": {},
   "source": [
    "# Run the SMC"
   ]
  },
  {
   "cell_type": "markdown",
   "metadata": {},
   "source": [
    "# Simulation with no changepoints, graph Id"
   ]
  },
  {
   "cell_type": "code",
   "execution_count": 309,
   "metadata": {},
   "outputs": [
    {
     "data": {
      "text/plain": [
       "ZeroMeanFullNormalCanon(\n",
       "μ: 10-element Zeros{Float64}\n",
       "h: 10-element Zeros{Float64}\n",
       "J: [1.0 0.0 … 0.0 0.0; 0.0 1.0 … 0.0 0.0; … ; 0.0 0.0 … 1.0 0.0; 0.0 0.0 … 0.0 1.0]\n",
       ")\n"
      ]
     },
     "execution_count": 309,
     "metadata": {},
     "output_type": "execute_result"
    }
   ],
   "source": [
    "distr0 = MvNormalCanon(Id)"
   ]
  },
  {
   "cell_type": "code",
   "execution_count": 314,
   "metadata": {},
   "outputs": [
    {
     "data": {
      "text/plain": [
       "MCMC_pars(100, 0.5)"
      ]
     },
     "execution_count": 314,
     "metadata": {},
     "output_type": "execute_result"
    }
   ],
   "source": [
    "hyper = hyper_pars(10, 100, 2.0, 2.0, 3.0, 1.0/3.0, 0.5)\n",
    "#(p = 10, Tau = 100, w = 1, z = 1, delta = 3, tau = 1/3, theta =0.5 )\n",
    "parPF = PF_pars(100, 0.7, 0.001, 3, 10, 100, false)\n",
    "#(N, ESS0, TOL, nE, nM, num_it, Laplace)\n",
    "#changed N from 10 to 1, again to 1000\n",
    "parMCMC = MCMC_pars(100, 0.5)\n",
    "# (M, pB)"
   ]
  },
  {
   "cell_type": "code",
   "execution_count": 311,
   "metadata": {},
   "outputs": [],
   "source": [
    "T = 100\n",
    "n_nodes = 10\n",
    "y0 = zeros(T, n_nodes)\n",
    "changepoint = []\n",
    "for i in 1:T\n",
    "    y0[i,1:n_nodes] = rand(distr0)\n",
    "end"
   ]
  },
  {
   "cell_type": "code",
   "execution_count": 315,
   "metadata": {},
   "outputs": [
    {
     "data": {
      "text/plain": [
       "Any[]"
      ]
     },
     "execution_count": 315,
     "metadata": {},
     "output_type": "execute_result"
    }
   ],
   "source": [
    "pair = make_pairs(hyper)\n",
    "Spr = []\n",
    "#temp = test_logl_est(Spr, hyper, y0, parPF, pair)"
   ]
  },
  {
   "cell_type": "code",
   "execution_count": 316,
   "metadata": {},
   "outputs": [
    {
     "name": "stdout",
     "output_type": "stream",
     "text": [
      "l = 1\n",
      "phi = 0.05\n",
      "logw = [-73.2581385997084, -72.20941166609028, -72.39496815279176, -75.3821797996831, -75.58635571054349, -69.71662753673142, -74.60406867097957, -71.0080798633529, -73.35524083069727, -74.42765255512099, -75.13475508157305, -72.30188087826396, -74.66180583655493, -67.34515341432231, -67.44800440677757, -73.87226445148733, -74.80003834610147, -72.89029412304042, -73.94553369766362, -64.50580352096787, -72.78256611402756, -75.38603223091432, -74.88439567612824, -63.92888260918525, -74.3167757465893, -75.0443426500802, -75.1229404988404, -70.70543074758719, -71.8900846039625, -63.246791479196474, -68.63477134040163, -75.28217291899499, -75.8418530941318, -73.0815887679211, -75.73300341340419, -75.07406480848165, -69.1277392555781, -68.63818600302285, -71.79476297691944, -72.0840928834878, -66.35045148876978, -73.56697218988332, -71.91418357762603, -73.46593142771418, -74.70434594292236, -75.56646103482208, -74.49723505107549, -74.86546233765444, -66.62112733159438, -74.35901595477303, -73.35395820085397, -71.37797751284042, -73.28178031362681, -60.05087105193568, -71.19233246573566, -73.60715990211743, -70.0514472640466, -62.58521548010855, -73.71240688916633, -73.41984868888679, -69.55570758435321, -61.73835894956306, -70.19477710425852, -74.71311235043004, -63.09444310773472, -68.00397159670298, -74.81957819492563, -74.581603787719, -76.19461056955114, -74.89971967124755, -74.89832714734358, -75.82737383999937, -69.55965420786677, -74.74929463488819, -75.52784315653638, -74.38410344378629, -73.4174092738231, -74.65162330931237, -63.897136455027436, -65.80677041833871, -74.4705221856791, -71.01013888743886, -73.21379553597482, -70.23236497629755, -65.58795333670538, -73.35230226213689, -71.4908547859445, -75.84918277854534, -75.38341996906722, -68.08496034917174, -73.02514221521251, -75.97945834986324, -72.3391142771703, -68.04137166263848, -73.8295130253562, -69.5160474348645, -74.15710519769736, -70.32035660054133, -70.81567900114555, -62.396886927612165]\n",
      "result = -64.23989737930384\n",
      "resampling, ESS = 2.1794092089722072\n",
      "phi = 0.1\n",
      "logw = [-60.53770414495145, -64.50485646275483, -61.84647371255594, -59.575426814071584, -58.50754254414929, -55.48465759224487, -55.8822228706781, -47.88969263757538, -62.19297256929204, -54.35064705879966, -54.12158226001419, -59.460248536857925, -60.008868353105505, -58.77475817695128, -64.35334997577819, -67.45520726376331, -63.007390630681975, -59.584341375607245, -67.07630465102707, -68.02231688243235, -64.22768930162498, -65.12448490024259, -65.06611805033874, -62.16560666075311, -61.544510904902204, -60.85069993244591, -59.590402589566025, -58.87386919099765, -64.40887735036334, -54.72208238737662, -73.5747443365926, -60.115633597638876, -66.10825878390865, -63.959634159132136, -56.06776500506055, -58.12629935546644, -58.21027328438669, -61.24169623887009, -56.60704583489437, -58.95366202154241, -63.2983277762861, -60.903053630649325, -59.58791438851822, -60.9312582214113, -71.04377191225402, -61.82828346941989, -69.86250713244611, -60.316088936275264, -62.49568906296252, -61.94871670125301, -65.02895481605795, -67.00136165073177, -60.006748233636124, -59.57445471889301, -50.41147377168264, -57.6285190322255, -58.6771667939434, -57.36549903196149, -64.82545046563612, -64.38747194514542, -72.24603989150863, -63.41585773254246, -55.72013403771781, -66.76509294758145, -59.23754677673235, -65.17313679134452, -66.11633050926363, -62.69000863925774, -52.62937218765104, -56.69372066334691, -74.27772473833059, -61.85004121269664, -52.8716981173736, -63.5035855176719, -55.52747508043271, -64.77676623186395, -62.38341990131951, -68.602308983212, -56.25405522742531, -51.63265237657752, -69.5348178459915, -64.02042154849963, -62.087267934176424, -63.31275621922403, -68.22151772488222, -55.53109353133953, -64.53206565729278, -67.90206100721501, -61.45889847983372, -60.613963925721634, -59.45511580596166, -67.63912061521114, -60.914609832558455, -54.87306846539087, -60.90057778566807, -67.12772119974072, -60.22201466561089, -58.67170711813918, -62.051391967810446, -62.16799702207098]\n",
      "result = -116.61376953563297\n",
      "resampling, ESS = 1.2647343360510028\n",
      "phi = 0.15000000000000002\n",
      "logw = [-52.710120396501836, -62.601067833110115, -60.12160123119151, -56.82461990456065, -55.86644052712331, -59.15749315890935, -57.19783458693004, -59.86377902281965, -41.07332059996869, -60.72624700163094, -47.9274559262053, -57.54838455209152, -55.256607999138005, -55.288942277552174, -62.2704367714275, -60.70722033725293, -55.89279973788842, -57.52482726933604, -55.735812417277856, -60.886495440382596, -59.17220830052406, -55.40748817020914, -54.625734345316765, -54.68960049594859, -62.256908342301195, -57.768964191869266, -59.95402192936866, -54.287882178355375, -56.98937010351042, -52.349724848418084, -60.86216317767014, -61.17728321928002, -53.68462814623235, -49.43014387666282, -58.34019100744788, -67.42208591282103, -59.844204583891575, -46.18242630444079, -55.22670772902828, -59.74112752415795, -58.32411432811742, -55.703899392450055, -39.35167730472212, -59.466866711748594, -52.793381760719235, -53.49661498487253, -52.61134720139189, -49.07598897172077, -47.86199740198039, -59.09672643859762, -58.83987795003189, -63.403508818669934, -51.85710776923733, -57.17339021285894, -54.88946111530507, -55.56627935486285, -57.91413394543243, -48.7167442264711, -48.00244707266119, -62.82186510115241, -53.32935551969804, -56.84958229046178, -64.0010375705571, -50.67566847512198, -56.90673637668288, -56.86569266195599, -58.49771594989326, -58.44193937312573, -49.28631790857059, -49.2003397084267, -50.176529867658694, -58.54866302417551, -47.91843980588727, -60.34091756056959, -59.05924589989476, -56.703068570316574, -54.28813394292834, -51.6509049685193, -52.924463383662264, -60.73216946016931, -54.84157715921588, -56.14820081885616, -62.50482897004167, -52.75863276879929, -56.84199831004642, -56.19320278436927, -57.98068544526011, -52.210346292444385, -59.504761976218504, -51.191019199055816, -59.01339025567955, -59.80474761067806, -50.567939712892624, -49.625740463133695, -52.67688814347236, -60.36431372688929, -58.66544113272056, -60.31963423165516, -57.236181128967196, -57.80708088242912]\n",
      "result = -160.40424646305758\n",
      "resampling, ESS = 1.351588328777221\n"
     ]
    },
    {
     "ename": "LoadError",
     "evalue": "InterruptException:",
     "output_type": "error",
     "traceback": [
      "InterruptException:",
      "",
      "Stacktrace:",
      " [1] Array at ./boot.jl:406 [inlined]",
      " [2] Array at ./boot.jl:415 [inlined]",
      " [3] similar at ./array.jl:380 [inlined]",
      " [4] similar at ./abstractarray.jl:630 [inlined]",
      " [5] _unsafe_getindex(::IndexLinear, ::Array{Float64,2}, ::UnitRange{Int64}, ::Int64) at ./multidimensional.jl:755",
      " [6] _getindex at ./multidimensional.jl:743 [inlined]",
      " [7] getindex at ./abstractarray.jl:1060 [inlined]",
      " [8] normalising_constant_mc(::BitArray{2}, ::Float64, ::Symmetric{Float64,Array{Float64,2}}, ::Int64) at /Users/karolinagrzeszkiewicz/Desktop/stat_comp_research/dynamic_graphical_models_mcmc/normalising_constant_mc.jl:65",
      " [9] logIno(::Array{BitArray{2},1}, ::Float64, ::Array{Array{Float64,2},1}, ::Int64) at /Users/karolinagrzeszkiewicz/Desktop/stat_comp_research/dynamic_graphical_models_mcmc/particle_MCMC.jl:1560",
      " [10] log_Iota(::BitArray{3}, ::Float64, ::Array{Float64,2}, ::Int64, ::Bool) at /Users/karolinagrzeszkiewicz/Desktop/stat_comp_research/dynamic_graphical_models_mcmc/particle_MCMC.jl:1430",
      " [11] logp_GY(::BitArray{3}, ::hyper_pars, ::PF_pars, ::Array{Float64,2}) at /Users/karolinagrzeszkiewicz/Desktop/stat_comp_research/dynamic_graphical_models_mcmc/particle_MCMC.jl:1204",
      " [12] mutate(::Array{Int64,3}, ::BitArray{3}, ::Float64, ::hyper_pars, ::PF_pars, ::Array{Float64,1}, ::Array{Float64,1}, ::Array{Float64,2}, ::Bool, ::Array{Array{Int64,1},1}) at /Users/karolinagrzeszkiewicz/Desktop/stat_comp_research/dynamic_graphical_models_mcmc/particle_MCMC.jl:1302",
      " [13] smc(::Array{Any,1}, ::hyper_pars, ::Array{Float64,2}, ::PF_pars, ::Array{Array{Int64,1},1}) at /Users/karolinagrzeszkiewicz/Desktop/stat_comp_research/dynamic_graphical_models_mcmc/particle_MCMC.jl:592",
      " [14] top-level scope at In[316]:1",
      " [15] include_string(::Function, ::Module, ::String, ::String) at ./loading.jl:1091",
      " [16] execute_code(::String, ::String) at /Users/karolinagrzeszkiewicz/.julia/packages/IJulia/a1SNk/src/execute_request.jl:27",
      " [17] execute_request(::ZMQ.Socket, ::IJulia.Msg) at /Users/karolinagrzeszkiewicz/.julia/packages/IJulia/a1SNk/src/execute_request.jl:86",
      " [18] #invokelatest#1 at ./essentials.jl:710 [inlined]",
      " [19] invokelatest at ./essentials.jl:709 [inlined]",
      " [20] eventloop(::ZMQ.Socket) at /Users/karolinagrzeszkiewicz/.julia/packages/IJulia/a1SNk/src/eventloop.jl:8",
      " [21] (::IJulia.var\"#15#18\")() at ./task.jl:356"
     ]
    }
   ],
   "source": [
    "(logpYS, graphs) = smc(Spr, hyper, y0, parPF, pair)"
   ]
  },
  {
   "cell_type": "code",
   "execution_count": 268,
   "metadata": {},
   "outputs": [
    {
     "data": {
      "text/plain": [
       "10×10 Array{Int64,2}:\n",
       " 0  0  0  1  1  1  0  1  0  1\n",
       " 0  0  0  1  1  0  1  0  0  1\n",
       " 0  0  0  0  1  1  0  1  0  1\n",
       " 0  0  0  0  0  1  1  0  0  1\n",
       " 0  0  0  0  0  0  0  1  1  1\n",
       " 0  0  0  0  0  0  1  1  1  0\n",
       " 0  0  0  0  0  0  0  1  1  1\n",
       " 0  0  0  0  0  0  0  0  0  0\n",
       " 0  0  0  0  0  0  0  0  0  0\n",
       " 0  0  0  0  0  0  0  0  0  0"
      ]
     },
     "execution_count": 268,
     "metadata": {},
     "output_type": "execute_result"
    }
   ],
   "source": [
    "G0 = [0 0 0 1 1 1 0 1 0 1; 0 0 0 1 1 0 1 0 0 1; 0 0 0 0 1 1 0 1 0 1; 0 0 0 0 0 1 1 0 0 1; 0 0 0 0 0 0 0 1 1 1; 0 0 0 0 0 0 1 1 1 0; 0 0 0 0 0 0 0 1 1 1; 0 0 0 0 0 0 0 0 0 0; 0 0 0 0 0 0 0 0 0 0; 0 0 0 0 0 0 0 0 0 0]\n",
    "G = zeros(1,10,10)\n",
    "G[1,:,:] = G0"
   ]
  },
  {
   "cell_type": "code",
   "execution_count": null,
   "metadata": {},
   "outputs": [],
   "source": [
    "hyper = hyper_pars(10, 100, 2.0, 2.0, 3.0, 1.0/3.0, 0.5hyper = hyper_pars(10, 100, 2.0, 2.0, 3.0, 1.0/3.0, 0.5\n",
    "#(p = 10, Tau = 100, w = 1, z = 1, delta = 3, tau = 1/3, theta =0.5 )\n",
    "parPF = PF_pars(100, 0.7, 0.001, 3, 10, 00, false)\n",
    "#(N, ESS0, TOL, nE, nM, num_it, Laplace)\n",
    "#changed N from 10 to 1, again to 1000\n",
    "parMCMCvbvbbvb vbv \n",
    "#(p = 10, Tau = 100, w = 1, z = 1, delta = 3, tau = 1/3, theta =0.5 )\n",
    "parPF = PF_pars(100, 0.7, 0.001, 3, 10, 00, false)\n",
    "#(N, ESS0, TOL, nE, nM, num_it, Laplace)\n",
    "#changed N from 10 to 1, again to 1000\n",
    "parMCMC"
   ]
  },
  {
   "cell_type": "code",
   "execution_count": 287,
   "metadata": {},
   "outputs": [
    {
     "data": {
      "text/plain": [
       "1-element Array{Float64,1}:\n",
       " -1342.6423081996022"
      ]
     },
     "execution_count": 287,
     "metadata": {},
     "output_type": "execute_result"
    }
   ],
   "source": [
    "logp_GY(G, hyper, parPF, y0)"
   ]
  },
  {
   "cell_type": "code",
   "execution_count": 267,
   "metadata": {},
   "outputs": [
    {
     "data": {
      "text/plain": [
       "10×10 Array{Float64,2}:\n",
       " NaN  NaN  NaN  NaN  NaN  NaN  NaN  NaN  NaN  NaN\n",
       " NaN  NaN  NaN  NaN  NaN  NaN  NaN  NaN  NaN  NaN\n",
       " NaN  NaN  NaN  NaN  NaN  NaN  NaN  NaN  NaN  NaN\n",
       " NaN  NaN  NaN  NaN  NaN  NaN  NaN  NaN  NaN  NaN\n",
       " NaN  NaN  NaN  NaN  NaN  NaN  NaN  NaN  NaN  NaN\n",
       " NaN  NaN  NaN  NaN  NaN  NaN  NaN  NaN  NaN  NaN\n",
       " NaN  NaN  NaN  NaN  NaN  NaN  NaN  NaN  NaN  NaN\n",
       " NaN  NaN  NaN  NaN  NaN  NaN  NaN  NaN  NaN  NaN\n",
       " NaN  NaN  NaN  NaN  NaN  NaN  NaN  NaN  NaN  NaN\n",
       " NaN  NaN  NaN  NaN  NaN  NaN  NaN  NaN  NaN  NaN"
      ]
     },
     "execution_count": 267,
     "metadata": {},
     "output_type": "execute_result"
    }
   ],
   "source": [
    "graphs[1,:,:]"
   ]
  },
  {
   "cell_type": "markdown",
   "metadata": {},
   "source": [
    "# Simulation with 1 changepoint, graph Id and P1"
   ]
  },
  {
   "cell_type": "code",
   "execution_count": 317,
   "metadata": {},
   "outputs": [
    {
     "data": {
      "text/plain": [
       "ZeroMeanFullNormalCanon(\n",
       "μ: 10-element Zeros{Float64}\n",
       "h: 10-element Zeros{Float64}\n",
       "J: [1.0 0.0 … 0.0 0.0; 0.0 1.0 … 0.0 0.0; … ; 0.0 0.0 … 1.0 0.0; 0.0 0.0 … 0.0 1.0]\n",
       ")\n"
      ]
     },
     "execution_count": 317,
     "metadata": {},
     "output_type": "execute_result"
    }
   ],
   "source": [
    "distr0 = MvNormalCanon(Id)"
   ]
  },
  {
   "cell_type": "code",
   "execution_count": 318,
   "metadata": {},
   "outputs": [],
   "source": [
    "y1 = zeros(T, n_nodes)\n",
    "changepoint = [50]\n",
    "for i in 1:T\n",
    "    if i < changepoint[1]\n",
    "        y1[i,1:n_nodes] = rand(distr0)\n",
    "    else\n",
    "        y1[i,1:n_nodes] = rand(distr1)\n",
    "    end\n",
    "end"
   ]
  },
  {
   "cell_type": "code",
   "execution_count": 319,
   "metadata": {},
   "outputs": [
    {
     "data": {
      "text/plain": [
       "FullNormal(\n",
       "dim: 10\n",
       "μ: [0.0, 0.0, 0.0, 0.0, 0.0, 0.0, 0.0, 0.0, 0.0, 0.0]\n",
       "Σ: [1.0 0.5 … 0.0 0.0; 0.5 1.0 … 0.0 0.0; … ; 0.0 0.0 … 1.0 0.5; 0.0 0.0 … 0.5 1.0]\n",
       ")\n"
      ]
     },
     "execution_count": 319,
     "metadata": {},
     "output_type": "execute_result"
    }
   ],
   "source": [
    "distr1"
   ]
  },
  {
   "cell_type": "code",
   "execution_count": 323,
   "metadata": {},
   "outputs": [
    {
     "data": {
      "text/plain": [
       "MCMC_pars(100, 0.5)"
      ]
     },
     "execution_count": 323,
     "metadata": {},
     "output_type": "execute_result"
    }
   ],
   "source": [
    "hyper = hyper_pars(10, 100, 2.0, 2.0, 3.0, 1.0/3.0, 0.5)\n",
    "#(p = 10, Tau = 100, w = 1, z = 1, delta = 3, tau = 1/3, theta =0.5 )\n",
    "parPF = PF_pars(100, 0.7, 0.001, 3, 10, 500, false)\n",
    "#(N, ESS0, TOL, nE, nM, num_it, Laplace)\n",
    "#changed N from 10 to 1, again to 1000\n",
    "parMCMC = MCMC_pars(100, 0.5)\n",
    "# (M, pB"
   ]
  },
  {
   "cell_type": "code",
   "execution_count": 324,
   "metadata": {},
   "outputs": [
    {
     "data": {
      "text/plain": [
       "1-element Array{Int64,1}:\n",
       " 50"
      ]
     },
     "execution_count": 324,
     "metadata": {},
     "output_type": "execute_result"
    }
   ],
   "source": [
    "pair = make_pairs(hyper)\n",
    "#Spr = [25,50,75]\n",
    "Spr = [50]\n",
    "#temp = test_logl_est(Spr, hyper, y1, parPF, pair)"
   ]
  },
  {
   "cell_type": "code",
   "execution_count": 325,
   "metadata": {},
   "outputs": [
    {
     "name": "stdout",
     "output_type": "stream",
     "text": [
      "l = 1\n",
      "phi = 0.05\n",
      "logw = [-34.49058191297945, -32.37983472675568, -37.18391886780809, -32.77410808965245, -37.56717140765095, -30.106288803890983, -26.83899665366156, -36.723247923962084, -39.16762763406925, -39.524197530618004, -39.82429071605082, -38.947489889254534, -39.5439367278778, -38.486188299371335, -34.08017785291478, -40.02458047882629, -39.10223003076973, -40.48297074720844, -36.592722389936625, -38.028369440699464, -39.19319138800784, -39.359393454138676, -36.49869628907778, -35.7245072288235, -40.6703994723399, -34.700120046149905, -38.54327991239803, -38.51210675885887, -39.576951795949334, -38.63484628679615, -36.69638457331035, -39.25393872283221, -37.62693061236556, -36.03870384284627, -32.12095091877465, -35.526972863337896, -40.572484863956085, -31.281602765582335, -37.18974422663569, -31.002143996492848, -36.95879763333412, -36.53775257835063, -40.18912247745828, -30.383817664128845, -36.798419001203996, -31.90903233176964, -34.97162131864657, -35.2407895802587, -37.618118086645296, -38.528730792495026, -39.38822763345812, -32.256495334713485, -39.00580467165781, -31.73851659380947, -37.284720108471824, -38.5219844048175, -39.286720422821546, -35.66884361532435, -34.80941176253766, -39.127404193418805, -33.72549320769303, -31.95640792479792, -37.908074958088505, -38.35128760599026, -37.738298305509545, -32.18117156217994, -36.5468028219757, -37.495106999846044, -39.836500297042065, -39.408949713056614, -39.496145151541164, -40.39435080441207, -36.9469998210452, -38.13027813801405, -34.22442113201452, -31.15544373539764, -39.98312123849075, -37.76829244419383, -38.062879276707996, -40.941534733413995, -41.03663398662612, -38.36853418021653, -32.6904558876445, -34.353446259648216, -39.170712109349815, -39.26589348888944, -35.10640346973363, -40.25721243670259, -39.367528091988824, -39.00948256907009, -34.06752921153747, -39.75661697736598, -24.690229549819648, -36.96935847010132, -39.12798170683575, -34.9132698991643, -39.97554024334514, -37.19575100490287, -35.10236739298968, -37.2352898910035]\n",
      "result = -29.16862767594003\n",
      "resampling, ESS = 1.2712395276074617\n",
      "phi = 0.1\n",
      "logw = [-27.075206436613747, -23.28920528339937, -29.300239738350776, -26.924894142528263, -23.033587834670698, -30.6813946586061, -27.648678222203174, -29.21720262570928, -30.339059033130834, -21.750902421044483, -24.169541467903258, -26.36933662995499, -30.640434768527758, -22.775202735791797, -23.585727047328415, -26.159188937907306, -34.456979217284804, -23.6836089492329, -28.219043018263655, -24.897951950994482, -26.85255952394006, -29.730697833880733, -33.514192535209915, -31.024236637288812, -25.085615006448037, -22.655558785483734, -25.20375958556234, -29.49569724633818, -29.20420138663239, -28.55337688484176, -27.07481648475928, -28.375956370738688, -30.988373262689823, -24.203989402366627, -24.789808491676, -24.903875548555376, -30.023497727271252, -28.553837880725247, -30.69049437749463, -35.98114320712831, -23.552763328450204, -28.446138932311232, -34.072231158937335, -28.601990066186232, -22.749730387522916, -29.752431249781104, -22.697686082515105, -22.035715136637652, -28.850900914981253, -23.007858982017883, -18.261685797488276, -26.856551914924154, -25.274534140520093, -20.674690946004144, -29.525592236046876, -23.602033689700267, -29.62621280671611, -34.06982674797997, -27.24119572546622, -27.659699857643478, -27.44742999854321, -26.48317390736894, -23.061402568221627, -28.246626232276846, -32.404981935073806, -28.384254130255837, -33.35565584552724, -30.18997154035392, -26.438736869412367, -30.24093983368709, -25.625002806056543, -28.316967808209633, -23.461325970045728, -31.405113348197222, -29.172237345996162, -34.031164457943845, -28.436019049226424, -17.60203696667825, -27.432600919540757, -19.685620885720553, -30.646517494112427, -24.75321275001777, -30.384362060931124, -30.353316411855502, -36.44205031771061, -29.494459894258473, -28.106463786265284, -22.895475656724898, -30.980973118351457, -27.946941128417333, -28.119385623118603, -26.410512449180523, -33.540492067408834, -26.677073516613962, -31.504675280523045, -28.177279175652906, -23.05280406474707, -22.88126681362113, -22.449071996145946, -25.141493027465984]\n",
      "result = -50.78746918300596\n",
      "resampling, ESS = 2.5228753687753227\n",
      "phi = 0.15000000000000002\n",
      "logw = [-28.8573402691477, -20.817327085543248, -30.692844284601083, -32.53871303387607, -24.183964544231294, -26.807361043401635, -22.99813887215134, -35.6629427848412, -18.769222477150084, -26.237895934331583, -26.066898552031066, -26.61053761142602, -21.209048850460206, -27.137439432706113, -20.25253420145137, -26.22631494098138, -26.222546514480005, -27.528208385443858, -27.8533735345544, -29.993463056806814, -25.454514024248496, -20.511720447025688, -25.42089024215395, -22.68940995176853, -21.397032102890787, -21.781837038038006, -30.245705653039735, -28.049518699135845, -22.00313076413678, -24.299365575700225, -25.993436304288977, -28.370110605273393, -22.44101447722498, -24.6935708043893, -29.703980318961044, -27.334682795917107, -25.15680333294744, -22.9556903561306, -24.96741835183324, -31.687148978997197, -21.833273711122516, -23.785906303532627, -27.377277555891922, -23.72502364591227, -27.711780105432982, -27.62513697612582, -25.89463531715197, -22.91101987643066, -24.527269730365443, -25.88249609272361, -31.994190447058507, -30.462963714198466, -23.86071577266426, -27.22042900145269, -20.91349428734091, -29.40119719071289, -28.998866371328965, -31.821095742725298, -27.149068458614764, -24.120271519395967, -28.14429480472988, -26.26242218150788, -24.343790510088617, -22.028773119114057, -25.982458440400897, -24.698337508276317, -26.447006358809343, -26.97394584433911, -25.16038649074783, -22.405446498427455, -23.88910926866454, -22.157596405523766, -18.789761807967107, -28.45995495365234, -26.16441266872136, -25.70668230617251, -20.419154714011718, -25.980332145316446, -28.010134058008678, -21.55310442854041, -24.23094281839403, -28.703939267644145, -28.062378772716087, -25.360084521952793, -27.53512549495229, -27.113517517739407, -22.940038613750616, -22.32797851192378, -21.545672310129063, -24.61783715883247, -29.609240124778566, -22.52152567345158, -23.238715325187652, -28.094792112941647, -30.733585445590165, -22.122548257295712, -22.177951424479787, -25.904122142923374, -25.45568147598236, -30.66023809820311]\n",
      "result = -72.86514793704002\n",
      "resampling, ESS = 6.2350907726890314\n",
      "phi = 0.2\n",
      "logw = [-17.61283718112353, -33.11786030600778, -25.150128512837775, -31.45224918946906, -26.809318440582267, -25.35053337100125, -25.372676182084, -28.998529432306913, -32.20582626993957, -24.38190826786225, -29.292579109077423, -22.556824371416923, -31.454039854598577, -27.989618808590624, -31.40996211602207, -25.340097945695657, -23.51817577643967, -16.37721378760328, -28.12149135205033, -23.609458266600264, -27.59041740697052, -26.815162711093997, -20.73515758071257, -22.637524318871893, -23.90721525446789, -30.774287816017203, -29.34113849889434, -23.874320684723028, -27.747555930239315, -17.488980626619657, -25.05607086290538, -30.68489553206844, -33.185895916965734, -33.97387295025579, -32.170383576834574, -20.10979074412076, -20.452467031610567, -31.9342212009924, -23.031558748435373, -23.30230727163588, -19.641738451305443, -29.768195925683493, -27.99968768659889, -33.06650753619736, -27.898222943101104, -22.95584296729487, -24.342802337927175, -22.589373477646003, -22.02047376913958, -25.564843921642588, -28.755336397232586, -27.242383763338744, -23.568731057899154, -23.090698818764334, -17.32690499120645, -26.513707365415332, -28.483858015586055, -28.65283802733607, -28.813340135158004, -26.63974986255483, -25.128130062046544, -28.466394245616595, -24.082444694773393, -28.470738167113343, -28.483428234712555, -20.96074207612882, -20.227644059876884, -24.88976143607414, -22.988207071715536, -22.72946422192145, -28.11164047418768, -26.303703188891028, -25.968677217159875, -24.62570404255035, -22.44621152004001, -31.56909265864853, -22.072779358823546, -24.564844766368502, -20.37053379434703, -26.15331191240268, -24.00551256245331, -24.249281905417725, -28.86416815268534, -24.457067834167987, -16.168111844531087, -30.359243458339392, -29.66075276096055, -30.193844361968814, -18.640371940321998, -27.1663701330962, -16.945409299669183, -23.093389942848457, -22.097926504680384, -21.653665848038685, -23.110288250803926, -24.910314589713856, -26.302458742942576, -21.552145093151335, -23.9957213306227, -16.20440363748037]\n",
      "result = -92.18202920973681\n",
      "resampling, ESS = 6.066778243484349\n"
     ]
    },
    {
     "name": "stdout",
     "output_type": "stream",
     "text": [
      "phi = 0.25\n",
      "logw = [-21.642352513752154, -26.3097760033258, -21.32250135036436, -23.68104474836874, -26.5094797327079, -23.008679943308262, -21.016474446188376, -17.341028714083276, -24.802455550584632, -30.321603377677608, -20.432536020088218, -29.147767240809944, -25.24675507664002, -21.495283588889528, -21.274685124092798, -26.455294633298372, -20.148602544406028, -25.142963861642873, -23.631940303344074, -25.826257652370856, -22.851037610996976, -19.480116428160724, -25.44324500043343, -23.77443705514518, -23.782722190201515, -29.191283162346423, -27.113886029867853, -19.162824164272546, -24.489313833503996, -21.58852803297954, -21.53434652794626, -19.091662404937296, -27.668490324388387, -19.86731999342561, -25.643027897994035, -27.47423813252836, -22.387260243133984, -24.37946393030104, -27.16970606727377, -28.28222808193735, -18.28162669390089, -19.89574395525621, -25.054756419605617, -23.011335367070092, -24.4152384210001, -22.600003463269342, -25.263697875118247, -24.092822239927415, -25.368636828540964, -29.907410264497894, -25.293789716953967, -26.93058222930435, -23.789002298817422, -25.134575011410465, -18.718458342369157, -24.428313786066592, -22.547129960952496, -25.73463093622045, -30.11368682550307, -21.471299284580947, -20.032111467486075, -26.12069344449527, -19.782882868432637, -21.767196015784332, -26.652940034722292, -18.949553906599473, -19.988660501276797, -24.86134049174148, -24.437844632212695, -26.919175282966883, -25.75752085761364, -20.376767825991745, -23.840743797730866, -19.229483111720175, -25.839636261456906, -25.458694176146082, -23.61230441750498, -20.803361368056255, -24.33503770564493, -27.290304823703575, -24.93046720148884, -22.332636504500865, -20.61162531452796, -21.09912364123918, -30.465531922148447, -15.302988802974587, -22.365927835627904, -18.432515370098937, -19.51257266240473, -22.270418671772028, -20.149546362624683, -30.074429223520344, -22.077240204180608, -33.75859125408621, -27.2021527999915, -25.51974534423463, -22.591523109452204, -26.989812295599187, -22.14067334510999, -21.51295930634136]\n",
      "result = -111.68373851061838\n",
      "resampling, ESS = 2.197643016924867\n",
      "phi = 0.3\n",
      "logw = [-19.283959613760608, -25.984955411229457, -21.43037381585722, -22.201550345378365, -25.799902290528443, -23.79125127803172, -19.42833339312872, -23.323165704787638, -25.45012747722791, -20.2098163181121, -21.747683946993444, -20.043426153462498, -26.348777088264633, -25.132931080570717, -22.14231455761979, -26.957891300707324, -23.43846219921074, -23.94768171369145, -21.066751967956645, -27.81337251016418, -26.66231133155481, -26.226882471721, -23.40356414213873, -23.750098802273545, -22.55140892714857, -24.08181677437649, -22.44782888066153, -23.671016027444534, -23.633716471701263, -24.690576161355434, -16.044183160064637, -26.549985676513863, -18.717976518046797, -23.833182454459806, -28.61798403053943, -22.462173850719417, -24.460915483439045, -21.891872852396364, -27.56871837920929, -26.709752775317572, -21.38854350150504, -23.302121956842196, -20.378684322195852, -21.89081248254801, -25.6738250873369, -16.81011992335512, -22.053781034001673, -21.35514609036692, -19.834304862871843, -28.250403580604658, -28.023268865094753, -31.301215497993603, -22.026494653924427, -19.532471959673092, -21.698234804792303, -26.70776779120077, -24.083475316348483, -21.294415089140376, -22.080149246550587, -26.214201025456845, -18.25098541543818, -27.811765892015046, -18.036901981783725, -25.48508508445115, -25.66247715669838, -22.828251234920657, -20.975996620269196, -31.686855856071034, -19.157256576855083, -24.033348556275023, -23.96702317818713, -18.933569463962556, -16.27638656158414, -20.916999678766114, -21.153110463409043, -22.859583109524376, -24.34521795519857, -34.14592913725781, -25.427085214765235, -16.231154293301707, -19.24159581246766, -20.958316872562538, -25.648680502894496, -15.740300955394744, -21.67340066499568, -26.547448587400755, -22.69465343945124, -15.31837000524758, -19.18439087510276, -27.220505983928064, -17.15547789536823, -25.527585855792278, -24.334431704694975, -25.706587930230484, -24.44326361531555, -22.664325942738724, -22.39724424185755, -25.9499369091475, -27.431759543223613, -21.538258328175655]\n",
      "result = -130.30266758338328\n",
      "resampling, ESS = 6.596010800262546\n",
      "phi = 0.35\n",
      "logw = [-26.22173086183717, -23.438321834817554, -30.467707404610834, -25.773087392010048, -20.45754876938085, -17.566846156192067, -23.490896363342586, -21.817913998744007, -22.94501912154011, -20.52324172066848, -24.25926596521635, -24.38103516884655, -24.006400613290385, -22.84791654551038, -19.23654548110205, -20.615753374017824, -27.490648902067935, -26.792219523591672, -25.492594925764582, -28.25310708097279, -30.645841760135003, -28.43436718293029, -23.34305529682487, -24.75985749009136, -23.75048729362867, -18.987990797539812, -23.228776416960365, -23.30927673974033, -19.950607752390834, -27.111740681169096, -25.176033893113875, -23.80614788803108, -25.929254909406602, -24.005934750943748, -24.660860168907313, -22.874098472927695, -25.270023121135143, -19.654383019766872, -16.072628103132413, -19.296178419919386, -26.810308271643557, -24.965985895000088, -26.84610890992696, -24.460517251741926, -23.941610970751803, -26.686834677690218, -23.779382034343417, -24.370957375399847, -20.66554108819278, -24.223645342601838, -28.841639116504354, -22.90931553423382, -26.536867248816463, -28.027879259738853, -28.266244449605157, -23.469528265480474, -22.617866972456973, -25.964655243470787, -24.023309566398005, -24.662876757926046, -23.325908466107638, -26.49153195672266, -25.264881113320126, -23.343659797205913, -22.00932930225819, -29.359883960458294, -22.898175574116816, -25.21123121013495, -21.91851604878271, -29.42546711456254, -17.010941321591954, -23.546483788924622, -25.292488854621343, -28.67965227734259, -23.137404534487455, -18.589495480695714, -19.471051093550518, -24.39573698075573, -27.996303036970545, -23.138889975039497, -28.349377279988612, -19.94399810141511, -22.534956662154826, -25.89128234672405, -24.36119813578451, -22.41411734775062, -23.041414572146987, -20.14373231389632, -31.00828972523115, -27.595780417835634, -25.59723651647082, -19.587848133228825, -24.07868045488201, -21.259073882271373, -21.33874124697588, -23.470180349965045, -24.07676330792868, -23.384413539595354, -16.61438363206529, -26.143922130290566]\n",
      "result = -150.00377555081238\n",
      "resampling, ESS = 4.523026135449482\n",
      "phi = 0.39999999999999997\n",
      "logw = [-22.15665038692914, -25.163963760096152, -19.798268504701475, -31.733230968744724, -27.95464129131769, -25.53280500512157, -20.45175473438303, -26.819399454058022, -20.626741741866624, -28.79195642812212, -24.679561019780458, -22.70702288630061, -28.047405104260378, -30.112190722941698, -30.72571215610095, -24.966579749181694, -30.11064887266696, -27.48396586564342, -27.147324459155925, -19.516669901258663, -25.473031074314758, -29.505722269819806, -30.986026454594473, -27.932543870523535, -22.30751483481428, -25.748317664461336, -19.26044684257396, -29.570768133671418, -27.80801261924296, -29.79222219965229, -23.163622014264156, -27.240609908519968, -25.440905511684072, -24.05757503122369, -27.71559387891359, -16.817766636808894, -23.27413140492487, -22.508316949493945, -21.867316490810005, -27.726998280550763, -19.806955815290163, -23.441753434267003, -24.25736785480996, -25.82667510342265, -23.557529809974426, -19.17727844091469, -28.616800698172863, -22.1114008920925, -19.235661555760114, -20.298613355404793, -23.65328878857909, -18.730441840242634, -25.997576384578927, -19.94872170509536, -27.937428889216907, -23.71135885318672, -21.986288569117217, -26.26508716078793, -22.394067265512753, -31.212339463026346, -21.81258747377309, -22.506615505757757, -23.099006375579744, -23.86308194363917, -18.698403850457467, -18.376779123578793, -28.326018837465572, -21.245012252328134, -29.278261698771683, -31.54103767926978, -21.610183868038554, -27.64875164844148, -21.5669161300488, -25.76707366518367, -27.320648020973742, -24.33578873184611, -23.574548897401296, -28.36364063161281, -23.729351058434794, -18.60947485584215, -21.609938360456283, -19.070991640057102, -23.22059780387146, -23.196401568874773, -18.5921284805675, -18.406390267051552, -25.249424767909733, -24.231706328869592, -27.691379944613658, -24.68077322260682, -18.312333654208814, -23.156247313583822, -22.549282372944184, -22.74857077651044, -25.808093438308696, -30.637936869376475, -27.17668242890745, -22.652422679601287, -25.921853971150433, -21.918910951136983]\n",
      "result = -170.30692657891677\n",
      "resampling, ESS = 7.291543368308581\n"
     ]
    },
    {
     "name": "stdout",
     "output_type": "stream",
     "text": [
      "phi = 0.44999999999999996\n",
      "logw = [-25.99318271111801, -27.711404201536492, -23.403839044573488, -30.040509457877324, -23.8870919806872, -22.714248335362075, -23.791828976739307, -23.37278055705526, -24.62150601294597, -24.208764020972502, -26.235324589723643, -19.58036185035337, -27.222637877878718, -22.474316893646144, -21.592327708087556, -30.58564335561867, -20.991825932581815, -25.687361260494434, -23.02638981493443, -24.696774527763957, -24.488224097490836, -26.7265317795836, -28.208846086015313, -24.87294171511578, -27.57821941497244, -28.793646695485524, -19.22517881700139, -23.99516949334325, -24.771558405802296, -23.795563137598254, -22.252987194869196, -25.85431663305213, -25.85179304969777, -29.53917350932746, -22.893102152583037, -22.184998246630197, -19.242116925937143, -24.646332126058326, -22.918319740858447, -22.391355935709935, -24.8473613469489, -27.238344428561515, -24.100424622725964, -20.342819631337235, -34.91837819697614, -24.472288580140095, -27.7614849529632, -24.516527953196686, -24.033961526339773, -23.89833539224428, -28.705307961339848, -25.606014735250078, -14.87675096661168, -22.68864122295347, -19.205046711661108, -29.116773346827237, -24.466043423167907, -25.55718953598563, -26.229769996775246, -23.433418113016426, -23.153062738157114, -25.18163812492608, -23.900020831270428, -28.599679556026008, -23.910633876148328, -19.369883036412787, -21.02804553364339, -24.693373482332582, -22.180615568338226, -23.294052803523613, -20.903833783942424, -32.09570433967557, -23.365361341673843, -31.081812958260223, -23.99768523309, -25.69929732116293, -29.310713664992004, -22.782817476978888, -24.600950456296268, -23.008371771386162, -27.36970381590446, -22.11425244368355, -28.259426215405682, -22.004244816871644, -24.602756614149577, -25.121282518133064, -20.455165163067225, -24.886937784874824, -30.032803262571637, -27.536681459940894, -23.111244341249563, -23.387027774822684, -22.74581500806198, -23.41001960797002, -28.472700567727024, -21.65534131370877, -22.375460413323392, -21.064190389802366, -27.061943398772137, -21.801249000448184]\n",
      "result = -189.7014106304745\n",
      "resampling, ESS = 1.1901797640165412\n",
      "phi = 0.49999999999999994\n",
      "logw = [-24.375744048820238, -27.08276423538188, -28.002286732069233, -23.976960181876706, -19.997596690808837, -27.16313131986916, -20.73465266671434, -18.730597504649587, -29.901340690123224, -22.377736073157248, -29.30621132422478, -31.89801856833656, -24.91155696183457, -22.68740695004109, -24.85020745279793, -25.528006796617426, -21.175218553462976, -24.00020827506622, -23.438676150455333, -27.142671344316813, -21.777553682461615, -25.164560415120384, -29.032848298863637, -22.970046565201564, -21.820994823417436, -26.00723618884374, -22.194184252730782, -16.570169480871023, -23.926644093288218, -24.116107582163913, -24.971273004997645, -21.280009720661408, -21.921785717207655, -22.662877628238693, -20.76570539878282, -27.812347879297896, -25.81019108679764, -30.768745814278837, -22.738151339447167, -22.07996387202915, -25.18294172478527, -22.82293760046731, -24.119861380573777, -26.89391252410213, -16.857888705614787, -17.391324615857624, -25.626317611619083, -18.714635642925142, -30.94606948298585, -24.87454452515716, -24.16194156952473, -26.835287005770528, -20.17869115414103, -31.53946792317265, -30.70820027075463, -20.04088030929662, -23.137644819208198, -20.834198573689658, -22.68851015253969, -23.32773062462859, -22.056508565813942, -25.333713770932157, -23.126860537166475, -17.433684535977005, -19.580628666963953, -20.4664463516187, -23.118240865023363, -23.43430488195426, -20.33926696425098, -19.541303814854146, -20.81598850938757, -21.78716033113443, -25.872359637053584, -21.113927237286447, -26.203294465129584, -25.101578195196872, -24.104064806989054, -25.530941644233945, -26.394456167414944, -18.999205069930987, -20.615552040041493, -27.087033509040072, -19.024081950386375, -23.669845503822717, -18.48376502035852, -29.84931600703096, -20.868884338803326, -22.987065958171396, -27.57515224006477, -20.749302294921833, -28.46829394933132, -24.296075959053535, -20.755152345429817, -21.785570364838353, -21.880742158671463, -23.155353266232925, -27.279296337793504, -23.884026686139702, -21.83295396593353, -23.04831274674305]\n",
      "result = -209.58613002762667\n",
      "resampling, ESS = 6.577478330315545\n",
      "phi = 0.5499999999999999\n",
      "logw = [-30.292568257064108, -18.783164227819192, -26.118199283913462, -19.155470094535556, -22.739128413996692, -29.3442393951194, -28.30424527003506, -22.56433940824212, -27.480219518866402, -21.83034564549737, -23.421998389017535, -27.44509966251252, -10.228246668281706, -29.88375220060912, -22.26314390631708, -24.13907807866573, -16.249983417776704, -21.8273934865759, -20.71029347855499, -31.930006827445123, -17.928888447479153, -22.874431729200708, -20.884878946167884, -22.18139127668821, -26.200738269107198, -26.310443592399338, -25.973725977616045, -22.343688159363847, -24.801339469862285, -22.441687897735545, -22.05188086927809, -29.036770914795476, -29.051289508573888, -20.562954345980234, -24.828512745989716, -18.885009426317794, -24.765605252975984, -24.45868498619928, -21.583953204318245, -28.083982666624085, -21.518329677042654, -22.753783098902616, -21.99658226524179, -24.290525724085047, -20.669883426003754, -21.849238495590054, -29.127840758600573, -25.499856457815532, -30.36171557830716, -23.69596148729749, -25.00779629392566, -24.317138429954596, -19.781904810265868, -29.271554313130483, -27.16444281690495, -28.132660549948667, -23.25926746470449, -20.091208115031243, -21.177146292115573, -25.811718531552224, -26.74474223461089, -23.051222294459233, -27.440454890605917, -25.33743392445686, -26.03309440000652, -23.43149672533683, -23.677348757715283, -28.939892550635136, -29.9868138272914, -22.82054171066782, -23.74670352422684, -27.54682985414734, -21.700251206012364, -20.553736167375252, -22.41741482722376, -25.99186386263555, -23.298744900039793, -28.211353118136156, -22.672503369493985, -26.757978343048784, -23.15739050713324, -23.164349451300208, -22.50431194606066, -21.81152184916044, -26.198754041621413, -21.469718642553698, -28.335528127910873, -23.151902561082263, -28.276468582589114, -24.928335208809596, -25.39968358740112, -28.52732934873988, -26.034691571199204, -24.83658109710214, -25.54459607906078, -22.788437723458127, -20.65853559814322, -25.079000963415943, -16.118963866834704, -22.57075392819815]\n",
      "result = -224.4129174312319\n",
      "resampling, ESS = 1.0133331735238473\n",
      "phi = 0.6\n",
      "logw = [-16.120693194909727, -15.788835113857887, -10.94461153308246, -17.63201923720961, -10.553694821508609, -16.760507270379858, -17.82825460065696, -19.019473469174386, -17.53901939429537, -11.346300579235132, -10.314589698985614, -17.740397980519287, -11.396543188500372, -19.148941196621763, -10.694960611045092, -17.66939188490553, -17.285289699316547, -17.691607794975553, -17.17012926315562, -17.252431951367456, -13.4475479062648, -18.237320657002545, -11.250799212963015, -15.354026563365366, -22.28692937038698, -18.04879770550907, -18.446553167426423, -18.654983006379258, -21.145341865280688, -18.083598046464015, -12.576496869740941, -18.18058089677743, -18.838448438070326, -15.719851045962056, -18.547358790576453, -15.478734865830242, -16.08243039177507, -12.163173457120262, -22.091593296300598, -11.775286060908188, -13.975395349752747, -16.032054504809402, -15.812394532572673, -17.710130201603715, -13.662513935214708, -18.07646424777508, -18.149165500815375, -11.446156343788514, -11.85393855977902, -17.70668360398284, -16.279124348727972, -17.528449998107334, -17.391929517498824, -19.503925081474257, -16.67660911728452, -17.974947507888118, -17.562735823959535, -14.701243878018126, -12.941461271543796, -13.30916229796282, -15.19076741546219, -19.202366921650246, -18.93185495585346, -16.804268092635947, -11.66186468219589, -16.0063004721024, -18.2332971034534, -17.071081312127475, -13.74510827805259, -12.098352440547137, -17.814511866481368, -11.114934323272585, -18.78491315188428, -17.766726567812793, -17.080260818392194, -10.207263605775744, -17.012386973486034, -17.37366843838541, -16.78873911007869, -13.722070110311229, -19.027892410897373, -15.443924897052122, -17.67399427700041, -17.51674549600708, -18.047730113944855, -16.331672773070046, -10.476464897941495, -16.991287496745915, -10.869760246386315, -8.959451266143619, -14.916023217043154, -17.383568299902365, -16.92984977100496, -11.130331135038038, -16.461280422165366, -14.285174778078108, -10.721692717017053, -17.423160676205633, -17.003903203863437, -11.436194131063807]\n",
      "result = -236.67419280358175\n",
      "resampling, ESS = 9.526779326147258\n"
     ]
    },
    {
     "name": "stdout",
     "output_type": "stream",
     "text": [
      "phi = 0.65\n",
      "logw = [-17.880304689504737, -17.505146036396056, -11.115943243208509, -20.435525703608363, -18.215333776646485, -11.073418317733658, -12.916345898320008, -18.456937863578656, -17.439649964680818, -16.028099040587357, -16.455834003106734, -11.697117682605642, -11.646262534424453, -9.984004495482683, -11.011572488435222, -17.30141558755358, -14.42487705351423, -20.088503412697033, -25.59248284244137, -17.00126674951371, -16.10162879012126, -11.656001962453939, -19.52779835833208, -18.132908860842644, -16.000306627823633, -16.1819527134403, -10.444451126457139, -13.689025530901052, -15.929305867473241, -11.199565251467606, -9.976566751520275, -18.960800781543412, -11.423994329336544, -11.726290633967414, -18.72362884361745, -18.016141088492894, -11.390998174218844, -11.576022344811445, -16.707064806723704, -15.416111032767285, -18.06761376546442, -17.611253860505165, -16.745271684726603, -18.47125830415984, -10.9799736021508, -18.600841730930256, -10.916490507136226, -15.82656442440335, -16.072940906093592, -10.328382470193569, -16.69491402562393, -18.47661141243189, -17.369804352772235, -13.307514087703607, -10.849509969992804, -17.332175419002237, -11.01506270893813, -12.794825599733304, -20.230194509518817, -10.940117827689532, -16.310937344767623, -10.34232804436172, -10.889224975725634, -19.23237208703406, -12.047105321955002, -16.681175567971255, -19.691931621649584, -12.789873335859221, -15.432695664906865, -11.00131090729269, -24.054228405001936, -16.035728410451465, -14.484161840419672, -18.15553789290945, -18.60926356730447, -10.831660402715919, -11.93474900431521, -17.884014629695365, -20.202959585595302, -11.746377527522803, -16.81571362750929, -11.066190133225847, -16.83929560509889, -11.682737407866027, -17.776288057440027, -13.080195000984322, -11.173839287482421, -16.317151392423263, -15.712598254816694, -17.413396141582705, -16.570107586478724, -16.070881156559828, -18.975820905981372, -15.217195137242035, -20.409523978854438, -18.670496317867205, -10.158294845653186, -12.19384243933801, -18.495534140173394, -11.3673110525056]\n",
      "result = -248.71950074664403\n",
      "resampling, ESS = 25.112593172769753\n",
      "phi = 0.7000000000000001\n",
      "logw = [-10.049091903406591, -10.103804518255336, -10.978801243157566, -9.885042746200313, -18.382081637783916, -9.917969142720713, -15.045734603738255, -11.554517744013014, -16.618056979681196, -9.400878478050455, -15.967152989143383, -15.970767127933485, -15.289632632576094, -20.211499937864676, -17.311260489159768, -15.984913815717684, -15.378041154354214, -15.739323332851669, -11.895866885724928, -17.7188558152835, -11.10425332802494, -12.986406236428518, -15.208322143947875, -17.670575823949562, -11.410671101985303, -15.007559906120214, -18.62164516169811, -12.970187287111594, -10.7493242070071, -10.360379581993469, -10.831500279141993, -13.828417696626373, -13.573084988848791, -13.92350405940556, -10.025484516196125, -11.53955377445605, -10.907084255600646, -10.946540128576457, -11.383736917704969, -14.520201609740788, -11.049659737788941, -11.571531426847434, -11.013380910367458, -11.753519127168499, -11.084861670408985, -10.923872893340523, -10.557461622168061, -22.479300646102658, -16.68653356195084, -10.68072972933874, -11.198688974065508, -14.058554867046418, -17.50192329274101, -10.179271944336866, -11.442219369628173, -11.894783610082998, -11.377558444681538, -15.283535741426178, -11.620485872635543, -18.980222656993583, -11.156748682823364, -16.278953603277763, -15.956121299061973, -10.913200819654472, -16.10563504384731, -11.058391083553293, -10.631183731895337, -11.151327830607304, -15.735918545763402, -18.436107072396513, -17.749219827830217, -15.3435045065151, -11.309163749696562, -17.711372096517128, -11.454694878155264, -10.951123712158385, -14.806738572409946, -10.545424284981605, -16.583346773669984, -15.727866583146968, -11.118801266603041, -16.755464383274937, -10.061951544891972, -16.067613599069748, -11.273592123034692, -19.54994315317947, -13.355524888357554, -17.209535973620405, -11.640130177074047, -17.489676827683518, -18.945995807110187, -16.06080441738775, -11.914702236222677, -10.965882902653417, -11.409769075163137, -15.713923640192283, -15.94053365611696, -10.798064795193651, -23.04365608239037, -15.227881656422957]\n",
      "result = -260.20727519852846\n",
      "phi = 0.7500000000000001\n",
      "logw = [-11.289520958537945, -13.801646701977633, -10.79344317903521, -11.838602278441629, -19.807522375892727, -11.480712724777758, -19.205870642101512, -17.323571184433376, -19.53897683576914, -10.172489121175877, -19.264174220920154, -19.02411551287583, -19.989178902739894, -26.924047833552425, -19.354974672991784, -18.441939946599348, -14.096396617107617, -22.070587363462604, -16.311951966984317, -24.12440105473914, -10.882519446891921, -16.966526203857097, -16.40783146859006, -21.876595480481658, -16.09174460257901, -19.60639479745598, -24.44980800054056, -18.27489078134575, -11.599478611279999, -12.040795637278, -11.681513893168676, -15.085908194905429, -14.788580637570398, -17.48552695037818, -11.784166449205053, -11.446976110527878, -9.438626362812105, -9.943681764908806, -12.875049880113068, -19.727938433045267, -12.046487854899407, -17.754320306906127, -12.64343714483507, -17.08354323192928, -10.90998557260629, -15.487038197458824, -10.64466021164531, -19.626505999162912, -23.50997990556359, -11.655639208741745, -12.183554351131146, -14.964338346849242, -21.049987407862545, -10.941688716156731, -19.853439848524232, -11.366787564312244, -16.819558655697413, -9.586580033920663, -11.676716646988847, -21.69685314846063, -11.37214112346064, -20.613604532578872, -21.044620209610958, -15.935075570934995, -14.072769218161813, -11.430654725926955, -9.842487187525185, -11.710198296587746, -18.471654356422782, -17.13974418521998, -20.69399982649429, -17.458731562250914, -11.421290327300822, -24.739082960784096, -12.355059283580204, -17.809773626230825, -20.56656101726158, -9.82309000560783, -22.810352682267993, -21.387557670790617, -13.349159280892355, -23.39214044350926, -12.392933902026652, -23.795178082129567, -10.654404021580357, -24.262738569071775, -12.454467894999498, -22.658619112438217, -11.213992773638767, -23.062258968813424, -21.792774290191094, -20.22768322434075, -10.823240968729928, -11.232421689288627, -15.406232394325482, -19.942422922847356, -22.225108941638158, -11.63259817745296, -22.466409822292977, -12.805782125765791]\n",
      "result = -272.07642811953036\n",
      "resampling, ESS = 19.23962047872821\n",
      "phi = 0.8000000000000002\n",
      "logw = [-10.404149841256654, -11.789037290922685, -17.026389083637643, -11.188586216248067, -11.110261901570793, -10.493407014886575, -14.663568114557911, -11.583528173528457, -9.805358346152493, -10.994141838103818, -15.869207093649422, -11.71021631489371, -10.138116006001761, -10.28196241235369, -11.13394928741515, -11.178589893301908, -10.963467441593961, -10.956640709233328, -10.910340830372848, -11.241439825019203, -10.49007560074044, -11.105756476392717, -10.282051014551431, -9.606115772774789, -11.793369304046466, -15.497279872743414, -11.25188862802045, -11.206556852580984, -15.615221365020327, -11.170063172071938, -14.008202553715666, -11.018728299599472, -15.97715077608822, -11.473154030618206, -13.883025034402403, -11.081802235616184, -11.01914280061752, -9.299005489160574, -10.843691359326412, -16.48125814013337, -9.867437745131374, -11.997043617666492, -11.640838301505163, -12.006552329349063, -9.456457888263756, -11.235838360618605, -10.730787837867744, -11.501657930910794, -10.44956143635105, -11.394825166149989, -17.388627024511724, -12.100196781445776, -10.81177289839221, -11.081857179652808, -10.333855625491882, -11.068980420356716, -11.35414336903857, -10.601484103435352, -10.93328456578203, -10.561162905621202, -16.289218039617882, -10.994461926172356, -11.47564053524116, -11.190565467276222, -15.680110950976049, -10.159326375567517, -15.631426323417426, -12.161403211602703, -11.292968817912634, -10.933536644589541, -10.433029634999187, -9.729288137844426, -10.509142746765557, -10.705652596594346, -10.851824147865816, -11.415410763990717, -11.914000984710338, -10.860866584160725, -11.306509894896532, -12.649655593010726, -12.683165987806996, -11.407097732898983, -8.132848951514394, -10.760566340451696, -15.542950239392061, -18.34176673378469, -10.758700242422472, -11.242596845136232, -11.752731115652756, -10.423009366088671, -11.676931022873315, -11.435422384439834, -11.246812795974135, -15.635050731568308, -10.752237782822014, -11.436114190519742, -10.444684579785704, -12.02314621732475, -10.979658871645926, -14.558773097498262]\n",
      "result = -282.91217632797185\n",
      "resampling, ESS = 27.460733949797028\n"
     ]
    },
    {
     "name": "stdout",
     "output_type": "stream",
     "text": [
      "phi = 0.8500000000000002\n",
      "logw = [-11.891438104674625, -11.27066815416025, -10.342996283719371, -10.040215478720043, -14.942405734734713, -11.380550320898553, -11.390048659209082, -11.917366751438083, -14.611021752276818, -10.501835314836539, -10.323447446168544, -11.264056040649784, -11.796535307220761, -11.742305896145472, -9.703667954037522, -10.667684277436608, -9.66160203208307, -11.149973772560859, -10.997233673418025, -9.900465136193171, -10.693982586115604, -11.075368029264101, -11.560520678208222, -11.502481218026224, -16.178891499446483, -11.16688364140246, -11.438096461883417, -10.333988690344448, -10.160391292969658, -10.335733220102234, -11.562353202775386, -11.320227200987585, -16.575494784569084, -11.501772352469038, -16.39215435779821, -9.73647311654473, -11.970983286889002, -11.729223646958319, -11.056425443253946, -10.396664517722625, -15.78929061202796, -16.967992360132005, -9.99882436404918, -12.017325863040355, -11.502705005731586, -11.147114021512866, -10.826107237722509, -10.772128589054004, -11.357133460564073, -12.45726860957572, -11.025157814403535, -11.370261889283505, -13.473572930004133, -11.340324936568258, -10.441873538994939, -11.682611715005292, -11.609739299478171, -10.818322577936422, -8.606879092033974, -11.173329874672252, -10.512624608094875, -11.089490741047511, -10.73838725698798, -10.617967169653205, -10.409819212812373, -11.703047449577637, -12.034042698320189, -9.906949568724995, -10.054325436530863, -11.221262404986877, -10.168499085763447, -11.43573331333876, -11.294968555482694, -11.407325502123534, -11.563595007070779, -10.625814239209266, -11.029853724296219, -11.462607950914888, -11.210965409342855, -11.25312107588885, -11.230733020196446, -10.520081829546022, -15.249685203884567, -12.359445481188475, -10.75624734982342, -11.198896072151221, -11.597234525447094, -16.5207597401362, -11.45707823246726, -10.427061656305549, -9.423251950717425, -10.850758924812082, -13.665576836907576, -11.112048533645098, -9.453437696560277, -16.235889026036748, -10.554409444586051, -11.297365125182266, -14.607201301105786, -10.80715011927762]\n",
      "result = -293.73137625129175\n",
      "phi = 0.9000000000000002\n",
      "logw = [-10.40431712361518, -13.261393459355748, -10.357389304086823, -11.42442739670709, -16.55403612343793, -10.792235135815284, -11.170483295310213, -11.34999762496646, -15.039456334504703, -11.62315375036017, -11.458892600247507, -11.552431753314812, -9.929846872673707, -10.474558696437951, -11.535742522669436, -11.361631036973016, -10.343374133113347, -12.84658584539352, -10.66250929687041, -11.502850055195744, -10.119717487071247, -11.75031673728348, -11.255133361348758, -11.29342268526144, -10.8340870340291, -10.7484319459268, -10.7086197926167, -11.066108436740466, -10.149197103180226, -8.587217026555079, -11.930142501904527, -11.218208852157476, -16.31175186994561, -10.860304085889599, -17.312736544166626, -10.42498182643092, -11.00604111455654, -19.107497005272467, -10.073724430437736, -11.649198448246642, -16.434280423941882, -22.95993050365667, -9.861456394078667, -11.714653480148966, -11.464999177734624, -10.981247934513094, -11.228120880576352, -10.987952765602163, -10.69882907955475, -17.88703460619954, -11.615968317142027, -10.929402170799651, -17.753728456988384, -10.647107658028236, -11.802002146592535, -11.965303878275664, -9.524072598422643, -10.025919813620133, -10.081343580894387, -10.710466802818875, -11.904267244743487, -11.214375251554905, -10.592355265878425, -10.062267811279739, -12.100237119933706, -10.786173494362183, -11.492174614937698, -12.071172162796488, -11.097315388368639, -11.849826139951016, -9.073699096999102, -11.070666510858143, -11.462591786549938, -10.456813216061764, -10.62858632811078, -11.468851368571556, -11.45758185152182, -11.346691365459417, -9.836892720412825, -10.805111831167759, -10.857244906588896, -9.899562209560164, -19.17992202253081, -9.810324445975189, -11.281661135940464, -10.514822500873018, -10.638997692409967, -17.434364225911985, -11.140403420754158, -11.968493139446297, -11.100775084899697, -10.206699481041742, -17.351493273054505, -10.699406658529947, -10.625766063035886, -18.799434292393947, -11.320650562042385, -10.374837728330077, -10.815477600576848, -11.201077556786718]\n",
      "result = -304.52328012795033\n",
      "phi = 0.9500000000000003\n",
      "logw = [-10.09785155130447, -12.905588268523422, -11.644603617182154, -11.344642108191549, -17.124805158012048, -11.61009622081313, -10.971553070304848, -10.695790903659729, -13.774659486497626, -10.703377987747448, -10.229146524322339, -11.942736985911363, -11.057909812735344, -10.360583356563465, -11.098206065699479, -9.960271423629981, -17.14670317793462, -12.747470759858373, -11.02204831967429, -11.965638665417156, -11.508452713889566, -11.96266718160346, -11.420957936939294, -9.982596391057362, -7.895590729759193, -10.766214146111716, -10.631190175562397, -10.826673144868083, -11.345017204637138, -11.051761931952141, -10.161385382578507, -11.075736396232546, -16.24587047692308, -11.072257500684564, -22.576453900191634, -11.98115419781102, -8.704615190952572, -24.199406621423048, -11.365386435679543, -10.192282456475684, -16.546926337235252, -24.03289098946658, -10.44898736323141, -16.432455595702024, -11.613127532366184, -11.392847263671529, -10.399321213304482, -11.322226023150034, -15.3060074299158, -19.11871670693902, -10.194364601858835, -10.341244524480167, -16.666120062511293, -10.05002610628537, -11.33232885494006, -12.82916652242431, -10.016406245391082, -10.151601219147201, -9.652892345602456, -11.160248573989275, -11.507840952412646, -11.490218136195834, -9.619568927600792, -7.001233341004792, -10.502607746375752, -11.722485897376554, -10.030213030526395, -11.033972209317186, -10.092769648195073, -11.081478496920827, -10.090699559811506, -10.113232911670535, -10.096847132334991, -10.45674763840261, -9.955331396920597, -12.102877239842165, -10.115873876016853, -11.482273094837607, -10.830051608061835, -11.6013852490622, -11.31886114157819, -9.791048638060582, -22.07744739602508, -11.345542400789377, -10.995715908659642, -11.078366144189902, -11.689426196376585, -16.36697305037165, -10.873147625886075, -10.353665394275247, -11.127638615537727, -10.82564242834155, -13.909604370169411, -11.143675761906888, -10.776927612891862, -19.97409457311037, -10.483106549455343, -10.423992067178737, -15.036866107024068, -11.291520416354278]\n",
      "result = -314.8502759809318\n",
      "resampling, ESS = 10.159020588190332\n",
      "phi = 1.0\n",
      "logw = [-12.133257801334468, -11.854850988518882, -11.891560241175654, -4.315629395624698, -11.389324866057999, -10.424534693952225, -11.566740656984457, -11.831896929707602, -10.973595943629704, -10.513741124285977, -10.631719496119077, -11.009004911418502, -11.64035419543867, -10.91796690562109, -12.020791117240668, -10.44624368523537, -11.841796720440858, -10.38881262490788, -11.073781132226342, -11.768281203311204, -10.724502913810802, -11.223652571836963, -11.15448758721137, -11.173764118041518, -7.92397428914827, -12.706446487788122, -11.820023045955072, -7.802487925873663, -8.366185036471464, -6.7593508138973455, -10.833168256587522, -10.58649044567912, -10.82310421460482, -11.904238824051902, -15.647885137743579, -11.16937020558668, -11.208182174966673, -11.534435750783537, -15.970760543628982, -11.594035558188809, -8.82591665937481, -11.805017944696232, -11.230475071985579, -11.615931341921693, -9.835278696615479, -12.33960483398516, -11.124047679654455, -10.889561608579765, -11.925713636086556, -10.949238154206903, -11.910010662576871, -11.131907595138925, -11.453790078196853, -11.081380413150411, -11.582816609985981, -11.184671286333234, -11.785227519882875, -14.299873367227448, -15.604668595002984, -11.091459586496699, -10.84051770847679, -5.271274481066812, -11.557558819250591, -11.137037679648538, -10.983694446707238, -14.43332677220724, -11.049781595421154, -11.580741526745841, -11.30683750798514, -11.52947093641574, -12.024134122348828, -15.614668792363966, -6.5644196611228, -10.353918376197552, -9.596384863850302, -5.599336356183575, -11.517453271498802, -11.935407449403606, -11.095086403763666, -10.016632861618744, -11.195285384258732, -11.862289096685146, -11.148497159217303, -10.17552879528548, -11.285328970557416, -11.349539363658462, -10.088591434956571, -10.978652943206361, -15.02864492491584, -10.567553135550584, -10.673959071233789, -12.399130880995918, -10.866297556262333, -10.49957888112719, -11.2736943565365, -10.893934922619712, -10.876085957883276, -16.016228223408056, -10.96750686350623, -6.784330652387167]\n",
      "result = -323.01755843280523\n",
      "resampling, ESS = 3.6027513211332343\n"
     ]
    },
    {
     "name": "stdout",
     "output_type": "stream",
     "text": [
      "l = 2\n",
      "phi = 0.05\n",
      "logw = [-38.55210286304744, -38.57585700604617, -36.19501923266258, -40.41231338004998, -38.60748328516973, -36.15402432974427, -40.42922572142538, -38.19320115975828, -38.446635605963685, -37.90040722016247, -37.826507952255966, -44.328043154544105, -39.030499325915855, -37.27179011219281, -37.75643478135952, -36.397753956264594, -37.92234725858206, -47.10189171011169, -37.003613869557114, -37.92600756119618, -38.41559979856875, -35.615691900964805, -41.419696600979094, -41.97888517143008, -39.01809587188951, -35.72787656906223, -38.732921241538456, -36.82073494614778, -37.10489128663824, -38.240925155804554, -35.735704396748396, -36.88968529964276, -42.46475776228036, -32.572533885759356, -35.814425199449964, -36.10846385379262, -50.050645959231375, -35.900735790355235, -37.30103744654269, -35.77083686871102, -37.657602790706584, -35.49965934365273, -38.721600409760256, -36.81229247951424, -38.50425419699308, -39.02814808315308, -54.706507256403064, -38.8814656526617, -37.342519771363094, -38.178493217681726, -38.095301842159245, -38.17368894188657, -39.19097555028417, -36.64011326247928, -38.43172320344274, -37.90379909427701, -38.34436561784761, -40.18993529158308, -34.620303992358856, -35.701943357949716, -37.44546987711622, -35.126360422381254, -35.2723908206512, -35.198623044141435, -35.693791198437246, -37.981513237581794, -35.91338676849085, -39.312143096672344, -33.57399986744107, -42.71495763905941, -36.76982495809723, -40.11828309411309, -35.43108684388175, -38.154274059630374, -38.678474894347005, -37.58422625174182, -37.28495275385669, -39.105864735762175, -38.8075107740876, -45.29216922929584, -37.112495076868775, -35.51038612717993, -35.13350813052988, -37.82205975405403, -40.79453238623492, -36.628284808517414, -36.602578210374865, -35.813112482583804, -36.47408519236205, -42.39383258108052, -39.19624407731468, -36.000391880258256, -36.335492699412534, -43.04129751787214, -39.2866149679218, -39.46977606732366, -36.67036247856762, -39.80239483491506, -37.86739054357332, -37.78893225923819]\n",
      "result = -359.1367994115926\n",
      "resampling, ESS = 6.878902894452802\n",
      "phi = 0.1\n",
      "logw = [-34.47897837528868, -32.393352840977855, -40.18200432134572, -38.01388464797141, -35.79976483958584, -32.83236020892943, -34.25407668035571, -37.94651872146982, -34.77360082484211, -49.09195943900681, -35.541892485800695, -36.09777584724694, -37.06627260522244, -33.42967977001793, -36.18208916931122, -34.44476468380861, -34.41232725389863, -35.49060586449964, -36.05262599145436, -34.456591901824424, -40.56952292204616, -37.7568525263079, -32.99657922565636, -37.024266638186134, -33.98564070692578, -36.561583993570835, -28.500129921386716, -37.28287548443152, -37.65289178318069, -35.42517338745008, -32.442026048916446, -37.79491072490739, -34.87934842426662, -35.919896381253956, -34.4060833779968, -35.31397228910123, -30.062165951210638, -37.72020324264517, -29.11041948326315, -30.82060106908483, -33.82947196254928, -33.21226750367259, -35.64848739455552, -42.74988083117309, -33.18442439280156, -36.864857168027775, -31.759093892150453, -32.79248005804061, -34.063145491915705, -35.98542991783383, -35.24973580596124, -35.901495947692545, -37.79238211253933, -34.65534150054038, -33.72122791288364, -36.71348559180797, -36.18016003660038, -34.3750701445194, -37.36331503092901, -38.821836345188046, -30.4374123428516, -37.02916466214728, -38.547345280209186, -36.29672526359451, -37.039079977408406, -35.04669320438532, -35.41288528486254, -36.0739177445945, -38.06297273472458, -37.621469584265625, -38.17968087213646, -35.757268620528954, -38.92405147778274, -34.67098746721302, -37.307565107364, -35.28399130017623, -36.936384680955086, -39.20629606635524, -35.3287945767347, -33.106177366064905, -39.45276991783875, -37.271853041718096, -34.307564632164535, -38.33447983564991, -35.33599264539426, -37.70141567280489, -35.31579441363065, -31.66307159440623, -32.76637813144333, -34.76188142303088, -32.94360959319497, -34.22650570339156, -36.83455894645814, -33.78217613355107, -38.06534615885796, -37.27485498579079, -33.156092266307546, -36.52765697513282, -34.92882065250682, -31.27576462521721]\n",
      "result = -391.37926127130913\n",
      "resampling, ESS = 4.073222337332541\n",
      "phi = 0.15000000000000002\n",
      "logw = [-39.078448940086254, -30.903877942375328, -37.80382336023687, -36.130005948340525, -33.399011738154115, -32.74185250428902, -33.210018505920246, -34.12508955465935, -33.6816285237706, -36.70628994272414, -34.127743295493914, -37.928531891847946, -32.28949453177476, -38.03710618567008, -34.954427354004835, -31.8600375069738, -34.27340526795367, -36.81447453983196, -33.89816582936545, -31.555093616883315, -37.469666252649795, -29.845985168363267, -35.130161518171384, -37.33135951806292, -31.353909489801016, -36.96420495018403, -31.843729889953824, -30.39797798765677, -33.34779757635579, -36.6859487063439, -35.97587675613313, -33.942547688890116, -32.743511406622346, -32.18155344465444, -31.70998114196965, -35.587878140435635, -29.326346094358524, -35.306713855798215, -36.12991558503052, -44.951561171010106, -37.43472094335415, -34.743073667380486, -32.88060093106712, -32.391213828118744, -34.63353849792824, -28.818123794215783, -38.061448947246014, -31.367190239888725, -33.77628494248334, -36.175977015052595, -33.3345077934258, -30.58008388561561, -32.80574769677706, -32.875226257453335, -25.60561256014247, -42.201303333611534, -32.876089944558125, -37.26373525774689, -31.943915441175168, -34.10048048939818, -32.62632836287422, -33.765350902134784, -36.78495847187095, -34.16019045606845, -31.092434875468278, -32.6938365770481, -35.11203121075647, -32.55996193336966, -37.48613381731433, -33.300075201355845, -27.28953638563812, -34.11949937461163, -32.878918186797534, -29.159390804272924, -31.88635191550038, -34.1495072932416, -26.554018749256873, -42.97974799910582, -33.01976029637335, -32.30097760395326, -31.758623372659418, -35.43319625460812, -28.517495650462774, -31.10074722145143, -31.371105034389746, -32.774243362227836, -31.56946701717273, -31.46448248911162, -29.320360495510748, -33.49677349845991, -34.924741664319434, -33.17211100231036, -34.072218125975894, -31.90812135562599, -37.27870203138214, -32.838126914233854, -33.922834299872946, -33.60911803790833, -43.12171642752082, -33.16334468689796]\n",
      "result = -420.97923266742276\n",
      "resampling, ESS = 2.8472575997608223\n",
      "phi = 0.2\n",
      "logw = [-35.2161232870734, -33.16193030397736, -33.98661486598488, -35.99912128746112, -37.1556616630966, -27.453206258524567, -32.14188902371107, -33.97889476208663, -35.32740263094897, -31.101143085365806, -32.29300063284921, -31.82112058316514, -32.56095716897534, -33.994458183231934, -33.043353372388395, -33.63147847740586, -30.072171464892904, -32.117423036279995, -32.80896417310742, -32.61100510805776, -34.855479458420774, -34.13068743568491, -34.35057923030963, -35.246236783969096, -30.44692360666832, -31.09772846964202, -33.61382180413131, -31.568474826332878, -33.74509229944161, -33.4971960447875, -29.875631767952786, -33.894500190136796, -32.7640483021546, -32.23043036614599, -36.942935410530815, -36.066777120318534, -28.442942378710203, -32.894012136110184, -31.913622150392612, -32.587040264227724, -31.66827908566024, -35.30262891887484, -28.296408396178453, -31.69767327881813, -31.110220437673608, -33.82963733913023, -31.65793202736069, -35.02135653131851, -31.595708380852027, -31.164320288652544, -33.86685018123043, -29.230626403714176, -34.275768726744424, -32.36500002870602, -33.30261477510715, -35.4949271052603, -33.32320979647083, -32.71202732631407, -32.79512990149969, -32.13564877003678, -31.93564004882933, -31.713690709618817, -32.24798420701766, -29.218456788359322, -32.675080688741346, -25.336037224749397, -33.37107045656113, -30.82213336895019, -29.28159231243536, -32.75880719429549, -31.507581881790866, -31.282155356374204, -33.93922512944262, -35.78529593478956, -28.5848616052762, -28.980435207540715, -36.12382591302359, -27.28526078844796, -33.98725816305901, -28.244906007265325, -32.369017700105566, -30.509753627831603, -32.378174338721074, -31.970808557022693, -26.410746772212782, -32.20960782221677, -44.50498069024044, -35.145496919057344, -32.02174481355306, -31.285685638606537, -28.604083342573478, -32.06218324849949, -32.509651647313326, -31.39966110201164, -29.39144780851779, -31.371483874417493, -39.055911445359996, -31.869526389085785, -31.100959258507082, -37.03481093542487]\n",
      "result = -450.2068210847277\n",
      "resampling, ESS = 3.5784190887786202\n"
     ]
    },
    {
     "name": "stdout",
     "output_type": "stream",
     "text": [
      "phi = 0.25\n",
      "logw = [-30.562374886122612, -29.64805271875404, -31.984426118108882, -31.35596151837127, -29.09396129907256, -31.532739159285022, -33.65774802785749, -32.659361169231694, -32.026934228175385, -33.41873395893377, -31.35887598382539, -32.163836749919746, -29.89310435618459, -32.423574810508526, -28.04067816636888, -28.6534035887755, -29.76418444118163, -28.723573314058257, -33.333639752049166, -34.419079693849646, -29.999833720011956, -34.19824109883303, -35.06329302640693, -28.54006418734048, -33.393253857652844, -33.58449188663644, -30.25433795023917, -29.925866067593635, -29.006538681402976, -30.67092045163517, -32.02916674261685, -33.35462991303982, -29.292938092698652, -30.940539626025757, -33.05250185531842, -29.922992923444685, -30.01186859877256, -28.291943587787816, -30.19871295554589, -30.0300308576482, -34.49502251137954, -30.509356161349732, -32.40348850991803, -30.486302018794063, -28.205045677889704, -30.60363945919314, -32.54145762476461, -29.92559775454717, -28.726562788045754, -33.54925620284144, -33.49240268423075, -30.039934024714313, -34.65160013362808, -30.291136670753257, -34.34772120022517, -32.0087433004916, -29.384362340794457, -28.863583635707347, -29.722466576505877, -36.089067756375385, -30.28833620046577, -27.948563957117557, -28.91682966111793, -29.790563127572472, -28.744609095584273, -30.758954866997378, -30.60822638280853, -32.329016290980725, -41.950875171336385, -32.17554874431341, -31.05569274665693, -31.33808486082316, -30.308875281586044, -30.87456667425078, -34.735160922901464, -34.15740417544635, -29.986988069984765, -29.379408490218776, -30.51685835512067, -32.945782648729995, -29.062935340948673, -33.00913349808744, -34.731978428987425, -30.711936480788374, -30.79725223464358, -34.796962722857046, -31.21307543976519, -24.083920894258327, -34.01232942197237, -32.6389701050354, -30.709037804596395, -31.769796760134817, -29.73915968930019, -31.031092529997593, -30.990911789210273, -30.889955926519455, -27.984260949525634, -34.2728683528586, -33.317861980837954, -27.973515740539874]\n",
      "result = -478.63418372174937\n",
      "resampling, ESS = 1.682500253796419\n",
      "phi = 0.3\n",
      "logw = [-27.19720577552011, -29.438708218297137, -30.233660654620593, -37.75800646973327, -31.63482627597381, -31.037868689619806, -31.019388456659872, -31.057705984642013, -30.124923859898722, -24.261310301718524, -30.210680828994878, -36.192910068498456, -28.374963181629134, -27.597615612601505, -32.13681777936193, -30.61747444938495, -29.57704049093633, -34.20899961175316, -32.712941115613596, -29.01929443245725, -35.860052630839846, -28.833590218214386, -34.125187808968114, -32.77402873009752, -28.9638722048342, -33.079305600618824, -28.587983882224794, -31.94460395264154, -26.754851902198226, -25.792609609474397, -34.88176277290308, -28.011776744789103, -28.408020432751886, -37.08773295355252, -27.843968279638215, -32.33028417085425, -34.1256791600259, -31.879672338813513, -29.57871100023658, -35.53963947326855, -35.23689607082154, -30.890635807980463, -32.78180429150346, -37.059607689474745, -30.19139650735874, -30.842433013013604, -31.282372406100887, -32.37589533437174, -35.95099529126665, -31.533961678333576, -33.170780782130414, -33.91648698865895, -34.26201696916911, -31.18034813672746, -29.562875680909276, -30.546166992185515, -35.74149832317244, -29.711307520338853, -25.034424065470372, -28.20127056248628, -29.308444646543595, -31.864108767893427, -29.22884622536373, -33.680242791159266, -29.963986164041778, -30.684764625908592, -33.33257075400282, -31.13386544223834, -28.097595576048427, -32.08893502875789, -35.55807668440332, -28.58026252632148, -32.4459498221571, -32.01355966726377, -30.351555668433086, -30.675949838898195, -31.869353079745938, -34.2828916585331, -31.948043525538292, -32.78469016133651, -30.735787784163044, -36.04515067824289, -33.04094984429492, -31.108881558491127, -32.238205893014765, -40.31372266026754, -31.27959829292354, -26.49224177876336, -29.0318724851432, -26.021547026618588, -34.62029115135943, -31.184144599915577, -30.603626364191513, -35.2243039519944, -26.4942518141829, -32.09763466093787, -29.05874182184071, -33.540177266535416, -31.5991141711473, -33.04930487197863]\n",
      "result = -506.5774404068739\n",
      "resampling, ESS = 4.775351229816606\n",
      "phi = 0.35\n",
      "logw = [-29.85297681858562, -31.765305331346852, -34.403201188847305, -34.726788704616716, -29.300618162903735, -31.328318855031824, -29.722635154979383, -30.267022620837917, -31.41496385456813, -32.67418636324823, -32.990325567104186, -32.213620015760945, -32.48013761903793, -33.0087947399302, -32.31892656244226, -34.35289157655937, -31.820073658585653, -31.87263574609795, -32.61953548810415, -31.515566527223136, -32.734505992918294, -35.33883622700562, -30.373243830448022, -30.574743050861706, -32.771097818865634, -32.2423010204887, -39.706050622575496, -28.262057824326206, -30.007092251441883, -31.14806158376345, -28.88935523372408, -42.32751703500176, -28.50223383706213, -32.2915721582268, -30.892642973439642, -36.66213641582264, -30.219859782032703, -34.42749513327908, -30.388294584689827, -32.90165130393601, -32.88545577906917, -26.625145057541097, -28.13426204964756, -35.054867018837264, -31.909116572482496, -26.01184613767138, -31.571690088623455, -28.281732926308024, -30.015470469680878, -27.60458231722698, -31.22047254536681, -30.420733750803986, -31.20131010849947, -31.939467769610886, -33.28653726339139, -27.900486236949774, -30.685331062801264, -34.7278121775035, -36.53860046024664, -35.89503035481419, -29.6648006566797, -36.086359810046616, -34.91241247942672, -33.28322251588153, -29.8338850948936, -35.11552645244296, -35.242340342975126, -32.350483424784144, -29.07131108483258, -33.40250531239143, -29.666605499381255, -33.03591399014885, -34.501918848008124, -31.1720248028261, -37.227033349254185, -33.62024636908043, -31.896945092914045, -33.97089425400468, -33.40326754020187, -30.07092273751306, -32.176731407369054, -32.65122876386263, -31.646902751055677, -34.3973209218018, -33.975814381280664, -31.712770595844066, -29.254887372796503, -32.95266447560773, -32.89129395819148, -35.796977523891094, -31.440620948585057, -33.72300261075504, -27.834578674896356, -31.73017907038184, -27.265845306004795, -27.741872908682556, -34.09101275606036, -29.028558770765873, -34.572647763656484, -31.81909835820804]\n",
      "result = -535.9315543076752\n",
      "resampling, ESS = 8.036503974945813\n",
      "phi = 0.39999999999999997\n",
      "logw = [-32.68753865434934, -28.386862713844238, -31.299915502805533, -30.869146646669883, -35.34350492390327, -31.853768253951824, -33.41952197182144, -31.25174531974447, -37.20722327167459, -27.687820952409293, -33.25232226905491, -31.82805727796395, -30.400558632212135, -28.785629670020313, -33.11656110898537, -34.00880391200131, -32.00743033943822, -36.89546948852266, -35.236163699938075, -31.04161703036175, -31.84714356512773, -35.670194197283784, -31.289792012454317, -31.778298820298698, -29.988640815353783, -31.2750715551467, -30.834988501201433, -32.454556041715406, -34.47575157487583, -32.110215091225534, -26.82827975099306, -31.483947054350537, -33.83210888368322, -37.378745982205615, -32.79877289477153, -41.778929080461005, -25.526137279135842, -32.65037622205161, -32.799282252421285, -36.36279036900453, -32.72353120941603, -34.898448685189436, -33.14198849698142, -35.165424292017015, -33.35156840491397, -30.16221960376916, -27.56025402568428, -32.97255967338101, -35.46906940007867, -32.77734765668365, -36.23621190523626, -30.37342819484594, -34.245017935985075, -31.569438532660087, -33.092843756659136, -29.682059669507396, -35.36787524890733, -33.241534541519776, -27.904415163464666, -30.43693454841222, -30.827004592742302, -30.766684612402678, -33.921321285026224, -32.971692395368976, -38.27331695567266, -33.54839609305745, -32.47044810412826, -28.961431389176955, -33.90064358262385, -35.49117315828002, -35.44084935235899, -34.445945024794405, -31.79668258648616, -27.99929432972394, -36.50772817348124, -31.047107520780212, -29.50536939718155, -32.905394311726276, -35.33804753788458, -31.550617802179385, -33.86939747892854, -34.26847053209951, -33.04113983802941, -27.276212101497723, -35.94312682316465, -30.608640111036884, -32.13676267593866, -33.590013894002574, -29.82638286492453, -33.00166699300764, -34.24995530242924, -31.42123439072995, -28.179115296827273, -31.710029627696244, -31.180317230799176, -36.35313143778441, -36.4068563092372, -32.98284021768223, -33.99905044406431, -32.63490562115931]\n",
      "result = -565.2508575439498\n",
      "resampling, ESS = 4.364452612640511\n"
     ]
    },
    {
     "name": "stdout",
     "output_type": "stream",
     "text": [
      "phi = 0.44999999999999996\n",
      "logw = [-31.455569578627948, -29.081459214164777, -30.484620023238122, -33.08234246831686, -38.877854493575924, -29.903823979036968, -32.721292856464544, -33.174905729915324, -30.299636746159642, -35.83284477940722, -32.703903234165665, -32.761254219446734, -32.77100256762875, -29.496928112920017, -30.419892658608756, -31.344995621375123, -31.194006797960917, -34.28109232705355, -35.54145002336435, -32.42331123721716, -32.272986132161954, -29.45348719114641, -27.550959235095494, -31.98741068335041, -31.81469910542964, -33.78235655758184, -31.71637480726013, -34.839866038635854, -38.52791346230592, -31.55659398746178, -26.50118053322553, -34.868931290102175, -33.243701996435064, -28.197234556126574, -32.82387579518355, -33.01685294784823, -30.192699607198033, -28.70000085954212, -31.36219779148784, -30.170988060032094, -35.82744705151308, -30.917815730583747, -29.958975243331697, -32.646173423301335, -28.032616149284564, -29.546489920517278, -29.439963219439875, -28.06336423727716, -30.624700522996903, -33.76246927808821, -28.425358898722056, -34.75161892981387, -34.12717962708072, -32.95271502626046, -33.274829505218875, -32.55542964375682, -33.79864239134485, -27.21699947592279, -37.45177332431346, -33.0359895615144, -25.57360893174421, -35.25527374022065, -29.995303474311093, -33.77748522286104, -33.04941171452803, -33.62589917493323, -30.063602924543932, -25.197065753471325, -29.330218466575495, -30.137249466989118, -30.138028786338275, -32.87460116344584, -32.90642956266491, -33.94344674714246, -35.86365675108636, -30.2804662357608, -30.879260786018307, -32.845845443151525, -32.24830842038205, -31.74749623182168, -27.4618699831318, -30.324343493781548, -29.6622191464787, -30.422953658711894, -34.617796772880475, -33.57273179446902, -30.444913023806013, -33.91106983379826, -32.78907299033913, -32.01874617926813, -33.57321073612312, -34.39677468526582, -31.53295027747809, -33.41339286283816, -33.870458712355635, -31.437164491060564, -30.436366824727003, -29.97725913421215, -35.532720008540196, -30.474944312791962]\n",
      "result = -594.0260700955504\n",
      "resampling, ESS = 4.886528012529269\n",
      "phi = 0.49999999999999994\n",
      "logw = [-34.31842637693536, -34.82284693870813, -29.14865417091333, -30.164611392459467, -31.947125847508417, -31.419489465895087, -30.218074858719095, -32.25432037394873, -29.0775457241099, -34.14935217377843, -31.850196616843604, -35.016886256754155, -27.472054424757737, -37.35453202202882, -35.12445359162361, -33.95726892496965, -34.04919498173116, -30.902078568376538, -31.77973076388767, -30.88559499506512, -32.72449629286184, -31.818047494213463, -33.618362097739556, -34.39158188293278, -35.546997880140935, -33.06678086842768, -35.809876006436696, -32.56914457173944, -32.36478393196575, -29.634247357834255, -31.724728094237804, -31.857033472170148, -29.23902751482571, -34.24947207654484, -36.53636526678157, -32.46508562163121, -36.21917190311191, -34.04477424062008, -35.662507669503555, -31.821578595807637, -35.49247543416, -34.75419881334447, -32.692130080353586, -34.899453925987416, -31.058036049862583, -33.892321652023696, -30.86678779289804, -38.187889334897136, -33.74574699867626, -31.71795745908941, -29.922818702887792, -39.19306099319192, -40.37005061782055, -31.922651629638153, -27.67451466666344, -30.8029057604074, -33.37829306531508, -30.998743001151098, -33.855434344000315, -31.86360894325509, -30.610491672553973, -26.35930133510097, -27.70293578852927, -37.392674057309414, -33.461375007160214, -31.97658199333314, -35.00622204540668, -31.017509178561305, -33.41402033410291, -34.090658487558635, -34.11612275068155, -34.02640740270148, -31.014822574683947, -35.400643001204834, -27.629981263133576, -34.74150860552622, -49.039191358145594, -33.69797821747163, -33.61362361463293, -35.75531689255038, -31.23468263999011, -35.37491287875702, -32.81329688009905, -42.52505523754944, -35.15518170691794, -33.252483966025615, -34.49136918251241, -33.819383534700926, -33.216142447422364, -34.35022937198562, -35.04546397619554, -34.20894466455255, -34.63055069832775, -38.53033759203363, -33.81182076535054, -35.8049011268766, -32.412997728220525, -33.707842057800725, -26.524037974355785, -32.29906470404084]\n",
      "result = -623.7449683075208\n",
      "resampling, ESS = 5.855897462762749\n",
      "phi = 0.5499999999999999\n",
      "logw = [-31.45158654577961, -33.938387059805876, -27.969879540748632, -28.48487385644494, -30.202978195019494, -29.055295056073195, -31.064298312597906, -28.773409625565368, -31.597777277689914, -32.35740541325567, -30.74188366629461, -26.331627091387254, -34.00991087662049, -34.740069866914865, -32.322184427413795, -33.10548805267277, -34.93035306184639, -35.84010034933407, -33.345648590842906, -29.063226096570094, -32.682622219189, -32.80885678962361, -29.76269466448081, -36.60323841269608, -27.00135655827617, -32.366758705351664, -30.177422748481508, -35.634902708021286, -36.520721784616434, -30.181158480949083, -30.16834394898778, -30.41431550378436, -30.246988745541152, -33.12364416842798, -34.85338255062826, -21.9707103163722, -33.11494194611901, -30.22098148057086, -28.903310810225882, -33.37634762670684, -29.148229957227937, -34.59949508890419, -32.56554126330927, -35.368621094914346, -34.94303175683686, -31.589817980962167, -31.010943434520385, -27.77119439378337, -33.95890988127472, -27.27182109437295, -36.35989500264586, -31.162982656508056, -32.380682467221575, -36.08989130011037, -39.321804565267215, -29.80624658078056, -33.42599792531109, -32.85597138930361, -29.089136450727942, -30.959243080339256, -30.544423353561484, -33.81965535798557, -33.13053448741976, -32.05744570377235, -32.60220011602499, -31.257060046089833, -34.27962635307782, -36.813942352658856, -33.1082796946627, -29.303777117985252, -34.18426194323733, -33.35762784060959, -28.960937140949323, -34.706919319461264, -30.820196539922158, -31.887784721774384, -35.214791408332715, -33.88548833431273, -32.73847743317544, -32.110976105996805, -33.16045167397854, -27.78900917661852, -33.09347800578695, -32.13698197441667, -29.722751466305912, -29.19999193581373, -26.682279157430315, -28.778129021909084, -28.266941761653555, -32.16868011400527, -29.64685256513309, -30.18529315207466, -32.5538155409725, -29.512383849536125, -32.47951592695896, -32.99747749754681, -30.018181364841375, -30.286633280670838, -32.63318198602914, -28.896517627007256]\n",
      "result = -650.2609825916863\n",
      "resampling, ESS = 1.126798780322103\n",
      "phi = 0.6\n",
      "logw = [-31.483127565544628, -28.806469576443956, -28.551811318838865, -33.15817131932991, -31.576499948866847, -30.175175918772975, -30.30338594615867, -27.68999158120329, -32.20897203726309, -30.068053298329982, -30.379455833806542, -32.85269779344339, -30.40817979717835, -30.144394228669753, -32.7014661938356, -29.252864722957717, -28.695379251773122, -33.763564164223446, -26.949718309873084, -30.68020912367797, -32.07273454831154, -33.45713486600643, -31.039226550813968, -29.42035938470698, -30.311805759604457, -26.916017850879054, -31.178652652247553, -29.97970602950251, -31.408507749586185, -32.140007503677765, -35.5191823151147, -28.647553879936428, -32.09268248491138, -30.76088879043923, -27.58300308817242, -29.966348778571152, -30.418153852874518, -33.19147076611675, -31.228081802134817, -35.74600929914955, -35.87478461911565, -34.83621764315322, -29.86064189413784, -27.196290002499634, -27.00200941597159, -28.369035811726032, -28.877122588095464, -34.64554620616261, -27.7485465994576, -33.208605616404, -29.138669050900344, -30.092535736132316, -30.130098201236073, -27.40079725372365, -26.594437735186045, -32.977872540214406, -31.128102465353127, -30.098486061725367, -28.26987211684723, -27.158343352500705, -27.730172474317797, -30.96579651556552, -23.110957855189596, -28.591386853752763, -27.609701378691273, -33.481914033826214, -34.573577600113374, -27.381312515012883, -29.726879577216476, -26.74642237136576, -32.438766357503034, -28.74542340091437, -39.42811619581642, -29.291673561049176, -30.28702195952956, -30.582385163600705, -30.323775922753946, -29.7035953901244, -29.442853958663914, -29.793143583169037, -33.68872089451707, -28.368582989672827, -29.8636991733737, -28.401738584816453, -33.878677124114006, -28.88905101919336, -24.979751494803242, -34.30557549410221, -31.0805034613671, -33.51065604236887, -28.836548005032945, -30.41403945240715, -28.485051873331148, -29.709561197577298, -25.72451512639649, -31.444394228411117, -30.78303320097867, -30.632861180296374, -30.707946485245035, -28.679896078738423]\n",
      "result = -677.5300415509367\n",
      "resampling, ESS = 2.364756621547262\n"
     ]
    },
    {
     "name": "stdout",
     "output_type": "stream",
     "text": [
      "phi = 0.65\n",
      "logw = [-27.512851328035346, -36.84652322117737, -32.087726300949086, -29.676868865249688, -32.5423063379621, -32.10663652505475, -33.56375405288268, -29.43866899220725, -26.96527205361199, -30.849522739338152, -33.639165061993644, -34.700930128865124, -35.07930924813388, -30.57804099672242, -32.29491647005405, -30.36756398395818, -33.47489894868877, -29.66693359985785, -29.234210796870652, -28.916971939636486, -32.56478285475211, -38.51068264908447, -33.14546988384935, -28.249310888478522, -27.48716178853315, -29.626548046296094, -31.99622999016097, -29.541492360772892, -28.793470566329173, -31.13420172870528, -29.181325352246965, -29.173137824397973, -29.364008527323843, -35.86233842775614, -31.05143088833533, -32.36868253921818, -30.880177448047892, -31.96143869336483, -31.550040936909795, -31.44593951968412, -33.48496670572242, -28.36752950073883, -25.1836358784903, -31.71052208636623, -32.66393454764149, -33.118250076229316, -33.26728752997348, -31.888051930073477, -31.60324292945335, -32.817846455933285, -33.35434142103896, -35.66897760753727, -31.671268271193167, -32.55475542765646, -31.436446165430425, -31.542320181811878, -32.1329681661969, -29.017442047549473, -36.41154146331614, -30.642094206141955, -32.673128247893665, -31.79928153264388, -32.94972275357542, -28.257468175744478, -32.16184891594035, -26.782758358416004, -33.70149633982799, -34.31154169765524, -34.52310783809545, -31.331293634229535, -31.688996368598275, -33.70209240661649, -28.1592074573088, -30.42368977657688, -28.114994065008705, -22.84681265723841, -33.972685127339695, -31.244394116209513, -34.26640721694271, -28.753004830099506, -33.508898759058944, -31.389030778703766, -31.540746639762705, -25.100262083911485, -30.721482080956804, -32.89877842300762, -32.35406640494925, -33.56008472920626, -32.449562253794866, -33.36552303942598, -31.87937070371573, -30.69975588995584, -31.274117553404977, -26.543757960391655, -31.675678847330783, -29.92039547972299, -30.880968590941166, -28.47039993714225, -27.11756137776996, -33.33401314782598]\n",
      "result = -704.6790138874367\n",
      "resampling, ESS = 1.793356483211434\n",
      "phi = 0.7000000000000001\n",
      "logw = [-31.319687947992957, -32.529717535754784, -32.17320141788552, -32.473340000947175, -31.50411087338165, -31.19267312128929, -25.650454988750575, -26.76183688827777, -33.49420457232529, -28.490333492691573, -32.432161791982956, -39.61264830373157, -32.703557054518555, -31.66261752403181, -25.936691716070776, -29.21205793004407, -32.67667683332554, -27.99283110846142, -35.284236724077545, -35.045682568190585, -32.535676111699715, -31.788835389652963, -27.61193155915562, -29.689042105093964, -31.576656704445536, -29.029632405496343, -27.978789815714837, -27.608649373222626, -30.117750102144274, -27.931464279801016, -30.289943361664896, -31.641447072766944, -28.5607013903075, -29.670528649805014, -32.33496463558474, -30.554571797489363, -34.11345665718297, -32.89079522703432, -34.602624878147935, -34.39061374479317, -36.50860813431195, -32.13781727211128, -35.60158776123788, -30.176303438821165, -29.52690976190967, -29.59716112858629, -30.247427737063703, -31.590191711627828, -31.70850968191659, -33.247783677927416, -31.15821264634465, -26.49428205716369, -35.685975091174484, -31.826704531767387, -30.828749103549665, -31.430494792025144, -32.7714866057832, -31.313471053874927, -29.436783378312864, -35.14609295956984, -32.05768435439188, -33.04162686601314, -31.491313277100748, -26.320039649157316, -33.089862804485385, -30.72422541157666, -30.354777017810903, -30.948966620054062, -33.42079720240522, -32.25771106323344, -29.164645822716174, -30.52565786663412, -33.211623483946944, -31.21161655763629, -33.47513050861392, -35.46296302845053, -34.50648714831896, -34.993028206224956, -28.17032867874049, -35.712093152299644, -28.93141506577296, -30.226220370283087, -34.14630516975319, -32.07543062398303, -30.68762194045486, -30.959045922511127, -31.32929094092836, -30.183021971360624, -34.15196548661848, -32.09118652776051, -33.71540081477992, -29.26367847262362, -32.7104443584085, -34.77364145958528, -33.49120327300502, -28.14569936832104, -32.19306357991779, -32.86362567747507, -30.85343411596792, -31.74511574997053]\n",
      "result = -733.4693884322885\n",
      "resampling, ESS = 8.45471580984268\n",
      "phi = 0.7500000000000001\n",
      "logw = [-30.49916108038755, -33.11658039796425, -32.56300868762589, -35.396127654451476, -28.40529176452691, -33.714494934000285, -31.806149251554853, -29.46281499102039, -33.28439006854132, -32.77200165626411, -35.85025969560158, -32.221675837918866, -32.57779534280615, -31.77765387526524, -27.157171689072825, -32.312246053409964, -33.956612953769955, -27.713601121995147, -30.9492474578389, -33.14152873298047, -30.04150175675837, -31.483253700343532, -28.507694840167154, -33.22474276717138, -31.993215278296056, -35.141366408165446, -30.91315151660778, -29.8515407008741, -32.493231745398504, -27.948460920143443, -34.31473956496424, -34.391777112457596, -32.463974767625885, -30.279484941628976, -30.710311794216707, -29.030581309678862, -33.785483402894926, -42.80638539386942, -29.237521575939482, -31.062225784353775, -37.43114785276536, -32.37706999607563, -31.042787530665322, -30.861827258676605, -31.451066894330317, -30.36558763204163, -31.7033459422641, -29.97045941917916, -31.91014003228151, -31.09390168725501, -36.08406739802353, -35.31955865934509, -30.364275994918074, -28.910648842163052, -31.1519083500219, -30.422758722912373, -31.871325180064872, -26.973167233663755, -29.987335721712853, -32.67669210084901, -29.583519840197578, -31.440180061266773, -34.88327581288837, -28.22628687513563, -26.742856668465357, -34.15657721474223, -35.714882843422345, -34.054109685371216, -35.63531805991192, -33.97108227011994, -32.905428701342366, -30.68892977854836, -29.751001722022345, -28.060798567844223, -30.941749655067003, -32.91452090442462, -31.445102015714546, -30.732358579239694, -33.826502983005945, -34.021031059905326, -35.271061879250624, -37.02857662483492, -27.042069293146472, -32.346801422423866, -27.724372163730813, -33.661729552275695, -29.983115814841167, -26.769394208334003, -30.251922036718035, -32.02439701384316, -30.888958419321003, -24.998179525938344, -29.999190833286086, -37.13494964983611, -29.87125245035343, -33.408417673103905, -32.08785407472148, -28.734596187610386, -32.07734747976955, -31.55801800437751]\n",
      "result = -762.2379623978101\n",
      "resampling, ESS = 4.705703365569167\n",
      "phi = 0.8000000000000002\n",
      "logw = [-32.28382055623633, -34.91629486353226, -28.4774857744328, -34.63419496289873, -31.694180030051633, -33.110276567944815, -31.96631864979751, -32.75769272039058, -32.57589556038387, -31.316930173856377, -32.62913308366182, -28.59370184300966, -34.22648045624983, -32.76823631577333, -29.003476454087323, -33.65816586742694, -32.92588298962451, -32.9308731228465, -31.243679380729695, -30.89592627386076, -32.13343741718921, -33.45383538162155, -32.22356889515578, -30.593845013254285, -25.886072706007145, -28.896537740369958, -30.40628081771702, -31.662987383062823, -25.89383286241459, -31.73509198216015, -29.00975717904479, -27.48054850660982, -26.38619595244212, -32.888775421060274, -29.6402604932934, -33.461032115851886, -29.417898213734325, -29.811638100258055, -31.383264662134497, -31.691785643556994, -33.0453508548052, -32.317111488510925, -33.442338673093396, -33.058822513335585, -30.381217242762926, -31.688901110691, -32.1725235602257, -30.012752979761142, -28.598225210098477, -31.095677603967378, -31.177854049510547, -30.996524236513704, -30.706789480334464, -31.878123051557147, -31.153201827694605, -28.376363863119625, -34.78492400503595, -31.021101809502447, -29.53999435974727, -31.37964311461055, -34.11664113641818, -31.770291099800232, -32.32095465826135, -32.75122135961827, -28.78334713638771, -30.980523265329627, -29.884423571319306, -29.20647511274997, -29.684348669347017, -28.45368019865234, -29.955744906295585, -32.35446625722214, -29.759549970826097, -30.31430994570648, -32.93314690553873, -29.795792609822346, -30.0108207407194, -32.69450969641274, -31.61648862651716, -28.539512101736094, -32.79584494375679, -31.982514103241158, -32.001339797502894, -31.8548507498564, -29.16529474058282, -31.529550659060323, -28.35053212586453, -29.61688081085238, -29.883302877664885, -28.772595919539132, -28.860214959250456, -31.78279354136118, -30.83741275801819, -29.68205842617995, -31.765762206759824, -32.535760560297916, -33.080143282431834, -26.755478728825892, -29.81736130372124, -32.250147816878695]\n",
      "result = -791.1986135268301\n",
      "resampling, ESS = 8.105493957826045\n"
     ]
    },
    {
     "name": "stdout",
     "output_type": "stream",
     "text": [
      "phi = 0.8500000000000002\n",
      "logw = [-34.775886820918316, -30.98614827458843, -27.891610843081626, -33.05273508009757, -31.60601663116975, -28.554323179520626, -28.986231339372555, -28.870681839332523, -25.077143415710598, -31.76647035988912, -34.055201407340284, -32.170007231673836, -27.13957507073318, -29.178019357522682, -29.241607154374176, -34.20931384285826, -32.48431154084272, -29.03428851108513, -30.738806395869815, -28.24332424012763, -31.14956803149721, -31.87849502051111, -28.902658630278715, -30.641474410651078, -23.67563018491741, -30.71393344564629, -32.367267819031866, -27.648817217675557, -30.340678522935153, -26.414530565707025, -30.969122200215775, -33.46231469280172, -31.51719595619274, -29.24081716842499, -33.06700861910039, -29.92441540138603, -30.582014684534784, -30.497732625574727, -30.338478825938637, -29.998283173770485, -36.29345046829277, -33.24389937402887, -31.105512452873512, -29.769138285026454, -31.92630587019725, -31.893742546096775, -26.933951288558873, -30.140290324048042, -33.47896816531351, -30.37393203765212, -33.49922341459386, -32.133514637153255, -31.058283837214237, -33.8099693173946, -32.85466266583472, -28.677210757508774, -31.541531132229863, -27.608838129955338, -32.93123553662177, -34.24201060071962, -29.244209357708126, -31.145041218003417, -26.999409313052695, -29.34002714365329, -32.65028722622057, -31.839577397380644, -28.705139826399606, -32.07107260639499, -30.301127510767326, -29.760931082587334, -35.90817830067941, -29.455166742894118, -28.48205519736611, -30.15720207408555, -30.00748747047027, -27.587668780959593, -30.519797484855218, -32.303664157388475, -30.817828509782164, -31.271306440479425, -27.985132126140527, -31.99560055486403, -26.767472378551357, -29.64633898591523, -29.441372293489483, -27.648017303096655, -29.691637772171944, -31.187721910375206, -30.893923674372733, -27.19576861927055, -31.004600668387507, -29.643641913620197, -33.690247499123544, -30.448300115254, -31.487462647061903, -29.500941870289548, -32.294729372832926, -29.01828703492794, -32.61287383100268, -27.906682928462388]\n",
      "result = -818.9198938430691\n",
      "resampling, ESS = 2.850373997220767\n",
      "phi = 0.9000000000000002\n",
      "logw = [-28.23924297568166, -30.361932321822195, -29.593489662754045, -24.01010675815529, -40.48163529705372, -28.96076031626582, -36.513797247035086, -29.38128031513916, -29.89085353659049, -29.53633383554539, -28.972677487571254, -31.761053386228895, -28.868283307294874, -32.90770901711257, -30.42167038462262, -30.148924877103518, -33.267592191040464, -26.472052799273435, -45.138614647488005, -35.84489668819369, -29.57811965657741, -24.100823548372958, -29.537297793921315, -29.74277374910137, -29.781903530845096, -29.06301556445557, -29.51640497872501, -29.101545871776686, -35.686816436724285, -25.38407018027558, -29.611003375926025, -31.773149668772085, -29.866108572016394, -29.4115623584812, -29.79042549433748, -29.30302315796105, -31.10497205817465, -31.222006842524326, -29.084788363154964, -29.491296625423846, -29.525465413577834, -29.13648974834178, -29.510911964482446, -29.572885559783213, -29.51375784057691, -29.60616671842701, -28.985255485750717, -25.352739215128636, -28.830696728989224, -28.933799239180807, -28.57648015991355, -30.309459515264773, -36.30362793099039, -33.911400136819545, -32.305336479009625, -29.22820582461923, -29.394087102790596, -29.265157971762545, -29.11246560374673, -29.07787051542281, -30.0162330462896, -29.405246126372827, -31.69479232590755, -29.268453076516384, -29.302470978081594, -31.65271988340359, -32.345502797324656, -29.295865664089323, -29.513766615513468, -32.77929742264685, -29.80762127517144, -31.902776430918852, -29.51464907867212, -30.258546032960027, -23.76696810505007, -30.031175761522448, -32.853828283371556, -31.949065559619225, -30.537914790526603, -26.61450223327198, -24.934174264130128, -24.950568554054623, -29.36447041218395, -29.643887467864626, -26.600609339567303, -30.30475993119143, -28.038856249066374, -28.987183957911938, -29.395273949413948, -32.986225531765385, -29.143981635966103, -32.25722309873403, -32.28215740489749, -27.44502421671352, -30.318402807617353, -27.41276787278222, -32.77477368287264, -35.285138887608966, -32.07579678650438, -28.12990263840253]\n",
      "result = -845.9051331647046\n",
      "resampling, ESS = 6.636937860038881\n",
      "phi = 0.9500000000000003\n",
      "logw = [-28.960507003358636, -29.663678805208704, -29.440658544732518, -29.395985019413995, -24.290102842349384, -29.815786748062333, -24.985809931628513, -32.330224683336056, -29.44477598664744, -29.418412894069142, -29.45471443873835, -29.190895060191714, -29.019831069292902, -28.757133548923733, -30.759737611000723, -28.583326950544805, -29.249667761920083, -29.409970596631425, -25.45818894660301, -29.44844509616137, -33.09168327630958, -29.212372833657643, -25.05648389226444, -29.799665644503786, -29.10467093988814, -29.74418466487703, -28.58908627328497, -24.93024942269165, -28.87216935154776, -35.89062812361443, -34.94285645599388, -29.597264253917526, -24.07427745219442, -28.74959201975395, -32.65449425108452, -29.366482112222336, -29.7037901629808, -29.634609285976037, -28.918358160419317, -29.641839751426236, -29.536720778242184, -24.28610756477805, -24.94987988380752, -35.833162741411535, -24.363556548740263, -28.991875399644577, -25.95762191210614, -29.44015623319222, -29.357621658528505, -28.809408503355034, -35.397215382556, -25.483955294347844, -35.423678882760356, -29.540243043492072, -29.525605890246144, -25.55183607484863, -25.876530593202745, -35.34021432261352, -29.54536379643968, -24.27054082175522, -29.573978802158415, -35.932162689677455, -29.426637087275644, -24.7293840029398, -30.02602335528006, -29.394952150053737, -32.288315511271314, -29.522825057640766, -28.887070070041446, -29.34690973119148, -29.446201663483194, -29.056081256704775, -28.939749997133774, -29.185474617715684, -26.486715971182537, -27.614705063115924, -31.82322171842184, -35.97275851189198, -37.22203254793156, -28.90749922482004, -29.85326084712937, -25.56573999627126, -29.825789129079833, -29.153494713606303, -25.229436286856643, -29.038803155799602, -36.74246412267079, -27.660517027957162, -29.363173731563986, -29.284537469635055, -29.85788612776179, -28.92705796328709, -24.334407232207294, -25.611406174704847, -29.964409460894696, -25.831158526821515, -29.474367255243877, -29.13131569367113, -34.76158662934385, -28.693890810056622]\n",
      "result = -872.328355086495\n",
      "resampling, ESS = 16.50394271397351\n",
      "phi = 1.0\n",
      "logw = [-28.55459383610425, -29.350433078278, -24.412266883834604, -28.900026892965723, -29.72027430958234, -34.56445345735592, -28.185787824134636, -30.05975483165898, -24.37607576469633, -24.292367577707182, -35.03670620299446, -29.33316339641981, -24.774949164510613, -29.73908061456534, -29.261075845345445, -29.38350759747998, -24.670567684276588, -24.766265753485758, -27.22635979096125, -24.840444221378085, -24.181363127020564, -29.313536127062026, -29.679610689206765, -24.784329690896943, -34.85868209502711, -24.860410905381357, -28.688072811676438, -29.705548524604897, -35.77379471937652, -29.31359828034499, -24.87118267856468, -29.46012037912111, -28.924038907572463, -29.67509077853124, -29.86650266722571, -30.099925971593333, -36.27825591379246, -24.645765358864136, -25.324131165065936, -24.21227139951044, -36.24664817737182, -28.9698069432694, -37.592040410531055, -29.032965600285188, -32.051483720170744, -24.256713308643242, -27.251687404404677, -25.401913491585546, -34.67718810339131, -36.68858387663491, -27.99444828378066, -29.015203602072, -24.6350672511253, -29.534412050092214, -34.883421865045335, -24.658235080702664, -24.56683274462046, -34.99065611078882, -29.45113519404688, -29.241995102156945, -24.646425589352727, -38.16779616023927, -29.017654094986828, -24.385164757872563, -23.885760173718054, -34.74505132624592, -29.073839933110754, -28.91634453114955, -29.444103580505384, -29.010754732809986, -24.738148394378364, -34.029911574794184, -29.480838778167765, -28.908024707888856, -29.56076999099823, -30.339232822883485, -29.079718712931587, -26.45304518610514, -28.545523544226292, -28.959329739344746, -28.98241183173607, -35.02568559425353, -34.82395480855016, -24.687230225150998, -29.118584085277465, -29.234804407129616, -29.331608754632658, -31.283941917171365, -24.23416569210085, -29.394259988376042, -30.915036172341402, -29.194880324353075, -36.09601151806669, -32.730060510182795, -24.180304517787864, -29.315618972692164, -31.151478119301103, -29.50210986464135, -29.69163116310184, -29.504726274490384]\n",
      "result = -898.1791999978116\n",
      "resampling, ESS = 24.82591822748334\n"
     ]
    },
    {
     "data": {
      "text/plain": [
       "(-898.1791999978116, [0.0 0.0 … 0.0 0.0; 0.0 0.0 … 0.0 0.0]\n",
       "\n",
       "[1.0 0.0 … 0.0 0.0; 1.0 0.0 … 0.0 0.0]\n",
       "\n",
       "[0.0 1.0 … 0.0 0.0; 0.0 1.0 … 0.0 0.0]\n",
       "\n",
       "[0.0 0.0 … 0.0 0.0; 5.810463023472858e-24 4.598858116507817e-19 … 0.0 0.0]\n",
       "\n",
       "[0.0 1.0 … 0.0 0.0; 1.3088989764496507e-19 1.0 … 0.0 0.0]\n",
       "\n",
       "[1.0 0.0 … 0.0 0.0; 1.0 1.994161826008071e-34 … 0.0 0.0]\n",
       "\n",
       "[0.0 1.0 … 0.0 0.0; 0.0 0.0 … 0.0 0.0]\n",
       "\n",
       "[1.0 1.0 … 0.0 0.0; 1.0 9.519170496424432e-31 … 0.0 0.0]\n",
       "\n",
       "[1.0 0.0 … 0.0 0.0; 1.0 0.0 … 0.0 0.0]\n",
       "\n",
       "[1.0 0.0 … 0.0 0.0; 6.203622135409484e-34 1.0 … 4.598802115809655e-19 0.0])"
      ]
     },
     "execution_count": 325,
     "metadata": {},
     "output_type": "execute_result"
    }
   ],
   "source": [
    "(logpYS, graphs) = smc(Spr, hyper, y1, parPF, pair)"
   ]
  },
  {
   "cell_type": "code",
   "execution_count": 326,
   "metadata": {},
   "outputs": [
    {
     "data": {
      "text/plain": [
       "10×10 Array{Float64,2}:\n",
       " 0.0  1.0  0.0  0.0  0.0  1.0  0.0  1.0  1.0  1.0\n",
       " 0.0  0.0  1.0  0.0  1.0  0.0  1.0  1.0  0.0  0.0\n",
       " 0.0  0.0  0.0  0.0  0.0  1.0  0.0  1.0  1.0  1.0\n",
       " 0.0  0.0  0.0  0.0  0.0  1.0  1.0  1.0  1.0  0.0\n",
       " 0.0  0.0  0.0  0.0  0.0  1.0  0.0  1.0  1.0  1.0\n",
       " 0.0  0.0  0.0  0.0  0.0  0.0  0.0  0.0  0.0  0.0\n",
       " 0.0  0.0  0.0  0.0  0.0  0.0  0.0  0.0  1.0  1.0\n",
       " 0.0  0.0  0.0  0.0  0.0  0.0  0.0  0.0  0.0  0.0\n",
       " 0.0  0.0  0.0  0.0  0.0  0.0  0.0  0.0  0.0  0.0\n",
       " 0.0  0.0  0.0  0.0  0.0  0.0  0.0  0.0  0.0  0.0"
      ]
     },
     "execution_count": 326,
     "metadata": {},
     "output_type": "execute_result"
    }
   ],
   "source": [
    "#graph for y[1:49]\n",
    "graphs[1,:,:]"
   ]
  },
  {
   "cell_type": "code",
   "execution_count": 327,
   "metadata": {},
   "outputs": [
    {
     "data": {
      "text/plain": [
       "10×10 Array{Float64,2}:\n",
       " 0.0  1.0  0.0  5.81046e-24  1.3089e-19   …  1.0          6.20362e-34\n",
       " 0.0  0.0  1.0  4.59886e-19  1.0             0.0          1.0\n",
       " 0.0  0.0  0.0  1.0          1.0             5.60007e-24  0.0\n",
       " 0.0  0.0  0.0  0.0          6.20362e-34     5.60007e-24  1.0\n",
       " 0.0  0.0  0.0  0.0          0.0             1.0          5.60007e-24\n",
       " 0.0  0.0  0.0  0.0          0.0          …  1.0          5.60007e-24\n",
       " 0.0  0.0  0.0  0.0          0.0             1.0          1.0\n",
       " 0.0  0.0  0.0  0.0          0.0             1.0          1.0\n",
       " 0.0  0.0  0.0  0.0          0.0             0.0          4.5988e-19\n",
       " 0.0  0.0  0.0  0.0          0.0             0.0          0.0"
      ]
     },
     "execution_count": 327,
     "metadata": {},
     "output_type": "execute_result"
    }
   ],
   "source": [
    "#graph for y[50:100]\n",
    "graphs[2,:,:]"
   ]
  },
  {
   "cell_type": "code",
   "execution_count": 301,
   "metadata": {},
   "outputs": [
    {
     "data": {
      "text/plain": [
       "MCMC_pars(100, 0.5)"
      ]
     },
     "execution_count": 301,
     "metadata": {},
     "output_type": "execute_result"
    }
   ],
   "source": [
    "hyper = hyper_pars(10, 100, 2.0, 2.0, 3.0, 1.0/3.0, 0.5)\n",
    "#(p = 10, Tau = 100, w = 1, z = 1, delta = 3, tau = 1/3, theta =0.5 )\n",
    "parPF = PF_pars(100, 0.7, 0.001, 3, 10, 100, false)\n",
    "#(N, ESS0, TOL, nE, nM, num_it, Laplace)\n",
    "#changed N from 10 to 1, again to 1000\n",
    "parMCMC = MCMC_pars(100, 0.5)\n",
    "# (M, pB)"
   ]
  },
  {
   "cell_type": "code",
   "execution_count": 302,
   "metadata": {},
   "outputs": [
    {
     "ename": "LoadError",
     "evalue": "UndefVarError: S not defined",
     "output_type": "error",
     "traceback": [
      "UndefVarError: S not defined",
      "",
      "Stacktrace:",
      " [1] top-level scope at In[302]:4",
      " [2] include_string(::Function, ::Module, ::String, ::String) at ./loading.jl:1091",
      " [3] execute_code(::String, ::String) at /Users/karolinagrzeszkiewicz/.julia/packages/IJulia/a1SNk/src/execute_request.jl:27",
      " [4] execute_request(::ZMQ.Socket, ::IJulia.Msg) at /Users/karolinagrzeszkiewicz/.julia/packages/IJulia/a1SNk/src/execute_request.jl:86",
      " [5] #invokelatest#1 at ./essentials.jl:710 [inlined]",
      " [6] invokelatest at ./essentials.jl:709 [inlined]",
      " [7] eventloop(::ZMQ.Socket) at /Users/karolinagrzeszkiewicz/.julia/packages/IJulia/a1SNk/src/eventloop.jl:8",
      " [8] (::IJulia.var\"#15#18\")() at ./task.jl:356"
     ]
    }
   ],
   "source": [
    "Spr = [50]\n",
    "pair = make_pairs(hyper)\n",
    "temp = test_logl_est(Spr, hyper, y1, parPF, pair)"
   ]
  },
  {
   "cell_type": "code",
   "execution_count": 305,
   "metadata": {},
   "outputs": [
    {
     "name": "stdout",
     "output_type": "stream",
     "text": [
      "w_std./sum(w_std) = [0.0056034473509086, 0.009114760092269818, 0.008134436498037311, 0.005752174518946799, 0.009277875287369203, 0.006476434385962323, 0.005932255702862307, 0.005857221466053156, 0.004488076400446329, 0.011254202748022668, 0.005894466666921129, 0.009064013839001012, 0.011706591749398455, 0.005661115643143404, 0.021168210001277003, 0.004897292438732447, 0.006764802600030514, 0.006795837807311624, 0.02981026708112581, 0.006340792016256812, 0.0050066401605955105, 0.006654361020537563, 0.007807103738441386, 0.010292304009622026, 0.013683557675083427, 0.009432845935118029, 0.03623617099261128, 0.009446111186895206, 0.012084321905348784, 0.015541494074380505, 0.00973579595603733, 0.0065331037660844435, 0.00569213123264041, 0.007050963442158832, 0.005644917854868617, 0.012917373485890407, 0.007928157757729518, 0.0060299283575825455, 0.010724905313262456, 0.007185680997068382, 0.007899603724752902, 0.006554807526842969, 0.005834960023100212, 0.008265642865198182, 0.007811593931880846, 0.0059110270797248345, 0.025606029058448096, 0.005552988354447293, 0.01710434109389977, 0.010215366580712709, 0.009978277619072632, 0.009121385800419863, 0.0133675414296464, 0.02860014302876542, 0.008526846653435768, 0.009824266881671359, 0.007701062543701995, 0.006603282588310526, 0.011820531102865215, 0.007051393480986221, 0.010619871694410823, 0.009692248147598824, 0.008959264698492652, 0.005899676414335913, 0.013145900218830464, 0.006247328890184458, 0.014344824083510685, 0.007911819667807997, 0.007906909973805632, 0.005592585316979706, 0.005675349390030828, 0.015198135994850046, 0.006490415149043198, 0.010137763371393212, 0.009585312853127225, 0.007007631988844505, 0.007072916614556964, 0.023056066809329978, 0.04512379592519332, 0.005694400999989427, 0.004906617509738766, 0.00637922758452966, 0.008762887743151537, 0.005324181390434551, 0.004453067105260166, 0.017804306373031566, 0.012558946406202831, 0.015596692420738849, 0.012641348179867536, 0.005244343222635474, 0.008065096595002675, 0.02136721326746654, 0.005720679590684094, 0.004773306660589722, 0.0050636710514582566, 0.00531041250761132, 0.012022350832124341, 0.00634560921061455, 0.006846817741031187, 0.0064777718815939404]\n",
      "w_std./sum(w_std) = [0.007910480503882806, 0.014167792410266385, 0.007780945327124382, 0.01936514841396788, 0.009410271599022023, 0.0060576605473621516, 0.006926333480624297, 0.01056623901245597, 0.007255397213492409, 0.009583934129539614, 0.006857762628225275, 0.008287463883824493, 0.005961013336673288, 0.010150533955958508, 0.007014291658881671, 0.009836326521733796, 0.013794157328525677, 0.010080158353209145, 0.01050570496699048, 0.0070717690243981115, 0.00967095014110474, 0.005612182674244472, 0.006926284690911176, 0.0063140436303381255, 0.017356700477430934, 0.01604158806476604, 0.00977252010045423, 0.006501994713510418, 0.007772717709161302, 0.00719081139352916, 0.00873192615402288, 0.008740308271350607, 0.006318306996946306, 0.009255446223728802, 0.006224950065316786, 0.008912777292071536, 0.014216426716834756, 0.006681757259094665, 0.006273558574894033, 0.010341781534768385, 0.005693090561014499, 0.007070813703583288, 0.014146230511595657, 0.012165457795237263, 0.010648912976020856, 0.006589341516379651, 0.007610199893510698, 0.007313066390439203, 0.007757370374508179, 0.009723380269657736, 0.011941439643333699, 0.007551233502839242, 0.014098740182492993, 0.011161655951491194, 0.006065699106395538, 0.017141476018896935, 0.0061164116045328894, 0.007750642278553334, 0.006139762626009882, 0.006946392305703013, 0.009078970185021623, 0.01254694695127963, 0.0072933070233608165, 0.008247711802656073, 0.010685569874000303, 0.0073588916233039495, 0.006703583264187641, 0.01306501711418186, 0.00925802190747755, 0.008255354465594097, 0.011944670361995159, 0.013076591372472203, 0.005452704704707571, 0.006257287311249022, 0.00895274097625707, 0.008057865510336656, 0.007621534046751822, 0.007858352279678323, 0.011749260456940186, 0.007416990382473437, 0.01164010582757062, 0.012363064249138857, 0.05249813258878804, 0.0063476821779329074, 0.011010971174381977, 0.018883470999822204, 0.008464561581341254, 0.015747714963012187, 0.006698372971761898, 0.01997552426656979, 0.008956648860066377, 0.011079430881211483, 0.012230875941609924, 0.008848311995879609, 0.016895826392091976, 0.006541485638123859, 0.011105025064402311, 0.010441046657978275, 0.007890641812638152, 0.010428000148919994]\n",
      "w_std./sum(w_std) = [0.008563580439082315, 0.014210978672397913, 0.014248092236696562, 0.02201955995184518, 0.006712801877308199, 0.006836824928301699, 0.0031884813742511556, 0.0036151233395400606, 0.01166870430828462, 0.0034578988157903763, 0.004936103450688524, 0.059885994585685116, 0.0059236441135490465, 0.007536860055890974, 0.004129876826036574, 0.010799368314536267, 0.009825427940164107, 0.006576319600185241, 0.013050654928625465, 0.004402860830056289, 0.004242703449996352, 0.006690243313462128, 0.004947473509258899, 0.003812304471739169, 0.0058917754201981585, 0.004126321332369187, 0.004204337655147051, 0.005993006518433348, 0.008575423632540493, 0.017952409472648288, 0.008113915265529945, 0.009366492899829918, 0.004099044239392442, 0.006892232067135376, 0.04667528380498802, 0.003975340243072043, 0.015123263330363812, 0.01251127447347461, 0.003614044836129383, 0.003960633741950951, 0.018380621154312382, 0.0047924678851900175, 0.004197740187222918, 0.006018070605448019, 0.0071368940291854435, 0.008272881500775132, 0.008011510706779622, 0.015214865026419465, 0.009810565452608461, 0.03834917259993481, 0.022950847440550943, 0.005966397078442414, 0.009566566262339489, 0.00826453303691433, 0.006738441231715215, 0.0041253361327587895, 0.007671240605479585, 0.004556257722305077, 0.0037056074883377913, 0.004179591489619176, 0.01119027159256944, 0.003542506212819805, 0.00903310284729456, 0.020129641486211935, 0.006531067329647522, 0.007887025210554156, 0.01036841088298022, 0.008971909100901412, 0.007331046056957594, 0.0039581851253667035, 0.0045500107378885395, 0.023191131839785127, 0.004866841772584953, 0.03997040161927947, 0.007952341734432518, 0.012817423402106428, 0.010880131900267436, 0.013388235798110546, 0.006495835753398911, 0.010494689217562527, 0.00839601724695962, 0.0034656639100083104, 0.02100027894505157, 0.010241036543927785, 0.007205685954213053, 0.010036871785918323, 0.008469740348295752, 0.005758978266309208, 0.004385184687250424, 0.006699952865583029, 0.005114246974811894, 0.0043472471791991835, 0.017299294268046574, 0.004254523207103834, 0.003522862235478496, 0.006771113984132667, 0.005353551703541315, 0.006610430437811004, 0.0032821712236402274, 0.03396865070908345]\n",
      "w_std./sum(w_std) = [0.054305960308852416, 0.0029934629732426546, 0.008195406057543441, 0.014720318592820246, 0.007985692965973713, 0.007917611516728257, 0.01019606281940921, 0.009117369348663912, 0.003560707333798195, 0.010753828305386941, 0.0037672693262479316, 0.020038684054665145, 0.011121434615751612, 0.005773507349900651, 0.0033025457892462725, 0.005584842984161939, 0.01086035003098642, 0.0073084833701323815, 0.010966233609470279, 0.01577908776252124, 0.01967670829220233, 0.01424448606253727, 0.005603147399698723, 0.005330639779551301, 0.0025507614217707337, 0.008873625470087578, 0.004854795689233902, 0.022697324820411986, 0.02208496803552085, 0.009639763284939804, 0.00442421232075653, 0.009761952436886436, 0.003543552810793271, 0.004020228993977583, 0.007395737291685538, 0.01491806592263897, 0.012135665888755122, 0.015091951025007546, 0.005856393965924615, 0.0037735405867775395, 0.0035993707970493186, 0.013240419954871005, 0.0040580416979022075, 0.0217544744227403, 0.002277007317872173, 0.004256096452480916, 0.004396294391046571, 0.02245034130247943, 0.010068578321706592, 0.01212150549338308, 0.006913068535718697, 0.0026583024020054077, 0.016696579139442714, 0.018405741204365132, 0.021090603042139736, 0.007943169146225993, 0.010531463723342788, 0.014590328903335928, 0.01571889208353941, 0.005244906479570935, 0.003549816291571882, 0.003784773351468513, 0.006650019747747972, 0.014985959976253991, 0.005306116736302361, 0.010660352319733436, 0.0048132541920043155, 0.012178621571188835, 0.01427933209954579, 0.004999304241734109, 0.03165658667641379, 0.00953457381087322, 0.0323900671673564, 0.006995910943075252, 0.008992163197256308, 0.004631533739582881, 0.009089047821380777, 0.008509488499739117, 0.0023411965705084845, 0.012498993425996242, 0.009168329339688136, 0.004547266691045233, 0.005078127459708706, 0.0033291513971830783, 0.004546630811524598, 0.007496239819583942, 0.0024579564622091957, 0.014674899888065853, 0.013301207408604365, 0.007750106052050691, 0.012099628226396661, 0.003962467719125609, 0.008475270926089141, 0.014151510716662877, 0.010616635614276074, 0.005364814081807582, 0.008232008779713728, 0.0038323158642578816, 0.004795430702524309, 0.009531324233869955]\n"
     ]
    },
    {
     "name": "stdout",
     "output_type": "stream",
     "text": [
      "w_std./sum(w_std) = [0.0067060502629005606, 0.03463921778685704, 0.01833489418481659, 0.004401371447756297, 0.015183106588021475, 0.009963123959203615, 0.006934840242877548, 0.007820211049603502, 0.014929389424979846, 0.006873399308830145, 0.003594421914868725, 0.0059506982057013925, 0.006978976490732406, 0.010303777751343312, 0.021507353090257374, 0.014207591779319807, 0.014231233628617602, 0.013102606464368649, 0.005651391961252411, 0.010163953870999424, 0.009223588042230077, 0.006792358013682451, 0.010605508762250712, 0.007629143134577862, 0.007350359603526175, 0.0075633315897517955, 0.008760223469276707, 0.0034230973434745317, 0.013093740485287072, 0.008886870473558944, 0.026814011355979595, 0.0062839292995071116, 0.006063950339411848, 0.004043669472885472, 0.015135976836761326, 0.002288192544582816, 0.006194895531094813, 0.009450182279563967, 0.0035305743081150208, 0.010530636828178794, 0.002617208135764973, 0.01300513687348988, 0.002360956763505536, 0.008566470259926186, 0.004651699248463869, 0.003521282660377129, 0.013587533644955163, 0.003854454971000581, 0.00995272932467943, 0.007082351699332829, 0.008661672819903463, 0.007680515412277827, 0.02418379977082045, 0.003440846117978064, 0.005640529908376106, 0.007389274002181583, 0.015783457205520768, 0.01808318578748795, 0.0061160216005120265, 0.005461210673771429, 0.027722079500609804, 0.020846621701563636, 0.011577274051929895, 0.0023159588984454724, 0.010637600559883989, 0.006886716659000356, 0.0031850946786671813, 0.01616232215400163, 0.008645134217997251, 0.002891074434848368, 0.01639162619994694, 0.004663839943258406, 0.01220291187109871, 0.008326103165665108, 0.009862091728121828, 0.011984930660344418, 0.011557770109466441, 0.0060393015142379556, 0.0063320124185643695, 0.00548963052001067, 0.012346025746755777, 0.003190033278587317, 0.0027463085118663057, 0.025810399010429447, 0.015574438284743967, 0.01705608240872922, 0.016937654462634, 0.009041503494716024, 0.011480973145514531, 0.011462955375460998, 0.01529701241730285, 0.007944259503325979, 0.01157801744837733, 0.006954446002967622, 0.008326156652967565, 0.003140401799043246, 0.009488128072231488, 0.006380375200072314, 0.01176667213031137, 0.01297587605897017]\n",
      "w_std./sum(w_std) = [0.009930288810358227, 0.006812305058946546, 0.006201716339334155, 0.0078026271566619025, 0.022215196644020344, 0.008030008684265256, 0.011263333069038777, 0.00990990343421316, 0.012490690564430045, 0.0031594583242970666, 0.01278376598801302, 0.009633457262084559, 0.006348559150761446, 0.005689284166647538, 0.004054037296107081, 0.01766863570781156, 0.01712407432461741, 0.006618582277679457, 0.009201326788741006, 0.005226760541320402, 0.012339327225353774, 0.00803927066433557, 0.014808077383013733, 0.01216875892503143, 0.009614661270290387, 0.005670685512894145, 0.00832225626352535, 0.01788355279993518, 0.010543752233280962, 0.003910460523050433, 0.0180016876149274, 0.011149033172779885, 0.004417942782628866, 0.013082265536726199, 0.011538584595110353, 0.01009297260587994, 0.018565630379611803, 0.009939286346816852, 0.007027966892082509, 0.005576156734682995, 0.018360121687004443, 0.007722381678911092, 0.033835869674148984, 0.010867796830646455, 0.007276585855072826, 0.015224860356712685, 0.00480936824988692, 0.014624702227186103, 0.016459247697161485, 0.00467957964099377, 0.01087029759442489, 0.010027456669879269, 0.007009330375406024, 0.008643399756286705, 0.012695348562195678, 0.007501086541694274, 0.010464958594992815, 0.009092693472842039, 0.017733796414484127, 0.014584955779972117, 0.010344860373537096, 0.009163994995765881, 0.010488753961919913, 0.010981774467649261, 0.0035404491960591704, 0.005465730790999012, 0.004038160905410913, 0.007558732602832681, 0.004524184872939236, 0.008862687263340462, 0.004066031480961244, 0.011517094260068505, 0.009834275992196433, 0.009496176127993023, 0.004835192217116735, 0.010228945806821254, 0.006256184548784433, 0.005658892515230956, 0.004950321632801621, 0.004426755021321328, 0.00745072169631696, 0.009003819611952306, 0.009829900120018461, 0.01326896870792065, 0.004740709908459001, 0.03914606962265627, 0.010183745622775527, 0.007919749137329662, 0.012801543386925048, 0.010799607224668984, 0.005998315653353017, 0.0036082991720000823, 0.007616223430060494, 0.011439399265230746, 0.009767341871209005, 0.010424247887572133, 0.005212741019534199, 0.01268790391677473, 0.00816516193507236, 0.006356153065211778]\n",
      "w_std./sum(w_std) = [0.0056039236942923435, 0.008611865347659241, 0.01357208639578835, 0.006886963798105545, 0.011577600212150065, 0.006250215590954248, 0.010522409258273085, 0.005607790665911242, 0.00757680612466877, 0.014640803026930603, 0.016402823507366802, 0.006623785873011424, 0.012443204430717716, 0.013045324876013255, 0.010045961284658941, 0.011817528057274157, 0.005798301772811561, 0.0178162768319895, 0.008471431368371213, 0.0091080473539972, 0.008158429744970287, 0.004669397945452734, 0.007165886095015715, 0.012422489605062304, 0.017102219702655207, 0.0083956649382265, 0.011758091900689147, 0.009401876214645336, 0.012475582788623027, 0.006719352070285015, 0.008251338507284194, 0.011122256720528984, 0.006148757885138211, 0.009557416049921648, 0.010545255843844555, 0.01557307996728032, 0.00900753148902605, 0.01094448036664355, 0.009759384037269715, 0.013371968182397916, 0.006021626585884618, 0.012000167594058232, 0.00611494111916649, 0.011632783783452219, 0.00655470624659116, 0.00989721140021616, 0.009588081462660004, 0.007924377028976652, 0.0029938491693542266, 0.012388277319656313, 0.01186119909864651, 0.013164488895505599, 0.009647436071727687, 0.012348027007654422, 0.010004494499647465, 0.01056040798232549, 0.014696136745402735, 0.007247238182598899, 0.008036220433122512, 0.012025036553003386, 0.006661246817449113, 0.010015718569508442, 0.008183106937195794, 0.015876851830746844, 0.013612579192505992, 0.010433595096312047, 0.006562139994674315, 0.005197242306254316, 0.010442873035011273, 0.006400643281808934, 0.011357282917528896, 0.009362883528438103, 0.015891033007166946, 0.01136266642320343, 0.007294138850481992, 0.005344565966260037, 0.015373292133320211, 0.015146710114540936, 0.011733158445871547, 0.006526453957020619, 0.0028204265373263735, 0.004810942366802741, 0.009385971016394887, 0.015096414955208503, 0.007075892850772426, 0.011141359796700253, 0.005461315518765381, 0.011035677513993439, 0.00973165741800642, 0.0067834706870518, 0.00425590305776491, 0.013288996888773092, 0.016098532600526374, 0.009339731817996515, 0.013396386820525607, 0.009786993382223334, 0.010331341021084345, 0.020946845602132932, 0.007719496888166792, 0.009034144148927501]\n",
      "w_std./sum(w_std) = [0.004954096960767768, 0.009275821968598018, 0.007322405394728425, 0.003863779318691088, 0.006206824614697692, 0.004440542529383784, 0.004303556416363123, 0.00626048208519924, 0.005610170415653313, 0.004968811322886237, 0.014103092229654805, 0.005114589246478126, 0.015183853395508142, 0.005379530027829841, 0.006145999629724153, 0.0076664742876746015, 0.0075617906976378916, 0.01098068761624101, 0.019347111548416066, 0.01635660761638814, 0.007236653097814758, 0.012552468260300844, 0.006854490812207456, 0.03736618408361194, 0.010294247738930179, 0.006276275319100088, 0.0046137121907057, 0.005349426342332624, 0.0031403581904100243, 0.013821647113121654, 0.0052264809682907275, 0.009630673882454126, 0.005491200542083557, 0.0091782312564874, 0.014637140836334621, 0.008182901810428552, 0.005916768925839186, 0.0109124046284708, 0.0027913899699903186, 0.006918748415348977, 0.012836507288976964, 0.0099470947515211, 0.009437943814708053, 0.00941681388060035, 0.009496177225722768, 0.014447891558954108, 0.006773582693788465, 0.010111254472562484, 0.008240324021623469, 0.012438705617648127, 0.003225438229337596, 0.002775595715931285, 0.002014571277526583, 0.00786723212442278, 0.017437659294866934, 0.013867305362350531, 0.008421929999497325, 0.01541054679332863, 0.009364970380394135, 0.015146586146281822, 0.03608456285621158, 0.00855531131581801, 0.002467459107912474, 0.009151018097519927, 0.017387579823067243, 0.004678833856542709, 0.014094828698103643, 0.015885798247898687, 0.005593983430248387, 0.0076676332114812345, 0.005546929364847728, 0.013857091186561254, 0.008663425222113066, 0.004117788601577201, 0.021827586908091026, 0.011867525380782848, 0.011705336212462558, 0.002715851312418101, 0.02437560669249431, 0.0052395174537446096, 0.006203833174225245, 0.0047438364641112065, 0.016219161534151507, 0.010327584569810623, 0.00474859148977578, 0.010373170849846685, 0.018382358939852367, 0.013575909166316139, 0.010867615031108542, 0.0019987270464350317, 0.005298348328205219, 0.027311175585519595, 0.012205194599666293, 0.011597100248973443, 0.007298997831501141, 0.016584034865008007, 0.011123726182751608, 0.007492198428871036, 0.015796817818170186, 0.006252188508975187]\n"
     ]
    },
    {
     "name": "stdout",
     "output_type": "stream",
     "text": [
      "w_std./sum(w_std) = [0.014507028530815393, 0.009648973855084408, 0.003165700970898636, 0.01599871768019688, 0.021149746609684685, 0.008493660381672052, 0.006084121971800405, 0.013701684795248623, 0.0060801494076052915, 0.003742536125503297, 0.0032170894113053706, 0.007536954352491845, 0.012465597799327334, 0.004938821136127287, 0.004423651781351781, 0.008832366342244087, 0.003451381592620021, 0.0039027510524776107, 0.01810314532708936, 0.010421137641136407, 0.01189520674615438, 0.00679791716817865, 0.008049149159736204, 0.016491286139150865, 0.010200345493456102, 0.007133096489466407, 0.006383737299274693, 0.009615700048101406, 0.00879898549479363, 0.03500000820544794, 0.010396262772148198, 0.002342038987039575, 0.014932549697456835, 0.022250741476426146, 0.003863317691196607, 0.01187237219074258, 0.012065076088661631, 0.019183721456736996, 0.009462619236316016, 0.004762701279932963, 0.010701336279646017, 0.009354212933968464, 0.005904367318564169, 0.007646622055901366, 0.014087660737897413, 0.03383134988060113, 0.01231007358897387, 0.008011453492496183, 0.008094805050179787, 0.0158506083600213, 0.00584982739841537, 0.007725615324261243, 0.003745777177988375, 0.017179532202854158, 0.01058299154432117, 0.01700234359726617, 0.007642831917808478, 0.007557525719461954, 0.002423158530734076, 0.0033239992324136172, 0.0041658961700129235, 0.0046696914817171515, 0.007399150168124604, 0.003826575116764079, 0.006786070669300663, 0.0057351991129467724, 0.0052970112609888684, 0.01136486667233595, 0.009392712988796405, 0.001830515055176015, 0.005643547115300139, 0.041516694885409045, 0.0023148139947450253, 0.0028583860898286546, 0.009600323024739102, 0.012795412993819555, 0.017085070928957214, 0.011215496914404065, 0.015581048302133568, 0.019504349044981807, 0.02157094549023185, 0.0016283965529069514, 0.0031300825365718405, 0.002126168536741868, 0.013336017777416286, 0.006959322130203148, 0.019315518592170698, 0.007182450907890826, 0.00324486724156391, 0.003452287289230848, 0.029656310935035995, 0.00822950313158165, 0.009105260817952503, 0.010786068114034857, 0.010786931518297727, 0.003387728059306113, 0.0018531045683975228, 0.010020632824400253, 0.004148403361449452, 0.011309025395261187]\n",
      "w_std./sum(w_std) = [0.001760066300819671, 0.004465291513444547, 0.004023177388476455, 0.005626187424615579, 0.0030495786535487935, 0.010435720236563709, 0.004242676804728474, 0.007627130468313973, 0.0031493458385372505, 0.009884333452653866, 0.0074626065193805595, 0.005206255642668804, 0.008603903369807722, 0.4481517646256965, 0.004240835417321887, 0.004851396225930788, 0.00304532115833535, 0.00562756504808557, 0.006954266984897142, 0.03093099522108345, 0.0034053665906731375, 0.0025898021274473335, 0.007756690324586145, 0.0046344714522959666, 0.005340935983663771, 0.0015634633763707238, 0.0023645653773420715, 0.002206962476125259, 0.010299153677772286, 0.005569337199150397, 0.002794705276665858, 0.011810084179248552, 0.002560841618308072, 0.0029215528742689246, 0.005696147183792336, 0.003213458699708819, 0.0028903910905312864, 0.007600920007432376, 0.001402685388778799, 0.0026883253279637222, 0.0036298843247714713, 0.008666423573571938, 0.004830097881252308, 0.006639679016204325, 0.0029645518673519886, 0.0019256344840241906, 0.00200571585055051, 0.0033639509692031115, 0.0020549438710586996, 0.004160931802389959, 0.0035720914247528296, 0.0028256833711755415, 0.007977178784652879, 0.0027692945163522134, 0.002180573467897746, 0.01196401328317615, 0.005327210755855429, 0.005436371435219712, 0.0044346373025484975, 0.004404358829778459, 0.0029902011199713515, 0.00656388911931198, 0.0018815471308441505, 0.006401824631081407, 0.008692335366627066, 0.008348835365339409, 0.0022358228354373254, 0.00281985128037333, 0.008694679903357407, 0.004121156515776545, 0.006093998316752063, 0.003517983400461581, 0.0046677771398000575, 0.012905383311337074, 0.0035223688853225988, 0.00666753395686372, 0.007145950739226241, 0.015549516863914621, 0.004410159716053163, 0.002347122039055613, 0.009737211272410527, 0.003534534425378235, 0.00465251424111392, 0.002939065086272947, 0.007457889043511572, 0.008022676514528931, 0.0032125744896148024, 0.006835822227786736, 0.005424207432459766, 0.010447819995743977, 0.013749109021454854, 0.005949474588586254, 0.00323877342664801, 0.0038946356282269622, 0.0031553412391166886, 0.007947724762402504, 0.003982330703702631, 0.002659593571780247, 0.002804856728878676, 0.010994402624651236]\n",
      "w_std./sum(w_std) = [0.006344541724608809, 0.011012239195071787, 0.0025283186061897515, 0.01152501461062385, 0.007033138447061983, 0.004152233620073679, 0.007914496830506304, 0.011153038924798535, 0.010215582191401045, 0.008128232235544743, 0.008252922493991776, 0.008587408470695272, 0.004182242070991435, 0.0032127110784317325, 0.0027373395002649663, 0.009451776061274984, 0.03927870783307735, 0.002241144468494002, 0.010353170562717518, 0.007479464372591737, 0.013015196777013694, 0.0074837096341824685, 0.008233338452462659, 0.009414074724883332, 0.00789798654826489, 0.01452932604253295, 0.01412679290307684, 0.010042240357289393, 0.0021888839128674353, 0.004323345078290184, 0.005055141035592217, 0.025153373711548053, 0.0061465293120288, 0.011190437340520906, 0.006300202674712964, 0.011073826013726558, 0.00986816111962822, 0.012059853208650799, 0.036227961898947336, 0.008258821880459125, 0.0077683389096624275, 0.013657520994916132, 0.004633550562740983, 0.015499777497045838, 0.002172736110758523, 0.009492768625212792, 0.006993014692378093, 0.016032039677722973, 0.03383144339599887, 0.002847160905150187, 0.008890688880104499, 0.007341460465799502, 0.014339846889236889, 0.001846245038611769, 0.004573351856021058, 0.003675298655043946, 0.010356328400047955, 0.007683646090786439, 0.004838523600602678, 0.00875253168786122, 0.008608563106318691, 0.0073293252513666664, 0.007178888461573433, 0.012524531508230038, 0.0023011589327549507, 0.011346607442926267, 0.0047818069890506135, 0.007455286590109723, 0.0091177457717512, 0.0049255423475527355, 0.009237928971874821, 0.008629490930932881, 0.009002988824518787, 0.011384476781632829, 0.024685451814589816, 0.013578607070812525, 0.002660535035733976, 0.003317072719949695, 0.009773256422298789, 0.008780901566436516, 0.010658843742774834, 0.0088390854813943, 0.016957917147013248, 0.009309980517462313, 0.004549503588942462, 0.027209392241110655, 0.012902499328689395, 0.012018911939422653, 0.0029239122984888954, 0.00582377869048517, 0.00996644178584675, 0.006662282925845639, 0.03612585756020786, 0.008677385769342617, 0.005080698045236321, 0.004318734421037993, 0.0030928454812134704, 0.00581561309832318, 0.013752771514834377, 0.03509417902112003]\n"
     ]
    },
    {
     "ename": "LoadError",
     "evalue": "ArgumentError: Categorical: the condition isprobvec(p) is not satisfied.",
     "output_type": "error",
     "traceback": [
      "ArgumentError: Categorical: the condition isprobvec(p) is not satisfied.",
      "",
      "Stacktrace:",
      " [1] macro expansion at /Users/karolinagrzeszkiewicz/.julia/packages/Distributions/cNe2C/src/utils.jl:6 [inlined]",
      " [2] #_#37 at /Users/karolinagrzeszkiewicz/.julia/packages/Distributions/cNe2C/src/univariate/discrete/categorical.jl:30 [inlined]",
      " [3] #Categorical#38 at /Users/karolinagrzeszkiewicz/.julia/packages/Distributions/cNe2C/src/univariate/discrete/categorical.jl:34 [inlined]",
      " [4] DiscreteNonParametric{Int64,P,Base.OneTo{Int64},Ps} where Ps<:AbstractArray{P,1} where P<:Real(::Array{Float64,1}) at /Users/karolinagrzeszkiewicz/.julia/packages/Distributions/cNe2C/src/univariate/discrete/categorical.jl:34",
      " [5] logl_est(::Array{Int64,1}, ::hyper_pars, ::Array{Float64,2}, ::PF_pars, ::Array{Any,1}, ::Array{Array{Int64,1},1}) at /Users/karolinagrzeszkiewicz/Desktop/stat_comp_research/dynamic_graphical_models_mcmc/particle_MCMC.jl:375",
      " [6] top-level scope at In[305]:1",
      " [7] include_string(::Function, ::Module, ::String, ::String) at ./loading.jl:1091",
      " [8] execute_code(::String, ::String) at /Users/karolinagrzeszkiewicz/.julia/packages/IJulia/a1SNk/src/execute_request.jl:27",
      " [9] execute_request(::ZMQ.Socket, ::IJulia.Msg) at /Users/karolinagrzeszkiewicz/.julia/packages/IJulia/a1SNk/src/execute_request.jl:86",
      " [10] #invokelatest#1 at ./essentials.jl:710 [inlined]",
      " [11] invokelatest at ./essentials.jl:709 [inlined]",
      " [12] eventloop(::ZMQ.Socket) at /Users/karolinagrzeszkiewicz/.julia/packages/IJulia/a1SNk/src/eventloop.jl:8",
      " [13] (::IJulia.var\"#15#18\")() at ./task.jl:356"
     ]
    }
   ],
   "source": [
    "(logpYS, graphs) = logl_est(Spr, hyper, y1, parPF, temp, pair)"
   ]
  },
  {
   "cell_type": "code",
   "execution_count": 306,
   "metadata": {},
   "outputs": [
    {
     "data": {
      "text/plain": [
       "10×10 Array{Float64,2}:\n",
       " 0.0  0.0  0.0  0.0  1.0  1.0  1.0  0.0  1.0  1.0\n",
       " 0.0  0.0  0.0  0.0  1.0  0.0  0.0  1.0  1.0  1.0\n",
       " 0.0  0.0  0.0  0.0  1.0  1.0  0.0  1.0  1.0  1.0\n",
       " 0.0  0.0  0.0  0.0  1.0  1.0  0.0  0.0  1.0  1.0\n",
       " 0.0  0.0  0.0  0.0  0.0  0.0  1.0  0.0  0.0  0.0\n",
       " 0.0  0.0  0.0  0.0  0.0  0.0  0.0  1.0  0.0  0.0\n",
       " 0.0  0.0  0.0  0.0  0.0  0.0  0.0  1.0  1.0  1.0\n",
       " 0.0  0.0  0.0  0.0  0.0  0.0  0.0  0.0  0.0  0.0\n",
       " 0.0  0.0  0.0  0.0  0.0  0.0  0.0  0.0  0.0  0.0\n",
       " 0.0  0.0  0.0  0.0  0.0  0.0  0.0  0.0  0.0  0.0"
      ]
     },
     "execution_count": 306,
     "metadata": {},
     "output_type": "execute_result"
    }
   ],
   "source": [
    "graphs[1,:,:]"
   ]
  },
  {
   "cell_type": "code",
   "execution_count": 307,
   "metadata": {},
   "outputs": [
    {
     "data": {
      "text/plain": [
       "10×10 Array{Float64,2}:\n",
       " 0.0  0.0  1.0  2.80967e-38  0.000206083  …  0.0          1.0\n",
       " 0.0  0.0  1.0  1.0          1.0             0.0          1.0\n",
       " 0.0  0.0  0.0  0.999794     1.0             1.0          0.0\n",
       " 0.0  0.0  0.0  0.0          1.0             1.51964e-15  0.000206083\n",
       " 0.0  0.0  0.0  0.0          0.0             0.0          4.6556e-11\n",
       " 0.0  0.0  0.0  0.0          0.0          …  0.000206083  0.999794\n",
       " 0.0  0.0  0.0  0.0          0.0             0.999794     0.0\n",
       " 0.0  0.0  0.0  0.0          0.0             1.0          0.0\n",
       " 0.0  0.0  0.0  0.0          0.0             0.0          1.0\n",
       " 0.0  0.0  0.0  0.0          0.0             0.0          0.0"
      ]
     },
     "execution_count": 307,
     "metadata": {},
     "output_type": "execute_result"
    }
   ],
   "source": [
    "graphs[2,:,:]"
   ]
  },
  {
   "cell_type": "code",
   "execution_count": 89,
   "metadata": {},
   "outputs": [
    {
     "data": {
      "text/plain": [
       "10×10 Array{Float64,2}:\n",
       "  1.0        -0.418509   -0.334875   -0.0352824   …  -0.464064    -0.0184129\n",
       " -0.418509    1.0        -0.0569568  -0.337838       -0.0270574    0.0225549\n",
       " -0.334875   -0.0569568   1.0        -0.443369       -0.0233262   -0.466245\n",
       " -0.0352824  -0.337838   -0.443369    1.0             0.0177001   -0.0147547\n",
       " -0.0401222  -0.425138   -0.340489   -0.0321509       0.0201281   -0.0167787\n",
       "  0.0236056  -0.0289157  -0.0249282   0.0189158   …  -0.0118422    0.00987159\n",
       " -0.0291415  -0.442821    0.0307743  -0.0233518      -0.379304    -0.0121866\n",
       "  0.011259   -0.0137917  -0.0118898   0.00902211     -0.502154     0.00470838\n",
       " -0.464064   -0.0270574  -0.0233262   0.0177001       1.0          0.00923718\n",
       " -0.0184129   0.0225549  -0.466245   -0.0147547       0.00923718   1.0"
      ]
     },
     "execution_count": 89,
     "metadata": {},
     "output_type": "execute_result"
    }
   ],
   "source": [
    "partial_correlation(PP2, 10)"
   ]
  },
  {
   "cell_type": "code",
   "execution_count": 93,
   "metadata": {},
   "outputs": [
    {
     "data": {
      "text/plain": [
       "10×10 Array{Float64,2}:\n",
       " 0.0  1.0  1.0         0.999996    …  0.999996    0.999996    1.69045e-7\n",
       " 0.0  0.0  4.27198e-6  1.69294e-7     0.999996    1.0         4.24362e-6\n",
       " 0.0  0.0  0.0         4.34244e-6     0.999996    1.0         1.0\n",
       " 0.0  0.0  0.0         0.0            1.69294e-7  0.999996    0.999996\n",
       " 0.0  0.0  0.0         0.0            0.999996    1.0         9.85467e-8\n",
       " 0.0  0.0  0.0         0.0         …  1.0         7.07662e-8  1.0\n",
       " 0.0  0.0  0.0         0.0            0.999996    4.34244e-6  8.23178e-13\n",
       " 0.0  0.0  0.0         0.0            0.0         4.17372e-6  1.69295e-7\n",
       " 0.0  0.0  0.0         0.0            0.0         0.0         1.0\n",
       " 0.0  0.0  0.0         0.0            0.0         0.0         0.0"
      ]
     },
     "execution_count": 93,
     "metadata": {},
     "output_type": "execute_result"
    }
   ],
   "source": [
    "graphs[2,:,:]"
   ]
  },
  {
   "cell_type": "code",
   "execution_count": 94,
   "metadata": {},
   "outputs": [
    {
     "data": {
      "text/plain": [
       "10×10 Array{Float64,2}:\n",
       "  1.0307       0.475397     0.408893    …   0.0206837    0.475884\n",
       "  0.475397     1.01972     -0.0071263      -0.0165742    0.0193246\n",
       "  0.408893    -0.0071263    1.00258         0.00599096  -0.00698516\n",
       "  0.0338592    0.372868     0.00980721      0.0228094   -0.0265945\n",
       "  0.469485     0.0244524    0.391161       -0.0205567    0.0239681\n",
       " -0.0210402    0.0168598    0.493906    …   0.485826     0.0165259\n",
       " -0.012502     0.010018    -0.00362116      0.391578     0.00981962\n",
       "  0.00657384  -0.00526773   0.00190409      0.504428     0.394837\n",
       "  0.0206837   -0.0165742    0.00599096      1.01393      0.483754\n",
       "  0.475884     0.0193246   -0.00698516      0.483754     1.01894"
      ]
     },
     "execution_count": 94,
     "metadata": {},
     "output_type": "execute_result"
    }
   ],
   "source": [
    "PP3"
   ]
  },
  {
   "cell_type": "code",
   "execution_count": null,
   "metadata": {},
   "outputs": [],
   "source": [
    "#try 100 data points from one graph\n",
    "#also precision matrices can't have negatuve entries"
   ]
  }
 ],
 "metadata": {
  "kernelspec": {
   "display_name": "JuliaPro_v1.5.3-1 1.5.3",
   "language": "julia",
   "name": "juliapro_v1.5.3-1-1.5"
  },
  "language_info": {
   "file_extension": ".jl",
   "mimetype": "application/julia",
   "name": "julia",
   "version": "1.5.3"
  }
 },
 "nbformat": 4,
 "nbformat_minor": 4
}
