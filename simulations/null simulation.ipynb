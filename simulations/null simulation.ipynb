{
 "cells": [
  {
   "cell_type": "code",
   "execution_count": 1,
   "metadata": {},
   "outputs": [],
   "source": [
    "using LinearAlgebra\n",
    "using Statistics\n",
    "using Distributions\n",
    "using SpecialFunctions\n",
    "using Combinatorics\n",
    "using Plots"
   ]
  },
  {
   "cell_type": "code",
   "execution_count": 2,
   "metadata": {},
   "outputs": [
    {
     "name": "stderr",
     "output_type": "stream",
     "text": [
      "WARNING: replacing module graph_decomposition.\n"
     ]
    },
    {
     "data": {
      "text/plain": [
       "logIno (generic function with 1 method)"
      ]
     },
     "execution_count": 2,
     "metadata": {},
     "output_type": "execute_result"
    }
   ],
   "source": [
    "include(\"./graph_decomposition.jl\")\n",
    "include(\"./normalising_constant_mc.jl\")\n",
    "include(\"./normalising_constant_laplace.jl\")\n",
    "include(\"./helperfunctions.jl\")\n",
    "include(\"particle_MCMC.jl\")"
   ]
  },
  {
   "cell_type": "markdown",
   "metadata": {},
   "source": [
    "# 1. Generate data (Y) with no changepoints"
   ]
  },
  {
   "cell_type": "code",
   "execution_count": 3,
   "metadata": {},
   "outputs": [
    {
     "data": {
      "text/plain": [
       "10×10 Array{Float64,2}:\n",
       " 1.0  0.0  0.0  0.0  0.0  0.0  0.0  0.0  0.0  0.0\n",
       " 0.0  1.0  0.0  0.0  0.0  0.0  0.0  0.0  0.0  0.0\n",
       " 0.0  0.0  1.0  0.0  0.0  0.0  0.0  0.0  0.0  0.0\n",
       " 0.0  0.0  0.0  1.0  0.0  0.0  0.0  0.0  0.0  0.0\n",
       " 0.0  0.0  0.0  0.0  1.0  0.0  0.0  0.0  0.0  0.0\n",
       " 0.0  0.0  0.0  0.0  0.0  1.0  0.0  0.0  0.0  0.0\n",
       " 0.0  0.0  0.0  0.0  0.0  0.0  1.0  0.0  0.0  0.0\n",
       " 0.0  0.0  0.0  0.0  0.0  0.0  0.0  1.0  0.0  0.0\n",
       " 0.0  0.0  0.0  0.0  0.0  0.0  0.0  0.0  1.0  0.0\n",
       " 0.0  0.0  0.0  0.0  0.0  0.0  0.0  0.0  0.0  1.0"
      ]
     },
     "execution_count": 3,
     "metadata": {},
     "output_type": "execute_result"
    }
   ],
   "source": [
    "T = 100\n",
    "n_nodes = 10\n",
    "mean = zeros(n_nodes)\n",
    "#covariance matrix - precision matrix is its inverse which is also identity\n",
    "Id = Matrix(1.0I, n_nodes, n_nodes)"
   ]
  },
  {
   "cell_type": "code",
   "execution_count": 4,
   "metadata": {},
   "outputs": [
    {
     "data": {
      "text/plain": [
       "FullNormal(\n",
       "dim: 10\n",
       "μ: [0.0, 0.0, 0.0, 0.0, 0.0, 0.0, 0.0, 0.0, 0.0, 0.0]\n",
       "Σ: [1.0 0.0 … 0.0 0.0; 0.0 1.0 … 0.0 0.0; … ; 0.0 0.0 … 1.0 0.0; 0.0 0.0 … 0.0 1.0]\n",
       ")\n"
      ]
     },
     "execution_count": 4,
     "metadata": {},
     "output_type": "execute_result"
    }
   ],
   "source": [
    "distr = MvNormal(mean, Id)"
   ]
  },
  {
   "cell_type": "markdown",
   "metadata": {},
   "source": [
    "Generate data $y_1, y_2, ... , y_T$ from the multivariate normal likelihood"
   ]
  },
  {
   "cell_type": "code",
   "execution_count": 5,
   "metadata": {},
   "outputs": [],
   "source": [
    "y = zeros(T, n_nodes)\n",
    "for i in 1:T\n",
    "    y[i,1:10] = rand(distr)\n",
    "end"
   ]
  },
  {
   "cell_type": "code",
   "execution_count": 6,
   "metadata": {},
   "outputs": [
    {
     "data": {
      "text/plain": [
       "10×10 Array{Float64,2}:\n",
       " 105.923     -13.1658      3.79637  …  -11.8535    -6.44875  -16.7243\n",
       " -13.1658    131.49       -5.676         2.04109    9.81535    2.4661\n",
       "   3.79637    -5.676     100.421        -7.27127  -16.3168     3.42619\n",
       "  13.805      -6.17451     6.73558       8.75161    6.30304   11.813\n",
       "  10.5361    -10.1541      6.51194       8.91187   -1.30286   -5.35676\n",
       "   7.3698      0.290562   -7.80671  …    2.0849     9.2123    -0.38058\n",
       "   0.775614   -3.5845      9.27696      -3.27041    3.20851   -2.74776\n",
       " -11.8535      2.04109    -7.27127      81.3915     7.90735    0.43624\n",
       "  -6.44875     9.81535   -16.3168        7.90735   84.1723   -18.209\n",
       " -16.7243      2.4661      3.42619       0.43624  -18.209     84.4608"
      ]
     },
     "execution_count": 6,
     "metadata": {},
     "output_type": "execute_result"
    }
   ],
   "source": [
    "transpose(y)*y"
   ]
  },
  {
   "cell_type": "code",
   "execution_count": 7,
   "metadata": {},
   "outputs": [
    {
     "data": {
      "text/plain": [
       "10×10 Array{Float64,2}:\n",
       "  1.07657      0.0693635   0.00262195  …   0.148126     0.265988\n",
       "  0.0693635    0.784938    0.0171246      -0.0942444   -0.0314997\n",
       "  0.00262195   0.0171246   1.0601          0.200731     0.00585443\n",
       " -0.230575     0.0509773  -0.0950115      -0.200457    -0.258572\n",
       " -0.117905     0.0752959  -0.0647198       0.00612495   0.0613018\n",
       " -0.156327     0.0175273   0.056854    …  -0.163475    -0.0815873\n",
       " -0.00369656   0.0280234  -0.105409       -0.0672573    0.00894503\n",
       "  0.181024    -0.0117764   0.0867361      -0.0703115    0.0228991\n",
       "  0.148126    -0.0942444   0.200731        1.36594      0.344286\n",
       "  0.265988    -0.0314997   0.00585443      0.344286     1.35141"
      ]
     },
     "execution_count": 7,
     "metadata": {},
     "output_type": "execute_result"
    }
   ],
   "source": [
    "inv((transpose(y)*y)/100)"
   ]
  },
  {
   "cell_type": "markdown",
   "metadata": {},
   "source": [
    "# 2. Run particle MCMC"
   ]
  },
  {
   "cell_type": "code",
   "execution_count": 8,
   "metadata": {},
   "outputs": [
    {
     "data": {
      "text/plain": [
       "MCMC_pars(200, 0.5)"
      ]
     },
     "execution_count": 8,
     "metadata": {},
     "output_type": "execute_result"
    }
   ],
   "source": [
    "#parameters – 200 iterations and 100 particles\n",
    "\n",
    "hyper = hyper_pars(10, 100, 1.0, 1.0, 3.0, 1.0/3.0, 0.5)\n",
    "#(p = 10, Tau = 100, w = 1, z = 1, delta = 3, tau = 1/3, theta =0.5 )\n",
    "parPF = PF_pars(100, 0.7, 0.001, 3, 1, 100, false)\n",
    "#(N, ESS0, TOL, nE, nM, num_it, Laplace)\n",
    "#changed N from 10 to 1, again to 1000\n",
    "parMCMC = MCMC_pars(200, 0.5)\n",
    "# (M, pB)"
   ]
  },
  {
   "cell_type": "code",
   "execution_count": 9,
   "metadata": {},
   "outputs": [
    {
     "name": "stdout",
     "output_type": "stream",
     "text": [
      "Sc = nothing\n",
      "P(Y|Sc) = 0.0\n",
      "Graph = [0.0 1.0 0.0 1.0 0.0 0.0 0.0 0.0 0.0 0.0; 0.0 0.0 0.0 0.0 0.0 0.0 0.0 0.0 0.0 0.0; 0.0 0.0 0.0 0.0 0.0 0.0 1.0 0.0 0.0 0.0; 0.0 0.0 0.0 0.0 0.0 0.0 0.0 1.0 1.0 0.0; 0.0 0.0 0.0 0.0 0.0 1.0 0.0 1.0 0.0 0.0; 0.0 0.0 0.0 0.0 0.0 0.0 0.0 0.0 0.0 0.0; 0.0 0.0 0.0 0.0 0.0 0.0 0.0 0.0 0.0 0.0; 0.0 0.0 0.0 0.0 0.0 0.0 0.0 0.0 1.0 0.0; 0.0 0.0 0.0 0.0 0.0 0.0 0.0 0.0 0.0 0.0; 0.0 0.0 0.0 0.0 0.0 0.0 0.0 0.0 0.0 0.0]\n",
      "proposal Spr = [46]\n",
      "proposal type = Birth\n",
      "P(Y|Spr) =0.0\n",
      "acceptance probability = 5.00971829306495e-35\n",
      "rejected\n",
      "proposal Spr = [27]\n",
      "proposal type = Birth\n",
      "P(Y|Spr) =0.0\n",
      "acceptance probability = 1.2000123491670892e-32\n",
      "rejected\n",
      "proposal Spr = [51]\n",
      "proposal type = Birth\n",
      "P(Y|Spr) =0.0\n",
      "acceptance probability = 5.582882114494505e-35\n",
      "rejected\n",
      "proposal Spr = [38]\n",
      "proposal type = Birth\n",
      "P(Y|Spr) =0.0\n",
      "acceptance probability = 1.8043399198773517e-36\n",
      "rejected\n",
      "proposal Spr = [28]\n",
      "proposal type = Birth\n",
      "P(Y|Spr) =0.0\n",
      "acceptance probability = 4.408243465088027e-36\n",
      "rejected\n",
      "proposal Spr = [39]\n",
      "proposal type = Birth\n",
      "P(Y|Spr) =0.0\n",
      "acceptance probability = 9.561530395496847e-34\n",
      "rejected\n",
      "proposal Spr = [73]\n",
      "proposal type = Birth\n",
      "P(Y|Spr) =0.0\n",
      "acceptance probability = 5.514441831978919e-31\n",
      "rejected\n",
      "proposal Spr = [26]\n",
      "proposal type = Birth\n",
      "P(Y|Spr) =0.0\n",
      "acceptance probability = 2.07360703882673e-33\n",
      "rejected\n",
      "proposal Spr = [88]\n",
      "proposal type = Birth\n",
      "P(Y|Spr) =0.0\n",
      "acceptance probability = 1.703855302132757e-25\n",
      "rejected\n",
      "proposal Spr = [18]\n",
      "proposal type = Birth\n"
     ]
    },
    {
     "ename": "LoadError",
     "evalue": "InterruptException:",
     "output_type": "error",
     "traceback": [
      "InterruptException:",
      "",
      "Stacktrace:",
      " [1] Array at ./boot.jl:408 [inlined]",
      " [2] Array at ./boot.jl:416 [inlined]",
      " [3] similar at ./array.jl:380 [inlined]",
      " [4] *(::Array{Float64,2}, ::Array{Float64,2}) at /Users/julia/buildbot/worker/package_macos64/build/usr/share/julia/stdlib/v1.5/LinearAlgebra/src/matmul.jl:160",
      " [5] normalising_constant_mc(::Array{Int64,2}, ::Float64, ::Symmetric{Float64,Array{Float64,2}}, ::Int64) at /Users/karolinagrzeszkiewicz/Desktop/stat_comp_research/dynamic_graphical_models_mcmc/normalising_constant_mc.jl:30",
      " [6] logIno(::Array{Array{Int64,2},1}, ::Float64, ::Array{Array{Float64,2},1}, ::Int64) at /Users/karolinagrzeszkiewicz/Desktop/stat_comp_research/dynamic_graphical_models_mcmc/particle_MCMC.jl:1366",
      " [7] log_Iota(::Array{Int64,3}, ::Float64, ::Array{Float64,2}, ::Int64, ::Bool) at /Users/karolinagrzeszkiewicz/Desktop/stat_comp_research/dynamic_graphical_models_mcmc/particle_MCMC.jl:1236",
      " [8] logp_GY(::Array{Int64,3}, ::hyper_pars, ::PF_pars, ::Array{Float64,2}) at /Users/karolinagrzeszkiewicz/Desktop/stat_comp_research/dynamic_graphical_models_mcmc/particle_MCMC.jl:1011",
      " [9] test_logl_est(::Array{Int64,1}, ::hyper_pars, ::Array{Float64,2}, ::PF_pars, ::Array{Array{Int64,1},1}) at /Users/karolinagrzeszkiewicz/Desktop/stat_comp_research/dynamic_graphical_models_mcmc/particle_MCMC.jl:212",
      " [10] pseudo_MCMC(::Nothing, ::hyper_pars, ::Array{Float64,2}, ::MCMC_pars, ::PF_pars) at /Users/karolinagrzeszkiewicz/Desktop/stat_comp_research/dynamic_graphical_models_mcmc/particle_MCMC.jl:93",
      " [11] top-level scope at In[9]:1",
      " [12] include_string(::Function, ::Module, ::String, ::String) at ./loading.jl:1091",
      " [13] execute_code(::String, ::String) at /Users/karolinagrzeszkiewicz/.julia/packages/IJulia/a1SNk/src/execute_request.jl:27",
      " [14] execute_request(::ZMQ.Socket, ::IJulia.Msg) at /Users/karolinagrzeszkiewicz/.julia/packages/IJulia/a1SNk/src/execute_request.jl:86",
      " [15] #invokelatest#1 at ./essentials.jl:710 [inlined]",
      " [16] invokelatest at ./essentials.jl:709 [inlined]",
      " [17] eventloop(::ZMQ.Socket) at /Users/karolinagrzeszkiewicz/.julia/packages/IJulia/a1SNk/src/eventloop.jl:8",
      " [18] (::IJulia.var\"#15#18\")() at ./task.jl:356"
     ]
    }
   ],
   "source": [
    "(changepoints, graphs, accept) = pseudo_MCMC(nothing, hyper, y, parMCMC, parPF)"
   ]
  },
  {
   "cell_type": "code",
   "execution_count": 8,
   "metadata": {},
   "outputs": [
    {
     "data": {
      "text/plain": [
       "201-element Array{Any,1}:\n",
       " nothing\n",
       " [33]\n",
       " [33]\n",
       " [33]\n",
       " [36]\n",
       " [36]\n",
       " [36]\n",
       " [36]\n",
       " [36]\n",
       " Any[36, 66]\n",
       " Any[14, 36]\n",
       " Any[14, 36]\n",
       " Any[14, 36]\n",
       " ⋮\n",
       " Any[14, 30, 51, 65, 85]\n",
       " Any[14, 30, 51, 65, 85]\n",
       " Any[14, 30, 51, 65, 85]\n",
       " Any[14, 30, 51, 65, 85]\n",
       " Any[14, 30, 51, 65, 85]\n",
       " Any[14, 30, 51, 65, 85]\n",
       " Any[14, 30, 51, 65, 85]\n",
       " Any[14, 30, 51, 65, 85]\n",
       " Any[14, 30, 51, 65, 85]\n",
       " Any[14, 30, 51, 65, 85]\n",
       " Any[14, 30, 51, 65, 85]\n",
       " Any[14, 30, 51, 65, 85]"
      ]
     },
     "execution_count": 8,
     "metadata": {},
     "output_type": "execute_result"
    }
   ],
   "source": [
    "changepoints"
   ]
  },
  {
   "cell_type": "code",
   "execution_count": 188,
   "metadata": {},
   "outputs": [
    {
     "data": {
      "text/plain": [
       "MCMC_pars(100, 0.5)"
      ]
     },
     "execution_count": 188,
     "metadata": {},
     "output_type": "execute_result"
    }
   ],
   "source": [
    "#parameters – 100 iterations and 500 particles\n",
    "\n",
    "hyper = hyper_pars(10, 100, 1.0, 1.0, 3.0, 1.0/3.0, 0.5)\n",
    "#(p = 10, Tau = 100, w = 1, z = 1, delta = 3, tau = 1/3, theta =0.5 )\n",
    "parPF = PF_pars(500, 0.7, 0.001, 3, 1, 10, true)\n",
    "#(N, ESS0, TOL, nE, nM, num_it, Laplace)\n",
    "#changed N from 10 to 1, again to 1000\n",
    "parMCMC = MCMC_pars(100, 0.5)\n",
    "# (M, pB)"
   ]
  },
  {
   "cell_type": "code",
   "execution_count": 189,
   "metadata": {},
   "outputs": [
    {
     "name": "stdout",
     "output_type": "stream",
     "text": [
      "Sc = nothing\n",
      "P(Y|Sc) = 1.0\n",
      "Graph = [0.0 0.0 1.0 1.0 0.0 1.0 0.0 1.0 0.0 0.0; 0.0 0.0 0.0 0.0 1.0 1.0 0.0 0.0 1.0 0.0; 0.0 0.0 0.0 1.0 1.0 0.0 1.0 1.0 1.0 1.0; 0.0 0.0 0.0 0.0 1.0 0.0 0.0 1.0 1.0 0.0; 0.0 0.0 0.0 0.0 0.0 0.0 1.0 1.0 0.0 1.0; 0.0 0.0 0.0 0.0 0.0 0.0 1.0 1.0 1.0 1.0; 0.0 0.0 0.0 0.0 0.0 0.0 0.0 0.0 1.0 0.0; 0.0 0.0 0.0 0.0 0.0 0.0 0.0 0.0 0.0 1.0; 0.0 0.0 0.0 0.0 0.0 0.0 0.0 0.0 0.0 1.0; 0.0 0.0 0.0 0.0 0.0 0.0 0.0 0.0 0.0 0.0]\n",
      "proposal Spr = [30]\n",
      "proposal type = Birth\n",
      "P(Y|Spr) =1.00000066879643\n",
      "acceptance probability = 0.25000016719910734\n",
      "rejected\n",
      "proposal Spr = [16]\n",
      "proposal type = Birth\n",
      "P(Y|Spr) =1.0\n",
      "acceptance probability = 0.24999999999999994\n",
      "rejected\n",
      "proposal Spr = [41]\n",
      "proposal type = Birth\n",
      "P(Y|Spr) =1.0\n",
      "acceptance probability = 0.24999999999999994\n",
      "accepted\n",
      "proposal Spr = [28]\n",
      "proposal type = Move\n",
      "P(Y|Spr) =1.0\n",
      "acceptance probability = 1.0\n",
      "accepted\n",
      "proposal Spr = Any[28, 75]\n",
      "proposal type = Birth\n",
      "P(Y|Spr) =1.000000000000068\n",
      "acceptance probability = 0.4806547619047943\n",
      "rejected\n",
      "proposal Spr = [66]\n",
      "proposal type = Move\n",
      "P(Y|Spr) =1.0\n",
      "acceptance probability = 1.0\n",
      "accepted\n",
      "proposal Spr = Any[]\n",
      "proposal type = Death\n",
      "P(Y|Spr) =1.0\n",
      "acceptance probability = 4.000000000000001\n",
      "accepted\n",
      "proposal Spr = [18]\n",
      "proposal type = Birth\n",
      "P(Y|Spr) =1.000179516565593\n",
      "acceptance probability = 0.2500448791413981\n",
      "rejected\n",
      "proposal Spr = [19]\n",
      "proposal type = Birth\n",
      "P(Y|Spr) =1.0\n",
      "acceptance probability = 0.24999999999999994\n",
      "rejected\n",
      "proposal Spr = [38]\n",
      "proposal type = Birth\n",
      "P(Y|Spr) =1.0000000000436178\n",
      "acceptance probability = 0.25000000001090433\n",
      "rejected\n",
      "proposal Spr = [34]\n",
      "proposal type = Birth\n",
      "P(Y|Spr) =1.0000000000242886\n",
      "acceptance probability = 0.250000000006072\n",
      "rejected\n",
      "proposal Spr = [65]\n",
      "proposal type = Birth\n",
      "P(Y|Spr) =1.0000258855694686\n",
      "acceptance probability = 0.2500064713923671\n",
      "accepted\n",
      "proposal Spr = Any[13, 65]\n",
      "proposal type = Birth\n",
      "P(Y|Spr) =1.000035564462731\n",
      "acceptance probability = 0.48065941399047646\n",
      "accepted\n",
      "proposal Spr = Any[13, 82]\n",
      "proposal type = Move\n",
      "P(Y|Spr) =1.0213770547546734\n",
      "acceptance probability = 0.8820669952311664\n",
      "accepted\n",
      "proposal Spr = Any[13, 48, 82]\n",
      "proposal type = Birth\n",
      "P(Y|Spr) =1.0000224305772307\n",
      "acceptance probability = 0.6549728898320379\n",
      "accepted\n",
      "proposal Spr = Any[13, 61, 82]\n",
      "proposal type = Move\n",
      "P(Y|Spr) =1.0000133641503768\n",
      "acceptance probability = 0.826079467032766\n",
      "rejected\n",
      "proposal Spr = Any[13, 48]\n",
      "proposal type = Death\n",
      "P(Y|Spr) =1.0000000337597805\n",
      "acceptance probability = 1.7308509587591288\n",
      "accepted\n",
      "proposal Spr = Any[13, 44]\n",
      "proposal type = Move\n",
      "P(Y|Spr) =1.000000054274926\n",
      "acceptance probability = 1.0000000205151454\n",
      "accepted\n",
      "proposal Spr = Any[13, 44, 87]\n",
      "proposal type = Birth\n",
      "P(Y|Spr) =1.0062482484247934\n",
      "acceptance probability = 0.5813473727862275\n",
      "accepted\n",
      "proposal Spr = Any[13, 44, 80]\n",
      "proposal type = Move\n",
      "P(Y|Spr) =1.1023749422225373\n",
      "acceptance probability = 1.546630305707502\n",
      "accepted\n",
      "proposal Spr = Any[13, 44, 63, 80]\n",
      "proposal type = Birth\n",
      "P(Y|Spr) =1.0041448390919352\n",
      "acceptance probability = 0.4680794323186593\n",
      "accepted\n",
      "proposal Spr = Any[13, 44, 63, 77]\n",
      "proposal type = Move\n",
      "P(Y|Spr) =1.000141670864801\n",
      "acceptance probability = 0.9960133557717096\n",
      "accepted\n",
      "proposal Spr = Any[13, 28, 44, 63, 77]\n",
      "proposal type = Birth\n",
      "P(Y|Spr) =1.1407839348960227\n",
      "acceptance probability = 1.2727896926754407\n",
      "accepted\n",
      "proposal Spr = Any[13, 28, 43, 63, 77]\n",
      "proposal type = Move\n",
      "P(Y|Spr) =1.0000000652664902\n",
      "acceptance probability = NaN\n",
      "rejected\n",
      "proposal Spr = Any[13, 28, 44, 77]\n",
      "proposal type = Death\n",
      "P(Y|Spr) =2.242422545829236\n",
      "acceptance probability = 1.3211755943211345\n",
      "accepted\n",
      "proposal Spr = Any[13, 44, 64, 77]\n",
      "proposal type = Move\n",
      "P(Y|Spr) =2.491209725385957\n",
      "acceptance probability = 1.4812609574227051\n",
      "accepted\n",
      "proposal Spr = Any[13, 27, 44, 64, 77]\n",
      "proposal type = Birth\n",
      "P(Y|Spr) =1.0010587111036504\n",
      "acceptance probability = 0.44839837916581854\n",
      "accepted\n",
      "proposal Spr = Any[13, 28, 44, 64, 77]\n",
      "proposal type = Move\n",
      "P(Y|Spr) =1.9935560357687223\n",
      "acceptance probability = NaN\n",
      "rejected\n",
      "proposal Spr = Any[13, 27, 64, 77]\n",
      "proposal type = Death\n",
      "P(Y|Spr) =1.0000035505661462\n",
      "acceptance probability = 0.44760736265751977\n",
      "rejected\n",
      "proposal Spr = Any[13, 27, 42, 64, 77]\n",
      "proposal type = Move\n",
      "P(Y|Spr) =1.5608833473992265\n",
      "acceptance probability = NaN\n",
      "rejected\n",
      "proposal Spr = Any[13, 27, 64, 77]\n",
      "proposal type = Death\n",
      "P(Y|Spr) =1.0002849162265237\n",
      "acceptance probability = 0.4477333035515421\n",
      "rejected\n",
      "proposal Spr = Any[13, 26, 44, 64, 77]\n",
      "proposal type = Move\n",
      "P(Y|Spr) =1.1566416155532677\n",
      "acceptance probability = NaN\n",
      "rejected\n",
      "proposal Spr = Any[13, 44, 64, 77]\n",
      "proposal type = Death\n",
      "P(Y|Spr) =1.1739350598141407\n",
      "acceptance probability = 1.0509202207474517\n",
      "accepted\n",
      "proposal Spr = Any[13, 44, 61, 77]\n",
      "proposal type = Move\n",
      "P(Y|Spr) =1.3139549623383087\n",
      "acceptance probability = 1.119273976318874\n",
      "accepted\n",
      "proposal Spr = Any[13, 30, 44, 61, 77]\n",
      "proposal type = Birth\n",
      "P(Y|Spr) =1.2135400407338004\n",
      "acceptance probability = 1.0305958909934303\n",
      "accepted\n",
      "proposal Spr = Any[13, 31, 44, 61, 77]\n",
      "proposal type = Move\n",
      "P(Y|Spr) =2.4614669059382366\n",
      "acceptance probability = NaN\n",
      "rejected\n",
      "proposal Spr = Any[13, 30, 44, 61]\n",
      "proposal type = Death\n",
      "P(Y|Spr) =2.3454591399467777\n",
      "acceptance probability = 0.692817703858293\n",
      "accepted\n",
      "proposal Spr = Any[30, 44, 61, 83]\n",
      "proposal type = Move\n",
      "P(Y|Spr) =1.006432697109838\n",
      "acceptance probability = 1.2872951141660172\n",
      "accepted\n",
      "proposal Spr = Any[30, 44, 83]\n",
      "proposal type = Death\n",
      "P(Y|Spr) =1.0000073747591574\n",
      "acceptance probability = 1.7300603570864823\n",
      "accepted\n",
      "proposal Spr = Any[30, 44, 63]\n",
      "proposal type = Move\n",
      "P(Y|Spr) =1.0002990279938544\n",
      "acceptance probability = 1.0558634094773869\n",
      "accepted\n",
      "proposal Spr = Any[30, 63]\n",
      "proposal type = Death\n",
      "P(Y|Spr) =1.0\n",
      "acceptance probability = 2.5290056612725658\n",
      "accepted\n",
      "proposal Spr = Any[30, 44]\n",
      "proposal type = Move\n",
      "P(Y|Spr) =1.4125480165734519\n",
      "acceptance probability = 0.9926013089435066\n",
      "accepted\n",
      "proposal Spr = Any[30, 44, 80]\n",
      "proposal type = Birth\n",
      "P(Y|Spr) =1.0000000001179954\n",
      "acceptance probability = 0.3982405766867665\n",
      "rejected\n",
      "proposal Spr = Any[30, 86]\n",
      "proposal type = Move\n",
      "P(Y|Spr) =1.0000000000130598\n",
      "acceptance probability = 0.7276055509138557\n",
      "accepted\n",
      "proposal Spr = Any[30]\n",
      "proposal type = Death\n",
      "P(Y|Spr) =1.000000029577161\n",
      "acceptance probability = 2.0804954175451265\n",
      "accepted\n",
      "proposal Spr = [19]\n",
      "proposal type = Move\n",
      "P(Y|Spr) =1.0000000000736753\n",
      "acceptance probability = 0.8947368157074084\n",
      "accepted\n",
      "proposal Spr = Any[]\n",
      "proposal type = Death\n",
      "P(Y|Spr) =1.0\n",
      "acceptance probability = 3.9999999997052997\n",
      "accepted\n",
      "proposal Spr = [75]\n",
      "proposal type = Birth\n",
      "P(Y|Spr) =1.0\n",
      "acceptance probability = 0.24999999999999994\n",
      "rejected\n",
      "proposal Spr = [18]\n",
      "proposal type = Birth\n",
      "P(Y|Spr) =1.0000000000000016\n",
      "acceptance probability = 0.2500000000000004\n",
      "rejected\n",
      "proposal Spr = [86]\n",
      "proposal type = Birth\n",
      "P(Y|Spr) =1.0000000297384397\n",
      "acceptance probability = 0.25000000743460987\n",
      "rejected\n",
      "proposal Spr = [62]\n",
      "proposal type = Birth\n",
      "P(Y|Spr) =1.0\n",
      "acceptance probability = 0.24999999999999994\n",
      "rejected\n",
      "proposal Spr = [65]\n",
      "proposal type = Birth\n",
      "P(Y|Spr) =1.0000000000000095\n",
      "acceptance probability = 0.2500000000000024\n",
      "rejected\n",
      "proposal Spr = [61]\n",
      "proposal type = Birth\n",
      "P(Y|Spr) =1.0\n",
      "acceptance probability = 0.24999999999999994\n",
      "rejected\n",
      "proposal Spr = [19]\n",
      "proposal type = Birth\n",
      "P(Y|Spr) =1.0000000000001683\n",
      "acceptance probability = 0.25000000000004213\n",
      "rejected\n",
      "proposal Spr = [70]\n",
      "proposal type = Birth\n",
      "P(Y|Spr) =1.0000000000000049\n",
      "acceptance probability = 0.2500000000000013\n",
      "rejected\n",
      "proposal Spr = [86]\n",
      "proposal type = Birth\n",
      "P(Y|Spr) =1.006306333999973\n",
      "acceptance probability = 0.25157658349999323\n",
      "rejected\n",
      "proposal Spr = [47]\n",
      "proposal type = Birth\n",
      "P(Y|Spr) =1.0\n",
      "acceptance probability = 0.24999999999999994\n",
      "rejected\n",
      "proposal Spr = [47]\n",
      "proposal type = Birth\n",
      "P(Y|Spr) =1.0\n",
      "acceptance probability = 0.24999999999999994\n",
      "rejected\n",
      "proposal Spr = [74]\n",
      "proposal type = Birth\n",
      "P(Y|Spr) =1.000000002840834\n",
      "acceptance probability = 0.2500000007102085\n",
      "rejected\n",
      "proposal Spr = [25]\n",
      "proposal type = Birth\n",
      "P(Y|Spr) =1.0000000002425182\n",
      "acceptance probability = 0.25000000006062945\n",
      "rejected\n",
      "proposal Spr = [78]\n",
      "proposal type = Birth\n",
      "P(Y|Spr) =1.0\n",
      "acceptance probability = 0.24999999999999994\n",
      "rejected\n",
      "proposal Spr = [70]\n",
      "proposal type = Birth\n",
      "P(Y|Spr) =1.0000000000069982\n",
      "acceptance probability = 0.25000000000174943\n",
      "rejected\n",
      "proposal Spr = [23]\n",
      "proposal type = Birth\n"
     ]
    },
    {
     "name": "stdout",
     "output_type": "stream",
     "text": [
      "P(Y|Spr) =1.0\n",
      "acceptance probability = 0.24999999999999994\n",
      "accepted\n",
      "proposal Spr = [41]\n",
      "proposal type = Move\n",
      "P(Y|Spr) =1.0001836986602735\n",
      "acceptance probability = 1.0394065888038142\n",
      "accepted\n",
      "proposal Spr = Any[41, 87]\n",
      "proposal type = Birth\n",
      "P(Y|Spr) =1.0000000291800901\n",
      "acceptance probability = 0.48056649650872985\n",
      "rejected\n",
      "proposal Spr = [52]\n",
      "proposal type = Move\n",
      "P(Y|Spr) =1.0000000000000948\n",
      "acceptance probability = 0.9998163350788212\n",
      "accepted\n",
      "proposal Spr = Any[52, 81]\n",
      "proposal type = Birth\n",
      "P(Y|Spr) =1.000000000144497\n",
      "acceptance probability = 0.4806547619741693\n",
      "rejected\n",
      "proposal Spr = [59]\n",
      "proposal type = Move\n",
      "P(Y|Spr) =1.0\n",
      "acceptance probability = 0.999999999999905\n",
      "accepted\n",
      "proposal Spr = Any[]\n",
      "proposal type = Death\n",
      "P(Y|Spr) =1.0\n",
      "acceptance probability = 4.000000000000001\n",
      "accepted\n",
      "proposal Spr = [64]\n",
      "proposal type = Birth\n",
      "P(Y|Spr) =1.0\n",
      "acceptance probability = 0.24999999999999994\n",
      "accepted\n",
      "proposal Spr = Any[46, 64]\n",
      "proposal type = Birth\n",
      "P(Y|Spr) =1.0023577819866218\n",
      "acceptance probability = 0.48178804104416506\n",
      "rejected\n",
      "proposal Spr = [30]\n",
      "proposal type = Move\n",
      "P(Y|Spr) =1.0112059805578106\n",
      "acceptance probability = 1.011205980557811\n",
      "accepted\n",
      "proposal Spr = Any[]\n",
      "proposal type = Death\n",
      "P(Y|Spr) =1.0\n",
      "acceptance probability = 3.955672807426913\n",
      "accepted\n",
      "proposal Spr = [19]\n",
      "proposal type = Birth\n",
      "P(Y|Spr) =1.0000000005414265\n",
      "acceptance probability = 0.25000000013535656\n",
      "rejected\n",
      "proposal Spr = [16]\n",
      "proposal type = Birth\n",
      "P(Y|Spr) =1.0000000000008293\n",
      "acceptance probability = 0.25000000000020733\n",
      "accepted\n",
      "proposal Spr = [38]\n",
      "proposal type = Move\n",
      "P(Y|Spr) =1.0\n",
      "acceptance probability = 1.1764705882343178\n",
      "accepted\n",
      "proposal Spr = Any[]\n",
      "proposal type = Death\n",
      "P(Y|Spr) =1.0\n",
      "acceptance probability = 4.000000000000001\n",
      "accepted\n",
      "proposal Spr = [14]\n",
      "proposal type = Birth\n",
      "P(Y|Spr) =1.000000000066287\n",
      "acceptance probability = 0.2500000000165716\n",
      "accepted\n",
      "proposal Spr = Any[14, 50]\n",
      "proposal type = Birth\n",
      "P(Y|Spr) =1.000000000196017\n",
      "acceptance probability = 0.5843253969012021\n",
      "rejected\n",
      "proposal Spr = [53]\n",
      "proposal type = Move\n",
      "P(Y|Spr) =1.0\n",
      "acceptance probability = 1.2156862744292205\n",
      "accepted\n",
      "proposal Spr = Any[]\n",
      "proposal type = Death\n",
      "P(Y|Spr) =1.0000000457790064\n",
      "acceptance probability = 4.000000183116027\n",
      "accepted\n",
      "proposal Spr = [31]\n",
      "proposal type = Birth\n",
      "P(Y|Spr) =1.0000000000003628\n",
      "acceptance probability = 0.24999998855533967\n",
      "rejected\n",
      "proposal Spr = [75]\n",
      "proposal type = Birth\n",
      "P(Y|Spr) =1.000000000624024\n",
      "acceptance probability = 0.24999998871125495\n",
      "rejected\n",
      "proposal Spr = [35]\n",
      "proposal type = Birth\n",
      "P(Y|Spr) =1.0000000533588156\n",
      "acceptance probability = 0.25000000189495214\n",
      "accepted\n",
      "proposal Spr = Any[]\n",
      "proposal type = Death\n",
      "P(Y|Spr) =1.0\n",
      "acceptance probability = 3.999999786564749\n",
      "accepted\n",
      "proposal Spr = [14]\n",
      "proposal type = Birth\n",
      "P(Y|Spr) =1.0026474159989913\n",
      "acceptance probability = 0.2506618539997479\n",
      "accepted\n",
      "proposal Spr = Any[14, 41]\n",
      "proposal type = Birth\n",
      "P(Y|Spr) =1.0124304287606714\n",
      "acceptance probability = 0.5900267657442213\n",
      "rejected\n",
      "proposal Spr = [45]\n",
      "proposal type = Move\n",
      "P(Y|Spr) =1.0000000005731968\n",
      "acceptance probability = 1.2124763459300183\n",
      "accepted\n",
      "proposal Spr = Any[45, 81]\n",
      "proposal type = Birth\n",
      "P(Y|Spr) =1.006452740635928\n",
      "acceptance probability = 0.48375630214146975\n",
      "rejected\n",
      "proposal Spr = [34]\n",
      "proposal type = Move\n",
      "P(Y|Spr) =1.0001587109123002\n",
      "acceptance probability = 1.0001587103390126\n",
      "accepted\n",
      "proposal Spr = Any[15, 34]\n",
      "proposal type = Birth\n",
      "P(Y|Spr) =1.02996735105162\n",
      "acceptance probability = 0.49498015313771954\n",
      "accepted\n",
      "proposal Spr = Any[34, 56]\n",
      "proposal type = Move\n",
      "P(Y|Spr) =1.3281345747210418\n",
      "acceptance probability = 1.8675400188013462\n",
      "accepted\n",
      "proposal Spr = Any[20, 34, 56]\n",
      "proposal type = Birth\n",
      "P(Y|Spr) =1.0000000230862778\n",
      "acceptance probability = 0.33197312677973695\n",
      "accepted\n",
      "proposal Spr = Any[20, 34, 65]\n",
      "proposal type = Move\n",
      "P(Y|Spr) =1.0000025213009018\n",
      "acceptance probability = 1.176473527311254\n",
      "accepted\n",
      "proposal Spr = Any[20, 65]\n",
      "proposal type = Death\n",
      "P(Y|Spr) =1.0000000000000038\n",
      "acceptance probability = 2.1217304415697607\n",
      "accepted\n",
      "proposal Spr = Any[20, 41]\n",
      "proposal type = Move\n",
      "P(Y|Spr) =1.0000000005297096\n",
      "acceptance probability = 0.8857142861834542\n",
      "accepted\n",
      "proposal Spr = Any[20, 41, 62]\n",
      "proposal type = Birth\n",
      "P(Y|Spr) =1.0039082078240498\n",
      "acceptance probability = 0.5342063582695513\n",
      "accepted\n",
      "proposal Spr = Any[20, 41, 70]\n",
      "proposal type = Move\n",
      "P(Y|Spr) =1.000019252854062\n",
      "acceptance probability = 1.3945766585873582\n",
      "accepted\n",
      "proposal Spr = Any[20, 70]\n",
      "proposal type = Death\n",
      "P(Y|Spr) =1.0000000000104732\n",
      "acceptance probability = 2.1216949424297593\n",
      "accepted\n",
      "proposal Spr = Any[35, 70]\n",
      "proposal type = Move\n",
      "P(Y|Spr) =1.0\n",
      "acceptance probability = 1.1923076922952047\n",
      "accepted\n"
     ]
    },
    {
     "data": {
      "text/plain": [
       "(Any[nothing, nothing, nothing, [41], [28], [28], [66], Any[], Any[], Any[]  …  Any[15, 34], Any[34, 56], Any[20, 34, 56], Any[20, 34, 65], Any[20, 65], Any[20, 41], Any[20, 41, 62], Any[20, 41, 70], Any[20, 70], Any[35, 70]], Any[[0.0 0.0 … 0.0 0.0]\n",
       "\n",
       "[0.0 0.0 … 0.0 0.0]\n",
       "\n",
       "[1.0 0.0 … 0.0 0.0]\n",
       "\n",
       "[1.0 0.0 … 0.0 0.0]\n",
       "\n",
       "[0.0 1.0 … 0.0 0.0]\n",
       "\n",
       "[1.0 1.0 … 0.0 0.0]\n",
       "\n",
       "[0.0 0.0 … 0.0 0.0]\n",
       "\n",
       "[1.0 0.0 … 0.0 0.0]\n",
       "\n",
       "[0.0 1.0 … 0.0 0.0]\n",
       "\n",
       "[0.0 0.0 … 1.0 0.0], [0.0 0.0 … 0.0 0.0]\n",
       "\n",
       "[0.0 0.0 … 0.0 0.0]\n",
       "\n",
       "[1.0 0.0 … 0.0 0.0]\n",
       "\n",
       "[1.0 0.0 … 0.0 0.0]\n",
       "\n",
       "[0.0 1.0 … 0.0 0.0]\n",
       "\n",
       "[1.0 1.0 … 0.0 0.0]\n",
       "\n",
       "[0.0 0.0 … 0.0 0.0]\n",
       "\n",
       "[1.0 0.0 … 0.0 0.0]\n",
       "\n",
       "[0.0 1.0 … 0.0 0.0]\n",
       "\n",
       "[0.0 0.0 … 1.0 0.0], [0.0 0.0 … 0.0 0.0]\n",
       "\n",
       "[0.0 0.0 … 0.0 0.0]\n",
       "\n",
       "[1.0 0.0 … 0.0 0.0]\n",
       "\n",
       "[1.0 0.0 … 0.0 0.0]\n",
       "\n",
       "[0.0 1.0 … 0.0 0.0]\n",
       "\n",
       "[1.0 1.0 … 0.0 0.0]\n",
       "\n",
       "[0.0 0.0 … 0.0 0.0]\n",
       "\n",
       "[1.0 0.0 … 0.0 0.0]\n",
       "\n",
       "[0.0 1.0 … 0.0 0.0]\n",
       "\n",
       "[0.0 0.0 … 1.0 0.0], [0.0 0.0 … 0.0 0.0; 0.0 0.0 … 0.0 0.0]\n",
       "\n",
       "[1.0 0.0 … 0.0 0.0; 0.0 0.0 … 0.0 0.0]\n",
       "\n",
       "[1.0 0.0 … 0.0 0.0; 0.0 1.0 … 0.0 0.0]\n",
       "\n",
       "[0.0 1.0 … 0.0 0.0; 0.0 1.0 … 0.0 0.0]\n",
       "\n",
       "[1.0 1.0 … 0.0 0.0; 1.0 1.0 … 0.0 0.0]\n",
       "\n",
       "[0.0 1.0 … 0.0 0.0; 1.0 1.0 … 0.0 0.0]\n",
       "\n",
       "[1.0 0.0 … 0.0 0.0; 1.0 1.0 … 0.0 0.0]\n",
       "\n",
       "[1.0 0.0 … 0.0 0.0; 1.0 0.0 … 0.0 0.0]\n",
       "\n",
       "[1.0 1.0 … 0.0 0.0; 0.0 1.0 … 0.0 0.0]\n",
       "\n",
       "[1.0 1.0 … 1.0 0.0; 0.0 1.0 … 1.0 0.0], [0.0 0.0 … 0.0 0.0; 0.0 0.0 … 0.0 0.0]\n",
       "\n",
       "[0.0 0.0 … 0.0 0.0; 0.0 0.0 … 0.0 0.0]\n",
       "\n",
       "[1.0 1.0 … 0.0 0.0; 0.0 1.0 … 0.0 0.0]\n",
       "\n",
       "[0.0 0.0 … 0.0 0.0; 0.0 0.0 … 0.0 0.0]\n",
       "\n",
       "[0.0 1.0 … 0.0 0.0; 0.0 0.0 … 0.0 0.0]\n",
       "\n",
       "[1.0 1.0 … 0.0 0.0; 1.0 1.0 … 0.0 0.0]\n",
       "\n",
       "[0.0 1.0 … 0.0 0.0; 1.0 0.0 … 0.0 0.0]\n",
       "\n",
       "[1.0 1.0 … 0.0 0.0; 1.0 0.0 … 0.0 0.0]\n",
       "\n",
       "[0.0 1.0 … 0.0 0.0; 1.0 0.0 … 0.0 0.0]\n",
       "\n",
       "[1.0 0.0 … 0.0 0.0; 1.0 1.0 … 1.0 0.0], [0.0 0.0 … 0.0 0.0; 0.0 0.0 … 0.0 0.0]\n",
       "\n",
       "[0.0 0.0 … 0.0 0.0; 0.0 0.0 … 0.0 0.0]\n",
       "\n",
       "[1.0 1.0 … 0.0 0.0; 0.0 1.0 … 0.0 0.0]\n",
       "\n",
       "[0.0 0.0 … 0.0 0.0; 0.0 0.0 … 0.0 0.0]\n",
       "\n",
       "[0.0 1.0 … 0.0 0.0; 0.0 0.0 … 0.0 0.0]\n",
       "\n",
       "[1.0 1.0 … 0.0 0.0; 1.0 1.0 … 0.0 0.0]\n",
       "\n",
       "[0.0 1.0 … 0.0 0.0; 1.0 0.0 … 0.0 0.0]\n",
       "\n",
       "[1.0 1.0 … 0.0 0.0; 1.0 0.0 … 0.0 0.0]\n",
       "\n",
       "[0.0 1.0 … 0.0 0.0; 1.0 0.0 … 0.0 0.0]\n",
       "\n",
       "[1.0 0.0 … 0.0 0.0; 1.0 1.0 … 1.0 0.0], [0.0 0.0 … 0.0 0.0; 0.0 0.0 … 0.0 0.0]\n",
       "\n",
       "[1.0 0.0 … 0.0 0.0; 0.0 0.0 … 0.0 0.0]\n",
       "\n",
       "[0.0 1.0 … 0.0 0.0; 0.0 1.0 … 0.0 0.0]\n",
       "\n",
       "[0.0 0.0 … 0.0 0.0; 0.0 1.0 … 0.0 0.0]\n",
       "\n",
       "[0.0 1.0 … 0.0 0.0; 1.0 1.0 … 0.0 0.0]\n",
       "\n",
       "[0.0 1.0 … 0.0 0.0; 1.0 1.0 … 0.0 0.0]\n",
       "\n",
       "[0.0 0.0 … 0.0 0.0; 1.0 1.0 … 0.0 0.0]\n",
       "\n",
       "[0.0 0.0 … 0.0 0.0; 0.0 0.0 … 0.0 0.0]\n",
       "\n",
       "[1.0 1.0 … 0.0 0.0; 0.0 1.0 … 0.0 0.0]\n",
       "\n",
       "[0.0 0.0 … 0.0 0.0; 1.0 1.0 … 1.0 0.0], [0.0 0.0 … 0.0 0.0]\n",
       "\n",
       "[1.0 0.0 … 0.0 0.0]\n",
       "\n",
       "[0.0 0.0 … 0.0 0.0]\n",
       "\n",
       "[1.0 0.0 … 0.0 0.0]\n",
       "\n",
       "[1.0 0.0 … 0.0 0.0]\n",
       "\n",
       "[0.0 0.0 … 0.0 0.0]\n",
       "\n",
       "[0.0 1.0 … 0.0 0.0]\n",
       "\n",
       "[1.0 0.0 … 0.0 0.0]\n",
       "\n",
       "[1.0 0.0 … 0.0 0.0]\n",
       "\n",
       "[1.0 0.0 … 0.0 0.0], [0.0 0.0 … 0.0 0.0]\n",
       "\n",
       "[1.0 0.0 … 0.0 0.0]\n",
       "\n",
       "[0.0 0.0 … 0.0 0.0]\n",
       "\n",
       "[1.0 0.0 … 0.0 0.0]\n",
       "\n",
       "[1.0 0.0 … 0.0 0.0]\n",
       "\n",
       "[0.0 0.0 … 0.0 0.0]\n",
       "\n",
       "[0.0 1.0 … 0.0 0.0]\n",
       "\n",
       "[1.0 0.0 … 0.0 0.0]\n",
       "\n",
       "[1.0 0.0 … 0.0 0.0]\n",
       "\n",
       "[1.0 0.0 … 0.0 0.0], [0.0 0.0 … 0.0 0.0]\n",
       "\n",
       "[1.0 0.0 … 0.0 0.0]\n",
       "\n",
       "[0.0 0.0 … 0.0 0.0]\n",
       "\n",
       "[1.0 0.0 … 0.0 0.0]\n",
       "\n",
       "[1.0 0.0 … 0.0 0.0]\n",
       "\n",
       "[0.0 0.0 … 0.0 0.0]\n",
       "\n",
       "[0.0 1.0 … 0.0 0.0]\n",
       "\n",
       "[1.0 0.0 … 0.0 0.0]\n",
       "\n",
       "[1.0 0.0 … 0.0 0.0]\n",
       "\n",
       "[1.0 0.0 … 0.0 0.0]  …  [0.0 0.0 … 0.0 0.0; 0.0 0.0 … 0.0 0.0; 0.0 0.0 … 0.0 0.0]\n",
       "\n",
       "[0.0 0.0 … 0.0 0.0; 0.0 0.0 … 0.0 0.0; 0.0 0.0 … 0.0 0.0]\n",
       "\n",
       "[0.0 0.0 … 0.0 0.0; 1.0 0.0 … 0.0 0.0; 0.0 0.0 … 0.0 0.0]\n",
       "\n",
       "[0.0 1.0 … 0.0 0.0; 1.0 1.0 … 0.0 0.0; 0.0 1.0 … 0.0 0.0]\n",
       "\n",
       "[0.0 1.0 … 0.0 0.0; 0.0 0.0 … 0.0 0.0; 0.0 0.0 … 0.0 0.0]\n",
       "\n",
       "[1.0 0.0 … 0.0 0.0; 1.0 1.0 … 0.0 0.0; 1.0 1.0 … 0.0 0.0]\n",
       "\n",
       "[0.0 1.0 … 0.0 0.0; 0.0 1.0 … 0.0 0.0; 1.0 0.0 … 0.0 0.0]\n",
       "\n",
       "[1.0 0.0 … 0.0 0.0; 1.0 1.0 … 0.0 0.0; 1.0 0.0 … 0.0 0.0]\n",
       "\n",
       "[0.0 1.0 … 0.0 0.0; 0.0 1.0 … 0.0 0.0; 1.0 1.0 … 0.0 0.0]\n",
       "\n",
       "[0.0 0.0 … 0.0 0.0; 0.0 1.0 … 0.0 0.0; 1.0 1.0 … 1.0 0.0], [0.0 0.0 … 0.0 0.0; 0.0 0.0 … 0.0 0.0; 0.0 0.0 … 0.0 0.0]\n",
       "\n",
       "[1.0 0.0 … 0.0 0.0; 1.0 0.0 … 0.0 0.0; 0.0 0.0 … 0.0 0.0]\n",
       "\n",
       "[0.0 1.0 … 0.0 0.0; 0.0 1.0 … 0.0 0.0; 0.0 1.0 … 0.0 0.0]\n",
       "\n",
       "[1.0 0.0 … 0.0 0.0; 0.0 1.0 … 0.0 0.0; 1.0 1.0 … 0.0 0.0]\n",
       "\n",
       "[0.0 0.0 … 0.0 0.0; 1.0 0.0 … 0.0 0.0; 0.0 0.0 … 0.0 0.0]\n",
       "\n",
       "[1.0 0.0 … 0.0 0.0; 1.0 1.0 … 0.0 0.0; 1.0 1.0 … 0.0 0.0]\n",
       "\n",
       "[0.0 0.0 … 0.0 0.0; 1.0 0.0 … 0.0 0.0; 1.0 1.0 … 0.0 0.0]\n",
       "\n",
       "[0.0 1.0 … 0.0 0.0; 0.0 0.0 … 0.0 0.0; 0.0 1.0 … 0.0 0.0]\n",
       "\n",
       "[0.0 1.0 … 0.0 0.0; 1.0 1.0 … 0.0 0.0; 1.0 1.0 … 0.0 0.0]\n",
       "\n",
       "[1.0 1.0 … 0.0 0.0; 0.0 1.0 … 1.0 0.0; 1.0 1.0 … 1.0 0.0], [0.0 0.0 … 0.0 0.0; 0.0 0.0 … 0.0 0.0; 0.0 0.0 … 0.0 0.0; 0.0 0.0 … 0.0 0.0]\n",
       "\n",
       "[1.0 0.0 … 0.0 0.0; 0.0 0.0 … 0.0 0.0; 0.0 0.0 … 0.0 0.0; 0.0 0.0 … 0.0 0.0]\n",
       "\n",
       "[0.0 0.0 … 0.0 0.0; 1.0 0.0 … 0.0 0.0; 1.0 1.0 … 0.0 0.0; 0.0 1.0 … 0.0 0.0]\n",
       "\n",
       "[0.0 0.0 … 0.0 0.0; 0.0 0.0 … 0.0 0.0; 0.0 0.0 … 0.0 0.0; 1.0 1.0 … 0.0 0.0]\n",
       "\n",
       "[0.0 0.0 … 0.0 0.0; 0.0 0.0 … 0.0 0.0; 0.0 0.0 … 0.0 0.0; 0.0 0.0 … 0.0 0.0]\n",
       "\n",
       "[1.0 1.0 … 0.0 0.0; 0.0 0.0 … 0.0 0.0; 1.0 1.0 … 0.0 0.0; 1.0 0.0 … 0.0 0.0]\n",
       "\n",
       "[1.0 0.0 … 0.0 0.0; 0.0 1.0 … 0.0 0.0; 1.0 0.0 … 0.0 0.0; 1.0 1.0 … 0.0 0.0]\n",
       "\n",
       "[1.0 0.0 … 0.0 0.0; 0.0 1.0 … 0.0 0.0; 0.0 0.0 … 0.0 0.0; 1.0 1.0 … 0.0 0.0]\n",
       "\n",
       "[0.0 0.0 … 0.0 0.0; 0.0 1.0 … 0.0 0.0; 0.0 1.0 … 0.0 0.0; 1.0 1.0 … 0.0 0.0]\n",
       "\n",
       "[0.0 1.0 … 0.0 0.0; 1.0 1.0 … 1.0 0.0; 0.0 1.0 … 1.0 0.0; 1.0 1.0 … 1.0 0.0], [0.0 0.0 … 0.0 0.0; 0.0 0.0 … 0.0 0.0; 0.0 0.0 … 0.0 0.0; 0.0 0.0 … 0.0 0.0]\n",
       "\n",
       "[0.0 0.0 … 0.0 0.0; 0.0 0.0 … 0.0 0.0; 0.0 0.0 … 0.0 0.0; 1.0 0.0 … 0.0 0.0]\n",
       "\n",
       "[0.0 1.0 … 0.0 0.0; 0.0 1.0 … 0.0 0.0; 1.0 1.0 … 0.0 0.0; 1.0 0.0 … 0.0 0.0]\n",
       "\n",
       "[0.0 1.0 … 0.0 0.0; 1.0 1.0 … 0.0 0.0; 1.0 1.0 … 0.0 0.0; 0.0 1.0 … 0.0 0.0]\n",
       "\n",
       "[0.0 0.0 … 0.0 0.0; 1.0 0.0 … 0.0 0.0; 1.0 1.0 … 0.0 0.0; 1.0 1.0 … 0.0 0.0]\n",
       "\n",
       "[0.0 0.0 … 0.0 0.0; 1.0 1.0 … 0.0 0.0; 0.0 0.0 … 0.0 0.0; 1.0 1.0 … 0.0 0.0]\n",
       "\n",
       "[1.0 0.0 … 0.0 0.0; 0.0 1.0 … 0.0 0.0; 0.0 0.0 … 0.0 0.0; 1.0 1.0 … 0.0 0.0]\n",
       "\n",
       "[1.0 1.0 … 0.0 0.0; 1.0 1.0 … 0.0 0.0; 1.0 1.0 … 0.0 0.0; 1.0 0.0 … 0.0 0.0]\n",
       "\n",
       "[0.0 0.0 … 0.0 0.0; 1.0 1.0 … 0.0 0.0; 0.0 1.0 … 0.0 0.0; 1.0 1.0 … 0.0 0.0]\n",
       "\n",
       "[0.0 1.0 … 1.0 0.0; 1.0 1.0 … 0.0 0.0; 0.0 1.0 … 0.0 0.0; 1.0 1.0 … 1.0 0.0], [0.0 0.0 … 0.0 0.0; 0.0 0.0 … 0.0 0.0; 0.0 0.0 … 0.0 0.0]\n",
       "\n",
       "[0.0 0.0 … 0.0 0.0; 1.0 0.0 … 0.0 0.0; 1.0 0.0 … 0.0 0.0]\n",
       "\n",
       "[1.0 0.0 … 0.0 0.0; 0.0 1.0 … 0.0 0.0; 0.0 1.0 … 0.0 0.0]\n",
       "\n",
       "[1.0 0.0 … 0.0 0.0; 1.0 1.0 … 0.0 0.0; 1.0 1.0 … 0.0 0.0]\n",
       "\n",
       "[0.0 1.0 … 0.0 0.0; 0.0 1.0 … 0.0 0.0; 0.0 1.0 … 0.0 0.0]\n",
       "\n",
       "[0.0 0.0 … 0.0 0.0; 0.0 0.0 … 0.0 0.0; 1.0 0.0 … 0.0 0.0]\n",
       "\n",
       "[1.0 1.0 … 0.0 0.0; 1.0 1.0 … 0.0 0.0; 1.0 1.0 … 0.0 0.0]\n",
       "\n",
       "[0.0 0.0 … 0.0 0.0; 0.0 1.0 … 0.0 0.0; 1.0 1.0 … 0.0 0.0]\n",
       "\n",
       "[0.0 0.0 … 0.0 0.0; 0.0 1.0 … 0.0 0.0; 0.0 1.0 … 0.0 0.0]\n",
       "\n",
       "[1.0 0.0 … 0.0 0.0; 0.0 0.0 … 1.0 0.0; 1.0 1.0 … 0.0 0.0], [0.0 0.0 … 0.0 0.0; 0.0 0.0 … 0.0 0.0; 0.0 0.0 … 0.0 0.0]\n",
       "\n",
       "[1.0 0.0 … 0.0 0.0; 1.0 0.0 … 0.0 0.0; 0.0 0.0 … 0.0 0.0]\n",
       "\n",
       "[1.0 1.0 … 0.0 0.0; 0.0 1.0 … 0.0 0.0; 0.0 0.0 … 0.0 0.0]\n",
       "\n",
       "[0.0 1.0 … 0.0 0.0; 0.0 0.0 … 0.0 0.0; 1.0 1.0 … 0.0 0.0]\n",
       "\n",
       "[0.0 0.0 … 0.0 0.0; 1.0 1.0 … 0.0 0.0; 1.0 1.0 … 0.0 0.0]\n",
       "\n",
       "[1.0 0.0 … 0.0 0.0; 1.0 1.0 … 0.0 0.0; 1.0 1.0 … 0.0 0.0]\n",
       "\n",
       "[0.0 1.0 … 0.0 0.0; 1.0 0.0 … 0.0 0.0; 1.0 1.0 … 0.0 0.0]\n",
       "\n",
       "[0.0 0.0 … 0.0 0.0; 1.0 1.0 … 0.0 0.0; 1.0 1.0 … 0.0 0.0]\n",
       "\n",
       "[0.0 0.0 … 0.0 0.0; 0.0 1.0 … 0.0 0.0; 1.0 1.0 … 0.0 0.0]\n",
       "\n",
       "[0.0 0.0 … 0.0 0.0; 1.0 1.0 … 1.0 0.0; 1.0 1.0 … 1.0 0.0], [0.0 0.0 … 0.0 0.0; 0.0 0.0 … 0.0 0.0; 0.0 0.0 … 0.0 0.0; 0.0 0.0 … 0.0 0.0]\n",
       "\n",
       "[1.0 0.0 … 0.0 0.0; 1.0 0.0 … 0.0 0.0; 1.0 0.0 … 0.0 0.0; 0.0 0.0 … 0.0 0.0]\n",
       "\n",
       "[0.0 0.0 … 0.0 0.0; 0.0 1.0 … 0.0 0.0; 1.0 1.0 … 0.0 0.0; 1.0 1.0 … 0.0 0.0]\n",
       "\n",
       "[0.0 1.0 … 0.0 0.0; 1.0 0.0 … 0.0 0.0; 1.0 1.0 … 0.0 0.0; 1.0 1.0 … 0.0 0.0]\n",
       "\n",
       "[0.0 1.0 … 0.0 0.0; 1.0 1.0 … 0.0 0.0; 1.0 1.0 … 0.0 0.0; 1.0 1.0 … 0.0 0.0]\n",
       "\n",
       "[1.0 0.0 … 0.0 0.0; 1.0 0.0 … 0.0 0.0; 1.0 1.0 … 0.0 0.0; 1.0 1.0 … 0.0 0.0]\n",
       "\n",
       "[0.0 0.0 … 0.0 0.0; 1.0 1.0 … 0.0 0.0; 0.0 0.0 … 0.0 0.0; 1.0 0.0 … 0.0 0.0]\n",
       "\n",
       "[0.0 0.0 … 0.0 0.0; 0.0 0.0 … 0.0 0.0; 0.0 0.0 … 0.0 0.0; 1.0 0.0 … 0.0 0.0]\n",
       "\n",
       "[0.0 0.0 … 0.0 0.0; 0.0 1.0 … 0.0 0.0; 1.0 0.0 … 0.0 0.0; 1.0 1.0 … 0.0 0.0]\n",
       "\n",
       "[0.0 1.0 … 0.0 0.0; 0.0 1.0 … 1.0 0.0; 1.0 1.0 … 1.0 0.0; 1.0 0.0 … 1.0 0.0], [0.0 0.0 … 0.0 0.0; 0.0 0.0 … 0.0 0.0; 0.0 0.0 … 0.0 0.0; 0.0 0.0 … 0.0 0.0]\n",
       "\n",
       "[0.0 0.0 … 0.0 0.0; 0.0 0.0 … 0.0 0.0; 0.0 0.0 … 0.0 0.0; 1.0 0.0 … 0.0 0.0]\n",
       "\n",
       "[0.0 1.0 … 0.0 0.0; 0.0 1.0 … 0.0 0.0; 1.0 0.0 … 0.0 0.0; 1.0 0.0 … 0.0 0.0]\n",
       "\n",
       "[0.0 0.0 … 0.0 0.0; 0.0 1.0 … 0.0 0.0; 1.0 1.0 … 0.0 0.0; 1.0 1.0 … 0.0 0.0]\n",
       "\n",
       "[0.0 1.0 … 0.0 0.0; 0.0 0.0 … 0.0 0.0; 0.0 0.0 … 0.0 0.0; 1.0 1.0 … 0.0 0.0]\n",
       "\n",
       "[0.0 1.0 … 0.0 0.0; 0.0 1.0 … 0.0 0.0; 1.0 1.0 … 0.0 0.0; 1.0 1.0 … 0.0 0.0]\n",
       "\n",
       "[1.0 1.0 … 0.0 0.0; 1.0 0.0 … 0.0 0.0; 1.0 0.0 … 0.0 0.0; 1.0 1.0 … 0.0 0.0]\n",
       "\n",
       "[1.0 0.0 … 0.0 0.0; 0.0 1.0 … 0.0 0.0; 1.0 0.0 … 0.0 0.0; 1.0 1.0 … 0.0 0.0]\n",
       "\n",
       "[0.0 1.0 … 0.0 0.0; 0.0 1.0 … 0.0 0.0; 1.0 1.0 … 0.0 0.0; 0.0 1.0 … 0.0 0.0]\n",
       "\n",
       "[0.0 0.0 … 0.0 0.0; 0.0 1.0 … 0.0 0.0; 1.0 1.0 … 1.0 0.0; 1.0 1.0 … 0.0 0.0], [0.0 0.0 … 0.0 0.0; 0.0 0.0 … 0.0 0.0; 0.0 0.0 … 0.0 0.0]\n",
       "\n",
       "[0.0 0.0 … 0.0 0.0; 1.0 0.0 … 0.0 0.0; 1.0 0.0 … 0.0 0.0]\n",
       "\n",
       "[0.0 1.0 … 0.0 0.0; 0.0 0.0 … 0.0 0.0; 1.0 1.0 … 0.0 0.0]\n",
       "\n",
       "[0.0 0.0 … 0.0 0.0; 0.0 1.0 … 0.0 0.0; 0.0 1.0 … 0.0 0.0]\n",
       "\n",
       "[0.0 0.0 … 0.0 0.0; 0.0 1.0 … 0.0 0.0; 0.0 1.0 … 0.0 0.0]\n",
       "\n",
       "[0.0 1.0 … 0.0 0.0; 1.0 1.0 … 0.0 0.0; 1.0 1.0 … 0.0 0.0]\n",
       "\n",
       "[0.0 1.0 … 0.0 0.0; 0.0 0.0 … 0.0 0.0; 0.0 0.0 … 0.0 0.0]\n",
       "\n",
       "[0.0 1.0 … 0.0 0.0; 0.0 1.0 … 0.0 0.0; 1.0 1.0 … 0.0 0.0]\n",
       "\n",
       "[1.0 0.0 … 0.0 0.0; 0.0 0.0 … 0.0 0.0; 0.0 1.0 … 0.0 0.0]\n",
       "\n",
       "[0.0 1.0 … 1.0 0.0; 1.0 1.0 … 1.0 0.0; 1.0 1.0 … 1.0 0.0], [0.0 0.0 … 0.0 0.0; 0.0 0.0 … 0.0 0.0; 0.0 0.0 … 0.0 0.0]\n",
       "\n",
       "[0.0 0.0 … 0.0 0.0; 0.0 0.0 … 0.0 0.0; 0.0 0.0 … 0.0 0.0]\n",
       "\n",
       "[1.0 0.0 … 0.0 0.0; 0.0 0.0 … 0.0 0.0; 1.0 1.0 … 0.0 0.0]\n",
       "\n",
       "[0.0 0.0 … 0.0 0.0; 0.0 0.0 … 0.0 0.0; 1.0 1.0 … 0.0 0.0]\n",
       "\n",
       "[0.0 1.0 … 0.0 0.0; 0.0 1.0 … 0.0 0.0; 1.0 1.0 … 0.0 0.0]\n",
       "\n",
       "[1.0 0.0 … 0.0 0.0; 1.0 0.0 … 0.0 0.0; 1.0 1.0 … 0.0 0.0]\n",
       "\n",
       "[0.0 0.0 … 0.0 0.0; 1.0 1.0 … 0.0 0.0; 1.0 1.0 … 0.0 0.0]\n",
       "\n",
       "[1.0 0.0 … 0.0 0.0; 0.0 1.0 … 0.0 0.0; 1.0 0.0 … 0.0 0.0]\n",
       "\n",
       "[1.0 0.0 … 0.0 0.0; 1.0 0.0 … 0.0 0.0; 0.0 1.0 … 0.0 0.0]\n",
       "\n",
       "[0.0 1.0 … 0.0 0.0; 1.0 0.0 … 1.0 0.0; 1.0 1.0 … 1.0 0.0]], Bool[0, 0, 1, 1, 0, 1, 1, 0, 0, 0  …  1, 1, 1, 1, 1, 1, 1, 1, 1, 1])"
      ]
     },
     "execution_count": 189,
     "metadata": {},
     "output_type": "execute_result"
    }
   ],
   "source": [
    "(changepoints, graphs, accept) = pseudo_MCMC(nothing, hyper, y, parMCMC, parPF)"
   ]
  },
  {
   "cell_type": "code",
   "execution_count": 190,
   "metadata": {},
   "outputs": [
    {
     "data": {
      "text/plain": [
       "101-element Array{Any,1}:\n",
       " nothing\n",
       " nothing\n",
       " nothing\n",
       " [41]\n",
       " [28]\n",
       " [28]\n",
       " [66]\n",
       " Any[]\n",
       " Any[]\n",
       " Any[]\n",
       " Any[]\n",
       " Any[]\n",
       " [65]\n",
       " ⋮\n",
       " [45]\n",
       " [34]\n",
       " Any[15, 34]\n",
       " Any[34, 56]\n",
       " Any[20, 34, 56]\n",
       " Any[20, 34, 65]\n",
       " Any[20, 65]\n",
       " Any[20, 41]\n",
       " Any[20, 41, 62]\n",
       " Any[20, 41, 70]\n",
       " Any[20, 70]\n",
       " Any[35, 70]"
      ]
     },
     "execution_count": 190,
     "metadata": {},
     "output_type": "execute_result"
    }
   ],
   "source": [
    "changepoints\n",
    "#[140:160]"
   ]
  },
  {
   "cell_type": "code",
   "execution_count": 192,
   "metadata": {},
   "outputs": [
    {
     "data": {
      "text/plain": [
       "21-element Array{Any,1}:\n",
       " Any[]\n",
       " Any[]\n",
       " Any[]\n",
       " Any[]\n",
       " [23]\n",
       " [41]\n",
       " [41]\n",
       " [52]\n",
       " [52]\n",
       " [59]\n",
       " Any[]\n",
       " [64]\n",
       " [64]\n",
       " [30]\n",
       " Any[]\n",
       " Any[]\n",
       " [16]\n",
       " [38]\n",
       " Any[]\n",
       " [14]\n",
       " [14]"
      ]
     },
     "execution_count": 192,
     "metadata": {},
     "output_type": "execute_result"
    }
   ],
   "source": [
    "changepoints[60:80]"
   ]
  },
  {
   "cell_type": "code",
   "execution_count": 185,
   "metadata": {},
   "outputs": [
    {
     "data": {
      "text/plain": [
       "21-element Array{Any,1}:\n",
       " Any[]\n",
       " [14]\n",
       " [14]\n",
       " [75]\n",
       " [75]\n",
       " [42]\n",
       " Any[15, 42]\n",
       " Any[15, 88]\n",
       " Any[88]\n",
       " [68]\n",
       " Any[]\n",
       " Any[]\n",
       " [31]\n",
       " [23]\n",
       " Any[23, 80]\n",
       " Any[38, 80]\n",
       " Any[24, 38, 80]\n",
       " Any[17, 38, 80]\n",
       " Any[17, 38]\n",
       " Any[38, 84]\n",
       " Any[84]"
      ]
     },
     "execution_count": 185,
     "metadata": {},
     "output_type": "execute_result"
    }
   ],
   "source": [
    "changepoints[180:200]"
   ]
  },
  {
   "cell_type": "code",
   "execution_count": 195,
   "metadata": {},
   "outputs": [
    {
     "data": {
      "text/plain": [
       "10×10 Array{Float64,2}:\n",
       " 0.0  0.0  0.0  0.0  0.0  1.0  1.0  0.0  1.0  1.0\n",
       " 0.0  0.0  0.0  0.0  1.0  0.0  1.0  1.0  0.0  0.0\n",
       " 0.0  0.0  0.0  1.0  1.0  0.0  1.0  1.0  1.0  0.0\n",
       " 0.0  0.0  0.0  0.0  1.0  1.0  0.0  1.0  0.0  0.0\n",
       " 0.0  0.0  0.0  0.0  0.0  1.0  0.0  0.0  0.0  1.0\n",
       " 0.0  0.0  0.0  0.0  0.0  0.0  1.0  0.0  1.0  1.0\n",
       " 0.0  0.0  0.0  0.0  0.0  0.0  0.0  1.0  1.0  1.0\n",
       " 0.0  0.0  0.0  0.0  0.0  0.0  0.0  0.0  1.0  1.0\n",
       " 0.0  0.0  0.0  0.0  0.0  0.0  0.0  0.0  0.0  1.0\n",
       " 0.0  0.0  0.0  0.0  0.0  0.0  0.0  0.0  0.0  0.0"
      ]
     },
     "execution_count": 195,
     "metadata": {},
     "output_type": "execute_result"
    }
   ],
   "source": [
    "G = graphs[101] #graph for m in [1,101] corresponding to mcmc iteration, here m = 101\n",
    "particle101_graph_2 = G[2,:,:]\n"
   ]
  },
  {
   "cell_type": "code",
   "execution_count": 196,
   "metadata": {},
   "outputs": [
    {
     "data": {
      "text/plain": [
       "10×10 Array{Float64,2}:\n",
       " 0.0  0.0  1.0  0.0  0.0  1.0  0.0  1.0  1.0  0.0\n",
       " 0.0  0.0  0.0  0.0  1.0  0.0  0.0  0.0  0.0  1.0\n",
       " 0.0  0.0  0.0  1.0  0.0  1.0  0.0  1.0  1.0  1.0\n",
       " 0.0  0.0  0.0  0.0  1.0  0.0  1.0  1.0  0.0  0.0\n",
       " 0.0  0.0  0.0  0.0  0.0  1.0  1.0  1.0  1.0  0.0\n",
       " 0.0  0.0  0.0  0.0  0.0  0.0  0.0  0.0  0.0  1.0\n",
       " 0.0  0.0  0.0  0.0  0.0  0.0  0.0  0.0  0.0  1.0\n",
       " 0.0  0.0  0.0  0.0  0.0  0.0  0.0  0.0  0.0  0.0\n",
       " 0.0  0.0  0.0  0.0  0.0  0.0  0.0  0.0  0.0  0.0\n",
       " 0.0  0.0  0.0  0.0  0.0  0.0  0.0  0.0  0.0  0.0"
      ]
     },
     "execution_count": 196,
     "metadata": {},
     "output_type": "execute_result"
    }
   ],
   "source": [
    "particle101_graph_1 = G[1,:,:]"
   ]
  },
  {
   "cell_type": "markdown",
   "metadata": {},
   "source": [
    "# 3. Generate data with 3 changepoints"
   ]
  },
  {
   "cell_type": "code",
   "execution_count": 10,
   "metadata": {},
   "outputs": [
    {
     "data": {
      "text/plain": [
       "10×10 Array{Float64,2}:\n",
       " 1.0  0.0  0.0  0.0  0.0  0.0  0.0  0.0  0.0  0.0\n",
       " 0.0  1.0  0.0  0.0  0.0  0.0  0.0  0.0  0.0  0.0\n",
       " 0.0  0.0  1.0  0.0  0.0  0.0  0.0  0.0  0.0  0.0\n",
       " 0.0  0.0  0.0  1.0  0.0  0.0  0.0  0.0  0.0  0.0\n",
       " 0.0  0.0  0.0  0.0  1.0  0.0  0.0  0.0  0.0  0.0\n",
       " 0.0  0.0  0.0  0.0  0.0  1.0  0.0  0.0  0.0  0.0\n",
       " 0.0  0.0  0.0  0.0  0.0  0.0  1.0  0.0  0.0  0.0\n",
       " 0.0  0.0  0.0  0.0  0.0  0.0  0.0  1.0  0.0  0.0\n",
       " 0.0  0.0  0.0  0.0  0.0  0.0  0.0  0.0  1.0  0.0\n",
       " 0.0  0.0  0.0  0.0  0.0  0.0  0.0  0.0  0.0  1.0"
      ]
     },
     "execution_count": 10,
     "metadata": {},
     "output_type": "execute_result"
    }
   ],
   "source": [
    "T = 100\n",
    "n_nodes = 10\n",
    "mean = zeros(n_nodes)\n",
    "#covariance matrix - precision matrix is its inverse which is also identity\n",
    "Id = Matrix(1.0I, n_nodes, n_nodes)"
   ]
  },
  {
   "cell_type": "code",
   "execution_count": 11,
   "metadata": {},
   "outputs": [
    {
     "data": {
      "text/plain": [
       "FullNormal(\n",
       "dim: 10\n",
       "μ: [0.0, 0.0, 0.0, 0.0, 0.0, 0.0, 0.0, 0.0, 0.0, 0.0]\n",
       "Σ: [1.0 0.0 … 0.0 0.0; 0.0 1.0 … 0.0 0.0; … ; 0.0 0.0 … 1.0 0.0; 0.0 0.0 … 0.0 1.0]\n",
       ")\n"
      ]
     },
     "execution_count": 11,
     "metadata": {},
     "output_type": "execute_result"
    }
   ],
   "source": [
    "distr1 = MvNormal(mean, Id)"
   ]
  },
  {
   "cell_type": "code",
   "execution_count": 12,
   "metadata": {},
   "outputs": [
    {
     "data": {
      "text/plain": [
       "0.25"
      ]
     },
     "execution_count": 12,
     "metadata": {},
     "output_type": "execute_result"
    }
   ],
   "source": [
    "Id2c = Id\n",
    "\n",
    "Id2c[3,4] = 1/3\n",
    "Id2c[4,3] = 1/3\n",
    "Id2c[6,7] = 1\n",
    "Id2c[7,6] = 1\n",
    "Id2c[9,8] = 1\n",
    "Id2c[8,9] = 1\n",
    "Id2c[6,8] = 1/4\n",
    "Id2c[8,6] = 1/4\n"
   ]
  },
  {
   "cell_type": "code",
   "execution_count": 13,
   "metadata": {},
   "outputs": [
    {
     "data": {
      "text/plain": [
       "10×10 Array{Float64,2}:\n",
       " 1.0  0.0  0.0       0.0       0.0  0.0     0.0   0.0     0.0   0.0\n",
       " 0.0  1.0  0.0       0.0       0.0  0.0     0.0   0.0     0.0   0.0\n",
       " 0.0  0.0  1.11111   0.666667  0.0  0.0     0.0   0.0     0.0   0.0\n",
       " 0.0  0.0  0.666667  1.11111   0.0  0.0     0.0   0.0     0.0   0.0\n",
       " 0.0  0.0  0.0       0.0       1.0  0.0     0.0   0.0     0.0   0.0\n",
       " 0.0  0.0  0.0       0.0       0.0  2.0625  2.0   0.5     0.25  0.0\n",
       " 0.0  0.0  0.0       0.0       0.0  2.0     2.0   0.25    0.0   0.0\n",
       " 0.0  0.0  0.0       0.0       0.0  0.5     0.25  2.0625  2.0   0.0\n",
       " 0.0  0.0  0.0       0.0       0.0  0.25    0.0   2.0     2.0   0.0\n",
       " 0.0  0.0  0.0       0.0       0.0  0.0     0.0   0.0     0.0   1.0"
      ]
     },
     "execution_count": 13,
     "metadata": {},
     "output_type": "execute_result"
    }
   ],
   "source": [
    "Id2 = Id2c*transpose(Id2c)"
   ]
  },
  {
   "cell_type": "code",
   "execution_count": 14,
   "metadata": {},
   "outputs": [
    {
     "data": {
      "text/plain": [
       "FullNormal(\n",
       "dim: 10\n",
       "μ: [0.0, 0.0, 0.0, 0.0, 0.0, 0.0, 0.0, 0.0, 0.0, 0.0]\n",
       "Σ: [1.0 0.0 … 0.0 0.0; 0.0 1.0 … 0.0 0.0; … ; 0.0 0.0 … 2.0 0.0; 0.0 0.0 … 0.0 1.0]\n",
       ")\n"
      ]
     },
     "execution_count": 14,
     "metadata": {},
     "output_type": "execute_result"
    }
   ],
   "source": [
    "distr2 = MvNormal(mean, Id2)"
   ]
  },
  {
   "cell_type": "code",
   "execution_count": 15,
   "metadata": {},
   "outputs": [
    {
     "data": {
      "text/plain": [
       "1"
      ]
     },
     "execution_count": 15,
     "metadata": {},
     "output_type": "execute_result"
    }
   ],
   "source": [
    "Id3c = Id2c\n",
    "\n",
    "Id3c[3,4] = 0\n",
    "Id3c[4,3] = 0\n",
    "Id3c[5,7] = 1/2\n",
    "Id3c[7,5] = 1/2\n",
    "Id3c[1,8] = 1\n",
    "Id3c[8,1] = 1\n",
    "Id3c[2,8] = 1/3\n",
    "Id3c[8,2] = 1/3\n",
    "Id3c[3,8] = 1\n",
    "Id3c[8,3] = 1"
   ]
  },
  {
   "cell_type": "code",
   "execution_count": 16,
   "metadata": {},
   "outputs": [
    {
     "data": {
      "text/plain": [
       "10×10 Array{Float64,2}:\n",
       " 2.0       0.333333   1.0       0.0  0.0   …  0.0   2.0       1.0       0.0\n",
       " 0.333333  1.11111    0.333333  0.0  0.0      0.0   0.666667  0.333333  0.0\n",
       " 1.0       0.333333   2.0       0.0  0.0      0.0   2.0       1.0       0.0\n",
       " 0.0       0.0        0.0       1.0  0.0      0.0   0.0       0.0       0.0\n",
       " 0.0       0.0        0.0       0.0  1.25     1.0   0.0       0.0       0.0\n",
       " 0.25      0.0833333  0.25      0.0  0.5   …  2.0   0.5       0.25      0.0\n",
       " 0.0       0.0        0.0       0.0  1.0      2.25  0.25      0.0       0.0\n",
       " 2.0       0.666667   2.0       0.0  0.0      0.25  4.17361   2.0       0.0\n",
       " 1.0       0.333333   1.0       0.0  0.0      0.0   2.0       2.0       0.0\n",
       " 0.0       0.0        0.0       0.0  0.0      0.0   0.0       0.0       1.0"
      ]
     },
     "execution_count": 16,
     "metadata": {},
     "output_type": "execute_result"
    }
   ],
   "source": [
    "Id3 = Id3c*transpose(Id3c)"
   ]
  },
  {
   "cell_type": "code",
   "execution_count": 17,
   "metadata": {},
   "outputs": [
    {
     "data": {
      "text/plain": [
       "FullNormal(\n",
       "dim: 10\n",
       "μ: [0.0, 0.0, 0.0, 0.0, 0.0, 0.0, 0.0, 0.0, 0.0, 0.0]\n",
       "Σ: [2.0 0.3333333333333333 … 1.0 0.0; 0.3333333333333333 1.1111111111111112 … 0.3333333333333333 0.0; … ; 1.0 0.3333333333333333 … 2.0 0.0; 0.0 0.0 … 0.0 1.0]\n",
       ")\n"
      ]
     },
     "execution_count": 17,
     "metadata": {},
     "output_type": "execute_result"
    }
   ],
   "source": [
    "distr3 = MvNormal(mean, Id3)"
   ]
  },
  {
   "cell_type": "code",
   "execution_count": 18,
   "metadata": {},
   "outputs": [
    {
     "data": {
      "text/plain": [
       "0"
      ]
     },
     "execution_count": 18,
     "metadata": {},
     "output_type": "execute_result"
    }
   ],
   "source": [
    "Id4c = Id3c\n",
    "\n",
    "Id4c[3,1] = 5\n",
    "Id4c[1,3] = 5\n",
    "Id4c[2,1] = 1\n",
    "Id4c[1,2] = 1\n",
    "Id4c[5,1] = 1\n",
    "Id4c[1,5] = 1\n",
    "Id4c[3,7] = 2\n",
    "Id4c[7,3] = 2\n",
    "Id4c[1,8] = 1\n",
    "Id4c[8,1] = 1\n",
    "Id4c[2,8] = 0\n",
    "Id4c[8,2] = 0\n",
    "Id4c[3,8] = 0\n",
    "Id4c[8,3] = 0"
   ]
  },
  {
   "cell_type": "code",
   "execution_count": 19,
   "metadata": {},
   "outputs": [
    {
     "data": {
      "text/plain": [
       "10×10 Array{Float64,2}:\n",
       " 29.0   2.0  10.0  0.0  2.0   0.25    10.5   2.0     1.0   0.0\n",
       "  2.0   2.0   5.0  0.0  1.0   0.0      0.0   1.0     0.0   0.0\n",
       " 10.0   5.0  30.0  0.0  6.0   2.0      4.0   5.0     0.0   0.0\n",
       "  0.0   0.0   0.0  1.0  0.0   0.0      0.0   0.0     0.0   0.0\n",
       "  2.0   1.0   6.0  0.0  2.25  0.5      1.0   1.0     0.0   0.0\n",
       "  0.25  0.0   2.0  0.0  0.5   2.0625   2.0   0.5     0.25  0.0\n",
       " 10.5   0.0   4.0  0.0  1.0   2.0      6.25  0.25    0.0   0.0\n",
       "  2.0   1.0   5.0  0.0  1.0   0.5      0.25  3.0625  2.0   0.0\n",
       "  1.0   0.0   0.0  0.0  0.0   0.25     0.0   2.0     2.0   0.0\n",
       "  0.0   0.0   0.0  0.0  0.0   0.0      0.0   0.0     0.0   1.0"
      ]
     },
     "execution_count": 19,
     "metadata": {},
     "output_type": "execute_result"
    }
   ],
   "source": [
    "Id4 = Id4c*transpose(Id4c)"
   ]
  },
  {
   "cell_type": "code",
   "execution_count": 20,
   "metadata": {},
   "outputs": [
    {
     "data": {
      "text/plain": [
       "FullNormal(\n",
       "dim: 10\n",
       "μ: [0.0, 0.0, 0.0, 0.0, 0.0, 0.0, 0.0, 0.0, 0.0, 0.0]\n",
       "Σ: [29.0 2.0 … 1.0 0.0; 2.0 2.0 … 0.0 0.0; … ; 1.0 0.0 … 2.0 0.0; 0.0 0.0 … 0.0 1.0]\n",
       ")\n"
      ]
     },
     "execution_count": 20,
     "metadata": {},
     "output_type": "execute_result"
    }
   ],
   "source": [
    "distr4 = MvNormal(mean, Id4)"
   ]
  },
  {
   "cell_type": "code",
   "execution_count": 22,
   "metadata": {},
   "outputs": [],
   "source": [
    "y2 = zeros(T, n_nodes)\n",
    "for i in 1:T\n",
    "    if i < 25\n",
    "        y2[i,1:10] = rand(distr)\n",
    "    elseif i < 50\n",
    "        y2[i,1:10] = rand(distr2)\n",
    "    elseif i < 75\n",
    "        y2[i,1:10] = rand(distr3)\n",
    "    else \n",
    "        y2[i,1:10] = rand(distr4)\n",
    "    end\n",
    "end"
   ]
  },
  {
   "cell_type": "markdown",
   "metadata": {},
   "source": [
    "# 4. Run particle MCMC for data with 4 changepoints"
   ]
  },
  {
   "cell_type": "code",
   "execution_count": 23,
   "metadata": {},
   "outputs": [
    {
     "data": {
      "text/plain": [
       "MCMC_pars(200, 0.5)"
      ]
     },
     "execution_count": 23,
     "metadata": {},
     "output_type": "execute_result"
    }
   ],
   "source": [
    "#parameters\n",
    "\n",
    "hyper = hyper_pars(10, 100, 1.0, 1.0, 3.0, 1.0/3.0, 0.5)\n",
    "#(p = 10, Tau = 100, w = 1, z = 1, delta = 3, tau = 1/3, theta =0.5 )\n",
    "parPF = PF_pars(100, 0.7, 0.001, 3, 1, 100, false)\n",
    "#(N, ESS0, TOL, nE, nM, num_it, Laplace)\n",
    "#changed N from 10 to 1, again to 1000\n",
    "parMCMC = MCMC_pars(200, 0.5)\n",
    "# (M, pB)"
   ]
  },
  {
   "cell_type": "code",
   "execution_count": 32,
   "metadata": {},
   "outputs": [
    {
     "data": {
      "text/plain": [
       "3-element Array{Any,1}:\n",
       " [0.0693359375, 0.13931751251220703, 0.2275710878893733, 0.33091362788854894, 0.4400322061528188, 0.6002573659157329, 0.7728025263310122, 0.9103634967165322]\n",
       " [0.0439453125, 0.12143802642822266, 0.232116243802011, 0.3543477401499331, 0.48612637521698776, 0.5980344009265695, 0.7134424928480426, 0.8181031448742457, 0.9154463837501376]\n",
       " [0.0166015625, 0.05021381378173828, 0.09195246454328299, 0.14072454896722775, 0.19191185610882844, 0.2605677823964573, 0.31761382262173066, 0.3782555629942136, 0.43593693166174263, 0.5025889153228063, 0.5637937948826954, 0.610651883323031, 0.6616017345288061, 0.7138155293964318, 0.7702698878553389, 0.8303945656431994, 0.8893589549313059, 0.9611027575930373]"
      ]
     },
     "execution_count": 32,
     "metadata": {},
     "output_type": "execute_result"
    }
   ],
   "source": [
    "Spr = [50, 80]\n",
    "Y = y2\n",
    "pair = make_pairs(hyper)\n",
    "temps = test_logl_est(Spr, hyper, Y, parPF, pair)"
   ]
  },
  {
   "cell_type": "code",
   "execution_count": 33,
   "metadata": {},
   "outputs": [
    {
     "data": {
      "text/plain": [
       "(-1600.7082477828558, [0.0 0.0 … 0.0 0.0; 0.0 0.0 … 0.0 0.0; 0.0 0.0 … 0.0 0.0]\n",
       "\n",
       "[0.0 0.0 … 0.0 0.0; 0.0 0.0 … 0.0 0.0; 0.0 0.0 … 0.0 0.0]\n",
       "\n",
       "[0.0 0.0 … 0.0 0.0; 1.0 1.0 … 0.0 0.0; 1.0 1.0 … 0.0 0.0]\n",
       "\n",
       "[1.0 1.0 … 0.0 0.0; 0.0 1.0 … 0.0 0.0; 1.0 0.0 … 0.0 0.0]\n",
       "\n",
       "[0.0 1.0 … 0.0 0.0; 0.0 1.0 … 0.0 0.0; 0.0 1.0 … 0.0 0.0]\n",
       "\n",
       "[0.0 1.0 … 0.0 0.0; 1.0 0.0 … 0.0 0.0; 1.0 0.0 … 0.0 0.0]\n",
       "\n",
       "[0.0 0.0 … 0.0 0.0; 1.0 1.0 … 0.0 0.0; 1.0 0.0 … 0.0 0.0]\n",
       "\n",
       "[1.0 1.0 … 0.0 0.0; 1.0 0.0 … 0.0 0.0; 1.0 1.0 … 0.0 0.0]\n",
       "\n",
       "[1.0 0.0 … 0.0 0.0; 0.0 1.0 … 0.0 0.0; 1.0 1.0 … 0.0 0.0]\n",
       "\n",
       "[1.0 1.0 … 0.0 0.0; 1.0 1.0 … 1.0 0.0; 0.0 0.0 … 1.0 0.0])"
      ]
     },
     "execution_count": 33,
     "metadata": {},
     "output_type": "execute_result"
    }
   ],
   "source": [
    "(logl_pr, G_pr) = logl_est(Spr, hyper, Y, parPF, temps, pair)"
   ]
  },
  {
   "cell_type": "code",
   "execution_count": 25,
   "metadata": {},
   "outputs": [
    {
     "data": {
      "text/plain": [
       "-1438.7150025684562"
      ]
     },
     "execution_count": 25,
     "metadata": {},
     "output_type": "execute_result"
    }
   ],
   "source": [
    "logl_pr"
   ]
  },
  {
   "cell_type": "code",
   "execution_count": 24,
   "metadata": {},
   "outputs": [
    {
     "name": "stdout",
     "output_type": "stream",
     "text": [
      "Sc = nothing\n",
      "P(Y|Sc) = 0.0\n",
      "Graph = [0.0 0.0 1.0 1.0 0.0 1.0 1.0 0.0 0.0 1.0; 0.0 0.0 1.0 1.0 0.0 0.0 0.0 0.0 0.0 0.0; 0.0 0.0 0.0 1.0 1.0 0.0 1.0 1.0 0.0 0.0; 0.0 0.0 0.0 0.0 0.0 0.0 1.0 0.0 0.0 0.0; 0.0 0.0 0.0 0.0 0.0 0.0 1.0 1.0 0.0 0.0; 0.0 0.0 0.0 0.0 0.0 0.0 1.0 0.0 0.0 0.0; 0.0 0.0 0.0 0.0 0.0 0.0 0.0 0.0 0.0 0.0; 0.0 0.0 0.0 0.0 0.0 0.0 0.0 0.0 1.0 0.0; 0.0 0.0 0.0 0.0 0.0 0.0 0.0 0.0 0.0 0.0; 0.0 0.0 0.0 0.0 0.0 0.0 0.0 0.0 0.0 0.0]\n",
      "proposal Spr = [56]\n",
      "proposal type = Birth\n",
      "P(Y|Spr) =0.0\n",
      "acceptance probability = 3.786028602912884e9\n",
      "accepted\n",
      "proposal Spr = [43]\n",
      "proposal type = Move\n",
      "P(Y|Spr) =0.0\n",
      "acceptance probability = 1.0242249315025374e-9\n",
      "rejected\n",
      "proposal Spr = Any[20, 56]\n",
      "proposal type = Birth\n",
      "P(Y|Spr) =0.0\n",
      "acceptance probability = 2.822617677520882e-21\n",
      "rejected\n",
      "proposal Spr = [28]\n",
      "proposal type = Move\n",
      "P(Y|Spr) =0.0\n",
      "acceptance probability = 0.00018450085984617534\n",
      "rejected\n",
      "proposal Spr = Any[]\n",
      "proposal type = Death\n",
      "P(Y|Spr) =0.0\n",
      "acceptance probability = 1.1696457225269763e-8\n",
      "rejected\n",
      "proposal Spr = [85]\n",
      "proposal type = Move\n",
      "P(Y|Spr) =0.0\n",
      "acceptance probability = 1.3027223980195085e-38\n",
      "rejected\n",
      "proposal Spr = Any[20, 56]\n",
      "proposal type = Birth\n",
      "P(Y|Spr) =0.0\n",
      "acceptance probability = 1.5963709405490028e-17\n",
      "rejected\n",
      "proposal Spr = [45]\n",
      "proposal type = Move\n",
      "P(Y|Spr) =0.0\n",
      "acceptance probability = 2.2214740457413376e-5\n",
      "rejected\n",
      "proposal Spr = Any[56, 85]\n",
      "proposal type = Birth\n",
      "P(Y|Spr) =0.0\n",
      "acceptance probability = 1.1566450139825835e-43\n",
      "rejected\n",
      "proposal Spr = [25]\n",
      "proposal type = Move\n",
      "P(Y|Spr) =0.0\n",
      "acceptance probability = 6.015116247822778e-7\n",
      "rejected\n",
      "proposal Spr = Any[56, 87]\n",
      "proposal type = Birth\n",
      "P(Y|Spr) =0.0\n",
      "acceptance probability = 7.749621403622988e-42\n",
      "rejected\n",
      "proposal Spr = [76]\n",
      "proposal type = Move\n",
      "P(Y|Spr) =0.0\n",
      "acceptance probability = 4.314525815893883e-5\n",
      "rejected\n",
      "proposal Spr = Any[]\n",
      "proposal type = Death\n",
      "P(Y|Spr) =0.0\n",
      "acceptance probability = 7.117183709034178e-11\n",
      "rejected\n",
      "proposal Spr = [38]\n",
      "proposal type = Move\n",
      "P(Y|Spr) =0.0\n",
      "acceptance probability = 2.829303255827099e-8\n",
      "rejected\n",
      "proposal Spr = Any[31, 56]\n",
      "proposal type = Birth\n",
      "P(Y|Spr) =0.0\n",
      "acceptance probability = 3.4691133379430364e-26\n",
      "rejected\n",
      "proposal Spr = [59]\n",
      "proposal type = Move\n",
      "P(Y|Spr) =0.0\n",
      "acceptance probability = 0.000248188265658372\n",
      "rejected\n",
      "proposal Spr = Any[39, 56]\n",
      "proposal type = Birth\n",
      "P(Y|Spr) =0.0\n",
      "acceptance probability = 1.9256727275798906e-31\n",
      "rejected\n",
      "proposal Spr = [45]\n",
      "proposal type = Move\n"
     ]
    },
    {
     "ename": "LoadError",
     "evalue": "InterruptException:",
     "output_type": "error",
     "traceback": [
      "InterruptException:",
      "",
      "Stacktrace:",
      " [1] Array at ./boot.jl:408 [inlined]",
      " [2] Array at ./boot.jl:416 [inlined]",
      " [3] similar at ./array.jl:380 [inlined]",
      " [4] *(::Array{Float64,2}, ::Array{Float64,2}) at /Users/julia/buildbot/worker/package_macos64/build/usr/share/julia/stdlib/v1.5/LinearAlgebra/src/matmul.jl:160",
      " [5] normalising_constant_mc(::BitArray{2}, ::Float64, ::Symmetric{Float64,Array{Float64,2}}, ::Int64) at /Users/karolinagrzeszkiewicz/Desktop/stat_comp_research/dynamic_graphical_models_mcmc/normalising_constant_mc.jl:30",
      " [6] logIno(::Array{BitArray{2},1}, ::Float64, ::Array{Array{Float64,2},1}, ::Int64) at /Users/karolinagrzeszkiewicz/Desktop/stat_comp_research/dynamic_graphical_models_mcmc/particle_MCMC.jl:1366",
      " [7] log_Iota(::BitArray{3}, ::Float64, ::Array{Float64,2}, ::Int64, ::Bool) at /Users/karolinagrzeszkiewicz/Desktop/stat_comp_research/dynamic_graphical_models_mcmc/particle_MCMC.jl:1236",
      " [8] logp_GY(::BitArray{3}, ::hyper_pars, ::PF_pars, ::Array{Float64,2}) at /Users/karolinagrzeszkiewicz/Desktop/stat_comp_research/dynamic_graphical_models_mcmc/particle_MCMC.jl:1011",
      " [9] mutate(::Array{Int64,3}, ::Array{Int64,3}, ::Float64, ::hyper_pars, ::PF_pars, ::Array{Float64,1}, ::Array{Float64,1}, ::Array{Float64,2}, ::Bool, ::Array{Array{Int64,1},1}) at /Users/karolinagrzeszkiewicz/Desktop/stat_comp_research/dynamic_graphical_models_mcmc/particle_MCMC.jl:1109",
      " [10] test_logl_est(::Array{Int64,1}, ::hyper_pars, ::Array{Float64,2}, ::PF_pars, ::Array{Array{Int64,1},1}) at /Users/karolinagrzeszkiewicz/Desktop/stat_comp_research/dynamic_graphical_models_mcmc/particle_MCMC.jl:246",
      " [11] pseudo_MCMC(::Nothing, ::hyper_pars, ::Array{Float64,2}, ::MCMC_pars, ::PF_pars) at /Users/karolinagrzeszkiewicz/Desktop/stat_comp_research/dynamic_graphical_models_mcmc/particle_MCMC.jl:93",
      " [12] top-level scope at In[24]:1",
      " [13] include_string(::Function, ::Module, ::String, ::String) at ./loading.jl:1091",
      " [14] execute_code(::String, ::String) at /Users/karolinagrzeszkiewicz/.julia/packages/IJulia/a1SNk/src/execute_request.jl:27",
      " [15] execute_request(::ZMQ.Socket, ::IJulia.Msg) at /Users/karolinagrzeszkiewicz/.julia/packages/IJulia/a1SNk/src/execute_request.jl:86",
      " [16] #invokelatest#1 at ./essentials.jl:710 [inlined]",
      " [17] invokelatest at ./essentials.jl:709 [inlined]",
      " [18] eventloop(::ZMQ.Socket) at /Users/karolinagrzeszkiewicz/.julia/packages/IJulia/a1SNk/src/eventloop.jl:8",
      " [19] (::IJulia.var\"#15#18\")() at ./task.jl:356"
     ]
    }
   ],
   "source": [
    "(changepoints, graphs, accept) = pseudo_MCMC(nothing, hyper, y2, parMCMC, parPF)"
   ]
  },
  {
   "cell_type": "code",
   "execution_count": 172,
   "metadata": {},
   "outputs": [
    {
     "data": {
      "text/plain": [
       "21-element Array{Any,1}:\n",
       " Any[]\n",
       " [31]\n",
       " Any[]\n",
       " [75]\n",
       " [75]\n",
       " [44]\n",
       " Any[]\n",
       " [78]\n",
       " [78]\n",
       " [82]\n",
       " Any[]\n",
       " Any[]\n",
       " Any[]\n",
       " Any[]\n",
       " [18]\n",
       " [38]\n",
       " [38]\n",
       " [72]\n",
       " Any[]\n",
       " [32]\n",
       " [32]"
      ]
     },
     "execution_count": 172,
     "metadata": {},
     "output_type": "execute_result"
    }
   ],
   "source": [
    "changepoints[140:160]"
   ]
  },
  {
   "cell_type": "code",
   "execution_count": 171,
   "metadata": {},
   "outputs": [
    {
     "data": {
      "text/plain": [
       "21-element Array{Any,1}:\n",
       " [32]\n",
       " [66]\n",
       " Any[]\n",
       " Any[]\n",
       " Any[]\n",
       " Any[]\n",
       " Any[]\n",
       " Any[]\n",
       " Any[]\n",
       " Any[]\n",
       " Any[]\n",
       " Any[]\n",
       " Any[]\n",
       " Any[]\n",
       " Any[]\n",
       " [17]\n",
       " [17]\n",
       " [30]\n",
       " Any[]\n",
       " Any[]\n",
       " [58]"
      ]
     },
     "execution_count": 171,
     "metadata": {},
     "output_type": "execute_result"
    }
   ],
   "source": [
    "changepoints[160:180]"
   ]
  },
  {
   "cell_type": "code",
   "execution_count": 170,
   "metadata": {},
   "outputs": [
    {
     "data": {
      "text/plain": [
       "22-element Array{Any,1}:\n",
       " [58]\n",
       " [65]\n",
       " [65]\n",
       " [43]\n",
       " Any[]\n",
       " Any[]\n",
       " Any[]\n",
       " Any[]\n",
       " Any[]\n",
       " Any[]\n",
       " [37]\n",
       " [55]\n",
       " Any[26, 55]\n",
       " Any[26, 50]\n",
       " Any[26, 50]\n",
       " Any[50, 82]\n",
       " Any[82]\n",
       " [34]\n",
       " Any[]\n",
       " Any[]\n",
       " [45]\n",
       " [51]"
      ]
     },
     "execution_count": 170,
     "metadata": {},
     "output_type": "execute_result"
    }
   ],
   "source": [
    "changepoints[180:201]"
   ]
  },
  {
   "cell_type": "code",
   "execution_count": 173,
   "metadata": {},
   "outputs": [
    {
     "data": {
      "text/plain": [
       "10×10 Array{Float64,2}:\n",
       " 0.0  1.0  1.0  0.0  1.0  1.0  1.0  0.0  1.0  1.0\n",
       " 0.0  0.0  1.0  0.0  1.0  1.0  1.0  0.0  1.0  1.0\n",
       " 0.0  0.0  0.0  0.0  1.0  1.0  1.0  1.0  1.0  1.0\n",
       " 0.0  0.0  0.0  0.0  1.0  1.0  1.0  1.0  0.0  1.0\n",
       " 0.0  0.0  0.0  0.0  0.0  1.0  1.0  1.0  0.0  1.0\n",
       " 0.0  0.0  0.0  0.0  0.0  0.0  1.0  1.0  0.0  0.0\n",
       " 0.0  0.0  0.0  0.0  0.0  0.0  0.0  0.0  1.0  1.0\n",
       " 0.0  0.0  0.0  0.0  0.0  0.0  0.0  0.0  1.0  0.0\n",
       " 0.0  0.0  0.0  0.0  0.0  0.0  0.0  0.0  0.0  1.0\n",
       " 0.0  0.0  0.0  0.0  0.0  0.0  0.0  0.0  0.0  0.0"
      ]
     },
     "execution_count": 173,
     "metadata": {},
     "output_type": "execute_result"
    }
   ],
   "source": [
    "(graphs[1])[1,:,:]"
   ]
  },
  {
   "cell_type": "markdown",
   "metadata": {},
   "source": [
    "# Compute marginal probabilities of edge inclusion"
   ]
  },
  {
   "cell_type": "code",
   "execution_count": 56,
   "metadata": {},
   "outputs": [],
   "source": [
    "#compute marginal probabilities of edge inclusion\n",
    "#M = parMCMC.M\n",
    "#N = parPF.N\n",
    "#pairs = make_pairs(hyper)\n",
    "#probs = zeros(45)\n",
    "\n",
    "#G0 = zeros(10,10)\n",
    "\n",
    "#for m in 1:(M+1) \n",
    "#    gm = graphs[m]\n",
    "#    for n in 1:N\n",
    "#        g0 = gm[1,n,:,:]\n",
    "#        G0 = G0 .+ g0  \n",
    "#    end\n",
    "#end\n",
    "\n",
    "#G0 / ((M+1)*N)\n",
    "\n"
   ]
  },
  {
   "cell_type": "markdown",
   "metadata": {},
   "source": [
    "# Run logl_est to get graphs given changepoints for no changepoints"
   ]
  },
  {
   "cell_type": "code",
   "execution_count": 57,
   "metadata": {},
   "outputs": [
    {
     "data": {
      "text/plain": [
       "(8.199181265175042e-8, [0.0 0.0 … 0.0 0.0]\n",
       "\n",
       "[1.0 0.0 … 0.0 0.0]\n",
       "\n",
       "[0.0 1.0 … 0.0 0.0]\n",
       "\n",
       "[1.0 0.0 … 0.0 0.0]\n",
       "\n",
       "[1.0 1.0 … 0.0 0.0]\n",
       "\n",
       "[1.0 0.0 … 0.0 0.0]\n",
       "\n",
       "[0.0 1.0 … 0.0 0.0]\n",
       "\n",
       "[0.0 1.0 … 0.0 0.0]\n",
       "\n",
       "[0.0 0.0 … 0.0 0.0]\n",
       "\n",
       "[0.0 1.0 … 1.0 0.0])"
      ]
     },
     "execution_count": 57,
     "metadata": {},
     "output_type": "execute_result"
    }
   ],
   "source": [
    "pair = make_pairs(hyper)\n",
    "temp = test_logl_est(nothing, hyper, y, parPF, pair)\n",
    "(logpYS, graphs) = logl_est(nothing, hyper, y, parPF, temp, pair)"
   ]
  },
  {
   "cell_type": "code",
   "execution_count": 59,
   "metadata": {},
   "outputs": [],
   "source": [
    "#marginal probability of edge inclusion\n",
    "#graphs\n",
    "#graphs[1,10,:,:]\n",
    "#G0 = zeros(10,10)\n",
    "\n",
    "\n",
    "#for n in 1:N\n",
    "#    g0 = graphs[1,n,:,:]\n",
    "#    G0 = G0 .+ g0  \n",
    "#end\n",
    "\n",
    "\n",
    "#G0 / N"
   ]
  },
  {
   "cell_type": "code",
   "execution_count": null,
   "metadata": {},
   "outputs": [],
   "source": []
  }
 ],
 "metadata": {
  "kernelspec": {
   "display_name": "JuliaPro_v1.5.3-1 1.5.3",
   "language": "julia",
   "name": "juliapro_v1.5.3-1-1.5"
  },
  "language_info": {
   "file_extension": ".jl",
   "mimetype": "application/julia",
   "name": "julia",
   "version": "1.5.3"
  }
 },
 "nbformat": 4,
 "nbformat_minor": 4
}
